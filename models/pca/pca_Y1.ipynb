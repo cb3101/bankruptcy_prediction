{
  "nbformat": 4,
  "nbformat_minor": 0,
  "metadata": {
    "colab": {
      "name": "pretty_new_pca_1.ipynb",
      "provenance": [],
      "toc_visible": true
    },
    "kernelspec": {
      "name": "python3",
      "display_name": "Python 3"
    },
    "language_info": {
      "name": "python"
    }
  },
  "cells": [
    {
      "cell_type": "code",
      "metadata": {
        "id": "GPknB-Lr-Uuj"
      },
      "source": [
        "import numpy as np\n",
        "import pandas as pd\n",
        "import matplotlib.pyplot as plt\n",
        "from scipy.io.arff import loadarff\n",
        "from sklearn.model_selection import train_test_split\n",
        "\n",
        "%matplotlib inline\n",
        "random_state = 2021\n",
        "\n",
        "N = '1'\n",
        "drop_cols = ['Attr21','Attr37', 'Attr7','Attr43','Attr62','Attr32','Attr44','Attr15','Attr19','Attr3','Attr51','Attr4','Attr49','Attr38','Attr60','Attr6']"
      ],
      "execution_count": 1,
      "outputs": []
    },
    {
      "cell_type": "code",
      "metadata": {
        "id": "Z6PoMIo2-eJh"
      },
      "source": [
        "arff = loadarff('1year.arff')\n",
        "df = pd.DataFrame(arff[0])\n",
        "df['class']= df['class'].astype('int')\n",
        "df = df.drop_duplicates()"
      ],
      "execution_count": 2,
      "outputs": []
    },
    {
      "cell_type": "code",
      "metadata": {
        "colab": {
          "base_uri": "https://localhost:8080/",
          "height": 118
        },
        "id": "HbbnTNQa-404",
        "outputId": "dedc7dc1-9688-4c62-8537-3b0199f525ac"
      },
      "source": [
        "df = df.drop(drop_cols,axis='columns')\n",
        "X = df.drop('class',axis='columns')\n",
        "Y = df['class']\n",
        "# (X.shape,Y.shape)\n",
        "\n",
        "X_train, X_test, Y_train, Y_test = train_test_split(\n",
        "    X, Y, test_size=0.25, random_state=random_state,shuffle=True,stratify=Y)\n",
        "\n",
        "display(Y_train.value_counts(), Y_test.value_counts())\n",
        "X_train,Y_train,X_test,Y_test = X_train.to_numpy(),Y_train.to_numpy(),X_test.to_numpy(),Y_test.to_numpy()"
      ],
      "execution_count": 3,
      "outputs": [
        {
          "output_type": "display_data",
          "data": {
            "text/plain": [
              "0    5005\n",
              "1     203\n",
              "Name: class, dtype: int64"
            ]
          },
          "metadata": {
            "tags": []
          }
        },
        {
          "output_type": "display_data",
          "data": {
            "text/plain": [
              "0    1669\n",
              "1      68\n",
              "Name: class, dtype: int64"
            ]
          },
          "metadata": {
            "tags": []
          }
        }
      ]
    },
    {
      "cell_type": "code",
      "metadata": {
        "id": "IuoqkCqL_B9f"
      },
      "source": [
        "from sklearn.impute import SimpleImputer\n",
        "simple_imp = SimpleImputer(missing_values=np.nan, strategy='mean')\n",
        "simple_imp = simple_imp.fit(X_train)\n",
        "X_train_imp = simple_imp.transform(X_train)\n",
        "X_test_imp = simple_imp.transform(X_test)"
      ],
      "execution_count": 4,
      "outputs": []
    },
    {
      "cell_type": "code",
      "metadata": {
        "id": "KdGz9Cez_GZS"
      },
      "source": [
        "from sklearn.decomposition import PCA\n",
        "pca = PCA(n_components=20)\n",
        "pca = pca.fit(X_train_imp)\n",
        "\n",
        "X_train_imp = pca.transform(X_train_imp)\n",
        "X_test_imp = pca.transform(X_test_imp)"
      ],
      "execution_count": 5,
      "outputs": []
    },
    {
      "cell_type": "code",
      "metadata": {
        "id": "KC-xmf3j_KPb"
      },
      "source": [
        "from sklearn.preprocessing import StandardScaler\n",
        "\n",
        "scaler = StandardScaler().fit(X_train_imp)\n",
        "# choose imputer <<comment blocks accordingly>>\n",
        "\n",
        "#### for simple\n",
        "scaled_already = False\n",
        "# X_train_imp = simple_imp.transform(X_train)\n",
        "# X_test_imp = simple_imp.transform(X_test)\n"
      ],
      "execution_count": 6,
      "outputs": []
    },
    {
      "cell_type": "code",
      "metadata": {
        "colab": {
          "base_uri": "https://localhost:8080/"
        },
        "id": "05jrQRHi_NVT",
        "outputId": "2e323552-77e9-40d9-dde5-4eb7cef9b8e0"
      },
      "source": [
        "from sklearn.model_selection import train_test_split\n",
        "from sklearn import metrics\n",
        "\n",
        "from sklearn.linear_model import LogisticRegression\n",
        "from sklearn.discriminant_analysis import LinearDiscriminantAnalysis\n",
        "from sklearn.neighbors import KNeighborsClassifier\n",
        "from sklearn.naive_bayes import GaussianNB\n",
        "from sklearn.tree import DecisionTreeClassifier\n",
        "from sklearn.svm import SVC\n",
        "from sklearn.ensemble import RandomForestClassifier\n",
        "from xgboost import XGBClassifier\n",
        "from sklearn.ensemble import VotingClassifier # Voting Ensemble for Classification\n",
        "\n",
        "from imblearn.over_sampling import SMOTE\n",
        "from imblearn.under_sampling import RandomUnderSampler\n",
        "from imblearn.combine import SMOTEENN\n",
        "\n",
        "from imblearn.pipeline import Pipeline\n",
        "from sklearn.model_selection import GridSearchCV"
      ],
      "execution_count": 7,
      "outputs": [
        {
          "output_type": "stream",
          "text": [
            "/usr/local/lib/python3.7/dist-packages/sklearn/externals/six.py:31: FutureWarning: The module is deprecated in version 0.21 and will be removed in version 0.23 since we've dropped support for Python 2.7. Please rely on the official version of six (https://pypi.org/project/six/).\n",
            "  \"(https://pypi.org/project/six/).\", FutureWarning)\n",
            "/usr/local/lib/python3.7/dist-packages/sklearn/utils/deprecation.py:144: FutureWarning: The sklearn.neighbors.base module is  deprecated in version 0.22 and will be removed in version 0.24. The corresponding classes / functions should instead be imported from sklearn.neighbors. Anything that cannot be imported from sklearn.neighbors is now part of the private API.\n",
            "  warnings.warn(message, FutureWarning)\n"
          ],
          "name": "stderr"
        }
      ]
    },
    {
      "cell_type": "code",
      "metadata": {
        "id": "bNa2ovAp_Psz"
      },
      "source": [
        "def try_all_classifiers(X_train, X_test, y_train, y_test, classifiers, sampling  = None, scaler=None):\n",
        "   \n",
        "    accuracy = [0]*len(classifiers)\n",
        "    f1 = [0]*len(classifiers)\n",
        "    precision = [0]*len(classifiers)\n",
        "    recall = [0]*len(classifiers)\n",
        "    i = 0\n",
        "    \n",
        "    model_pipeline = []\n",
        "    Pipeline([\n",
        "        ('sampling', SMOTE()),\n",
        "        ('classification', LogisticRegression())\n",
        "    ])\n",
        "    \n",
        "    if sampling == \"SMOTE\":\n",
        "        model_pipeline.append(('sampling', SMOTE(sampling_strategy=0.6,random_state=random_state) ))\n",
        "        # X_train, y_train = smote.fit_resample(X_train, y_train)\n",
        "        print(\"SMOTE\")\n",
        "    if sampling == \"RUS\":\n",
        "        model_pipeline.append(('sampling', RandomUnderSampler(sampling_strategy=0.6,random_state=random_state) ))\n",
        "        # X_train, y_train = rus.fit_resample(X_train, y_train)\n",
        "        print(\"RUS\")\n",
        "    if sampling == \"SMOTEENN\":\n",
        "        model_pipeline.append(('sampling', SMOTEENN(sampling_strategy=0.6,random_state=random_state) ))\n",
        "        # X_train, y_train = smoteenn.fit_resample(X_train, y_train)\n",
        "        print(\"SMOTEENN\")    \n",
        "\n",
        "    voting_classifs = []\n",
        "    models_for_voting = [0,3,5,6,7,8]\n",
        "    voting_weights = [1,0.5,1,0.5,1,1]\n",
        "    jj =0 \n",
        "        \n",
        "    for i in range(len(classifiers)):\n",
        "        classif = classifiers[i][0]\n",
        "        pipe_parameters = classifiers[i][2]\n",
        "        y_pred = []\n",
        "        print(classifiers_names[i])\n",
        "        pipeline = Pipeline(model_pipeline+[('classifier',classif)])\n",
        "        \n",
        "        if classifiers[i][1] and not scaled_already:\n",
        "            print(\"\\t- Requires scaling and not scaled. Doing it now...\")\n",
        "            grid = GridSearchCV(pipeline, pipe_parameters, cv=2, scoring=\"f1\",n_jobs=-1,verbose=1)\n",
        "            #grid = grid.fit(X_train, y_train)\n",
        "            grid = grid.fit(scaler.transform(X_train), y_train)\n",
        "\n",
        "            #classif.fit(scaler.transform(X_train), y_train)\n",
        "            #y_pred = classif.predict(scaler.transform(X_test))\n",
        "            \n",
        "            display(grid.best_params_)\n",
        "            classif = grid.best_estimator_\n",
        "            y_pred = grid.predict(scaler.transform(X_test))\n",
        "            #classif.fit(scaler.transform(), )\n",
        "            #y_pred = classif.predict(scaler.transform(X_test))\n",
        "            \n",
        "        else:\n",
        "            grid = GridSearchCV(pipeline, pipe_parameters, cv=2, scoring=\"f1\",n_jobs=-1,verbose=1)\n",
        "            grid.fit(X_train, y_train)\n",
        "            display(grid.best_params_)\n",
        "            classif = grid.best_estimator_\n",
        "            y_pred = grid.predict(X_test)\n",
        "            \n",
        "            #classif.fit(X_train, y_train)\n",
        "            #y_pred = classif.predict(X_test)\n",
        "        \n",
        "        if i in models_for_voting:\n",
        "            print(\"\\t- Adding for voting with weight <\"+str(voting_weights[jj])+\">...\")\n",
        "            jj+=1\n",
        "            voting_classifs.append((\"mod\"+str(i+1),classif))\n",
        "        \n",
        "        accuracy[i] = metrics.accuracy_score(y_test, y_pred)\n",
        "        f1[i] = metrics.f1_score(y_test, y_pred, labels=np.unique(y_pred))\n",
        "        precision[i] = metrics.precision_score(y_test, y_pred)\n",
        "        recall[i] = metrics.recall_score(y_test, y_pred)\n",
        "    \n",
        "    print(\"\\n\\nVoting...\")\n",
        "    # create the ensemble model\n",
        "    ensemble = VotingClassifier(voting_classifs,weights=voting_weights,n_jobs=-1,voting=\"hard\")\n",
        "    ensemble.fit(scaler.transform(X_train), y_train)\n",
        "    y_pred = ensemble.predict(scaler.transform(X_test))\n",
        "    \n",
        "    accuracy.append(metrics.accuracy_score(y_test, y_pred))\n",
        "    f1.append(metrics.f1_score(y_test, y_pred, labels=np.unique(y_pred)))\n",
        "    precision.append(metrics.precision_score(y_test, y_pred))\n",
        "    recall.append(metrics.recall_score(y_test, y_pred))\n",
        "\n",
        "    print(\"Done\")\n",
        "    return accuracy,f1,precision,recall"
      ],
      "execution_count": 9,
      "outputs": []
    },
    {
      "cell_type": "code",
      "metadata": {
        "id": "KCYpY7lI_XSV"
      },
      "source": [
        "classifiers_names = [\"LR\", \"LDA\", \"KNN-5\", \"KNN-10\", \"GNB\", \"DT\", \"SVC\", \"RFC\", \"XGB\",\"Voting\"]\n",
        "\n",
        "classifiers = [(LogisticRegression(max_iter=2048,random_state=random_state),True,\n",
        "                   [\n",
        "                       #{\n",
        "                       # 'classifier__penalty' : ['l1', 'l2'],\n",
        "                       # 'classifier__C' : np.logspace(-8, 4, 16),\n",
        "                       # 'classifier__solver' : ['liblinear']\n",
        "                       # },\n",
        "                        {\n",
        "                        'classifier__penalty' : ['l2','none'],\n",
        "                        'classifier__C' : np.logspace(-8, 4, 16)\n",
        "                        }\n",
        "                   ]),\n",
        "                (LinearDiscriminantAnalysis(),True,\n",
        "                    { 'classifier__solver' : ['svd', 'lsqr', 'eigen'] }),\n",
        "                (KNeighborsClassifier(n_neighbors=5),True,\n",
        "                    {'classifier__weights' : ['uniform','distance'], 'classifier__metric' : ['euclidean', 'manhattan']}), \n",
        "                (KNeighborsClassifier(n_neighbors=10),True,\n",
        "                    {'classifier__weights' : ['uniform','distance'], 'classifier__metric' : ['euclidean', 'manhattan']}),\n",
        "                (GaussianNB(),True,\n",
        "                    {'classifier__var_smoothing': np.logspace(0,-9, num=100)}),\n",
        "                (DecisionTreeClassifier(random_state=random_state),False,\n",
        "                    { 'classifier__criterion':['gini','entropy'],'classifier__max_depth':[4,5,6,7,8,9,10,11,12,15,20,30,40,50,70,90,120,150]} ),\n",
        "                (SVC(random_state=random_state),True,\n",
        "                    [\n",
        "                        {'classifier__C': [ 0.05, 0.1, 1], \n",
        "                         'classifier__gamma': [0.0001, 1],\n",
        "                         'classifier__kernel': ['rbf']},\n",
        "                        {'classifier__C': [ 0.05, 0.1, 1],\n",
        "                         'classifier__kernel': ['linear']}\n",
        "                    ]),\n",
        "                (RandomForestClassifier(random_state=random_state),False,\n",
        "                     { 'classifier__n_estimators': [int(x) for x in np.linspace(start = 128, stop = 512, num = 4)],\n",
        "                       'classifier__max_features': ['auto'],\n",
        "                       'classifier__max_depth':  [int(x) for x in np.linspace(10, 100, num = 2)]+[None],\n",
        "                       'classifier__min_samples_leaf':  [1, 4],\n",
        "                       'classifier__bootstrap': [False]\n",
        "                     }),\n",
        "                (XGBClassifier(use_label_encoder=False),False,\n",
        "                    {\n",
        "                        'classifier__gamma': [0.5, 1, 2, 5],\n",
        "                        'classifier__colsample_bytree': [0.6, 0.8, 1.0],\n",
        "                        'classifier__max_depth': [3, 6]\n",
        "                    }) ]\n",
        "\n"
      ],
      "execution_count": 10,
      "outputs": []
    },
    {
      "cell_type": "code",
      "metadata": {
        "colab": {
          "base_uri": "https://localhost:8080/",
          "height": 1000
        },
        "id": "ccUkvTv6_uk1",
        "outputId": "e675a600-7a54-4e6d-edac-f581665f6595"
      },
      "source": [
        "accuracy,f1,precision,recall = try_all_classifiers(X_train_imp,X_test_imp,Y_train,Y_test, classifiers, scaler=scaler)"
      ],
      "execution_count": 11,
      "outputs": [
        {
          "output_type": "stream",
          "text": [
            "LR\n",
            "\t- Requires scaling and not scaled. Doing it now...\n",
            "Fitting 2 folds for each of 32 candidates, totalling 64 fits\n"
          ],
          "name": "stdout"
        },
        {
          "output_type": "stream",
          "text": [
            "[Parallel(n_jobs=-1)]: Using backend LokyBackend with 2 concurrent workers.\n",
            "[Parallel(n_jobs=-1)]: Done  46 tasks      | elapsed:    5.9s\n",
            "[Parallel(n_jobs=-1)]: Done  64 out of  64 | elapsed:    9.1s finished\n"
          ],
          "name": "stderr"
        },
        {
          "output_type": "display_data",
          "data": {
            "text/plain": [
              "{'classifier__C': 6.309573444801943, 'classifier__penalty': 'l2'}"
            ]
          },
          "metadata": {
            "tags": []
          }
        },
        {
          "output_type": "stream",
          "text": [
            "[Parallel(n_jobs=-1)]: Using backend LokyBackend with 2 concurrent workers.\n"
          ],
          "name": "stderr"
        },
        {
          "output_type": "stream",
          "text": [
            "\t- Adding for voting with weight <1>...\n",
            "LDA\n",
            "\t- Requires scaling and not scaled. Doing it now...\n",
            "Fitting 2 folds for each of 3 candidates, totalling 6 fits\n"
          ],
          "name": "stdout"
        },
        {
          "output_type": "stream",
          "text": [
            "[Parallel(n_jobs=-1)]: Done   6 out of   6 | elapsed:    0.1s finished\n"
          ],
          "name": "stderr"
        },
        {
          "output_type": "display_data",
          "data": {
            "text/plain": [
              "{'classifier__solver': 'svd'}"
            ]
          },
          "metadata": {
            "tags": []
          }
        },
        {
          "output_type": "stream",
          "text": [
            "KNN-5\n",
            "\t- Requires scaling and not scaled. Doing it now...\n"
          ],
          "name": "stdout"
        },
        {
          "output_type": "stream",
          "text": [
            "[Parallel(n_jobs=-1)]: Using backend LokyBackend with 2 concurrent workers.\n"
          ],
          "name": "stderr"
        },
        {
          "output_type": "stream",
          "text": [
            "Fitting 2 folds for each of 4 candidates, totalling 8 fits\n"
          ],
          "name": "stdout"
        },
        {
          "output_type": "stream",
          "text": [
            "[Parallel(n_jobs=-1)]: Done   8 out of   8 | elapsed:    1.9s finished\n"
          ],
          "name": "stderr"
        },
        {
          "output_type": "display_data",
          "data": {
            "text/plain": [
              "{'classifier__metric': 'manhattan', 'classifier__weights': 'uniform'}"
            ]
          },
          "metadata": {
            "tags": []
          }
        },
        {
          "output_type": "stream",
          "text": [
            "KNN-10\n",
            "\t- Requires scaling and not scaled. Doing it now...\n",
            "Fitting 2 folds for each of 4 candidates, totalling 8 fits\n"
          ],
          "name": "stdout"
        },
        {
          "output_type": "stream",
          "text": [
            "[Parallel(n_jobs=-1)]: Using backend LokyBackend with 2 concurrent workers.\n",
            "[Parallel(n_jobs=-1)]: Done   8 out of   8 | elapsed:    2.0s finished\n"
          ],
          "name": "stderr"
        },
        {
          "output_type": "display_data",
          "data": {
            "text/plain": [
              "{'classifier__metric': 'euclidean', 'classifier__weights': 'uniform'}"
            ]
          },
          "metadata": {
            "tags": []
          }
        },
        {
          "output_type": "stream",
          "text": [
            "\t- Adding for voting with weight <0.5>...\n",
            "GNB\n",
            "\t- Requires scaling and not scaled. Doing it now...\n",
            "Fitting 2 folds for each of 100 candidates, totalling 200 fits\n"
          ],
          "name": "stdout"
        },
        {
          "output_type": "stream",
          "text": [
            "/usr/local/lib/python3.7/dist-packages/sklearn/metrics/_classification.py:1272: UndefinedMetricWarning: Precision is ill-defined and being set to 0.0 due to no predicted samples. Use `zero_division` parameter to control this behavior.\n",
            "  _warn_prf(average, modifier, msg_start, len(result))\n",
            "[Parallel(n_jobs=-1)]: Using backend LokyBackend with 2 concurrent workers.\n",
            "[Parallel(n_jobs=-1)]: Done 200 out of 200 | elapsed:    1.0s finished\n"
          ],
          "name": "stderr"
        },
        {
          "output_type": "display_data",
          "data": {
            "text/plain": [
              "{'classifier__var_smoothing': 0.23101297000831597}"
            ]
          },
          "metadata": {
            "tags": []
          }
        },
        {
          "output_type": "stream",
          "text": [
            "[Parallel(n_jobs=-1)]: Using backend LokyBackend with 2 concurrent workers.\n"
          ],
          "name": "stderr"
        },
        {
          "output_type": "stream",
          "text": [
            "DT\n",
            "Fitting 2 folds for each of 36 candidates, totalling 72 fits\n"
          ],
          "name": "stdout"
        },
        {
          "output_type": "stream",
          "text": [
            "[Parallel(n_jobs=-1)]: Done  72 out of  72 | elapsed:    3.1s finished\n"
          ],
          "name": "stderr"
        },
        {
          "output_type": "display_data",
          "data": {
            "text/plain": [
              "{'classifier__criterion': 'gini', 'classifier__max_depth': 7}"
            ]
          },
          "metadata": {
            "tags": []
          }
        },
        {
          "output_type": "stream",
          "text": [
            "[Parallel(n_jobs=-1)]: Using backend LokyBackend with 2 concurrent workers.\n"
          ],
          "name": "stderr"
        },
        {
          "output_type": "stream",
          "text": [
            "\t- Adding for voting with weight <1>...\n",
            "SVC\n",
            "\t- Requires scaling and not scaled. Doing it now...\n",
            "Fitting 2 folds for each of 9 candidates, totalling 18 fits\n"
          ],
          "name": "stdout"
        },
        {
          "output_type": "stream",
          "text": [
            "[Parallel(n_jobs=-1)]: Done  18 out of  18 | elapsed:    5.0s finished\n"
          ],
          "name": "stderr"
        },
        {
          "output_type": "display_data",
          "data": {
            "text/plain": [
              "{'classifier__C': 0.05,\n",
              " 'classifier__gamma': 0.0001,\n",
              " 'classifier__kernel': 'rbf'}"
            ]
          },
          "metadata": {
            "tags": []
          }
        },
        {
          "output_type": "stream",
          "text": [
            "/usr/local/lib/python3.7/dist-packages/sklearn/metrics/_classification.py:1272: UndefinedMetricWarning: Precision is ill-defined and being set to 0.0 due to no predicted samples. Use `zero_division` parameter to control this behavior.\n",
            "  _warn_prf(average, modifier, msg_start, len(result))\n",
            "[Parallel(n_jobs=-1)]: Using backend LokyBackend with 2 concurrent workers.\n"
          ],
          "name": "stderr"
        },
        {
          "output_type": "stream",
          "text": [
            "\t- Adding for voting with weight <0.5>...\n",
            "RFC\n",
            "Fitting 2 folds for each of 24 candidates, totalling 48 fits\n"
          ],
          "name": "stdout"
        },
        {
          "output_type": "stream",
          "text": [
            "[Parallel(n_jobs=-1)]: Done  48 out of  48 | elapsed:  2.2min finished\n"
          ],
          "name": "stderr"
        },
        {
          "output_type": "display_data",
          "data": {
            "text/plain": [
              "{'classifier__bootstrap': False,\n",
              " 'classifier__max_depth': 10,\n",
              " 'classifier__max_features': 'auto',\n",
              " 'classifier__min_samples_leaf': 1,\n",
              " 'classifier__n_estimators': 128}"
            ]
          },
          "metadata": {
            "tags": []
          }
        },
        {
          "output_type": "stream",
          "text": [
            "\t- Adding for voting with weight <1>...\n",
            "XGB\n",
            "Fitting 2 folds for each of 24 candidates, totalling 48 fits\n"
          ],
          "name": "stdout"
        },
        {
          "output_type": "stream",
          "text": [
            "[Parallel(n_jobs=-1)]: Using backend LokyBackend with 2 concurrent workers.\n",
            "[Parallel(n_jobs=-1)]: Done  48 out of  48 | elapsed:   19.1s finished\n"
          ],
          "name": "stderr"
        },
        {
          "output_type": "display_data",
          "data": {
            "text/plain": [
              "{'classifier__colsample_bytree': 1.0,\n",
              " 'classifier__gamma': 2,\n",
              " 'classifier__max_depth': 6}"
            ]
          },
          "metadata": {
            "tags": []
          }
        },
        {
          "output_type": "stream",
          "text": [
            "\t- Adding for voting with weight <1>...\n",
            "\n",
            "\n",
            "Voting...\n",
            "Done\n"
          ],
          "name": "stdout"
        }
      ]
    },
    {
      "cell_type": "code",
      "metadata": {
        "colab": {
          "base_uri": "https://localhost:8080/",
          "height": 1000
        },
        "id": "POamfV_J_x29",
        "outputId": "dfd35e1b-d99e-405c-8cfc-178447b6adbd"
      },
      "source": [
        "accuracy_sm,f1_sm,precision_sm,recall_sm = try_all_classifiers(X_train_imp,X_test_imp,Y_train,Y_test, classifiers, sampling = \"SMOTE\", scaler=scaler)\n"
      ],
      "execution_count": 12,
      "outputs": [
        {
          "output_type": "stream",
          "text": [
            "SMOTE\n",
            "LR\n",
            "\t- Requires scaling and not scaled. Doing it now...\n",
            "Fitting 2 folds for each of 32 candidates, totalling 64 fits\n"
          ],
          "name": "stdout"
        },
        {
          "output_type": "stream",
          "text": [
            "[Parallel(n_jobs=-1)]: Using backend LokyBackend with 2 concurrent workers.\n",
            "[Parallel(n_jobs=-1)]: Done  64 out of  64 | elapsed:   10.7s finished\n",
            "/usr/local/lib/python3.7/dist-packages/sklearn/utils/deprecation.py:87: FutureWarning: Function safe_indexing is deprecated; safe_indexing is deprecated in version 0.22 and will be removed in version 0.24.\n",
            "  warnings.warn(msg, category=FutureWarning)\n"
          ],
          "name": "stderr"
        },
        {
          "output_type": "display_data",
          "data": {
            "text/plain": [
              "{'classifier__C': 10000.0, 'classifier__penalty': 'l2'}"
            ]
          },
          "metadata": {
            "tags": []
          }
        },
        {
          "output_type": "stream",
          "text": [
            "\t- Adding for voting with weight <1>...\n",
            "LDA\n",
            "\t- Requires scaling and not scaled. Doing it now...\n",
            "Fitting 2 folds for each of 3 candidates, totalling 6 fits\n"
          ],
          "name": "stdout"
        },
        {
          "output_type": "stream",
          "text": [
            "[Parallel(n_jobs=-1)]: Using backend LokyBackend with 2 concurrent workers.\n",
            "[Parallel(n_jobs=-1)]: Done   6 out of   6 | elapsed:    0.2s finished\n",
            "/usr/local/lib/python3.7/dist-packages/sklearn/utils/deprecation.py:87: FutureWarning: Function safe_indexing is deprecated; safe_indexing is deprecated in version 0.22 and will be removed in version 0.24.\n",
            "  warnings.warn(msg, category=FutureWarning)\n"
          ],
          "name": "stderr"
        },
        {
          "output_type": "display_data",
          "data": {
            "text/plain": [
              "{'classifier__solver': 'svd'}"
            ]
          },
          "metadata": {
            "tags": []
          }
        },
        {
          "output_type": "stream",
          "text": [
            "[Parallel(n_jobs=-1)]: Using backend LokyBackend with 2 concurrent workers.\n"
          ],
          "name": "stderr"
        },
        {
          "output_type": "stream",
          "text": [
            "KNN-5\n",
            "\t- Requires scaling and not scaled. Doing it now...\n",
            "Fitting 2 folds for each of 4 candidates, totalling 8 fits\n"
          ],
          "name": "stdout"
        },
        {
          "output_type": "stream",
          "text": [
            "[Parallel(n_jobs=-1)]: Done   8 out of   8 | elapsed:    2.4s finished\n",
            "/usr/local/lib/python3.7/dist-packages/sklearn/utils/deprecation.py:87: FutureWarning: Function safe_indexing is deprecated; safe_indexing is deprecated in version 0.22 and will be removed in version 0.24.\n",
            "  warnings.warn(msg, category=FutureWarning)\n"
          ],
          "name": "stderr"
        },
        {
          "output_type": "display_data",
          "data": {
            "text/plain": [
              "{'classifier__metric': 'manhattan', 'classifier__weights': 'uniform'}"
            ]
          },
          "metadata": {
            "tags": []
          }
        },
        {
          "output_type": "stream",
          "text": [
            "KNN-10\n",
            "\t- Requires scaling and not scaled. Doing it now...\n",
            "Fitting 2 folds for each of 4 candidates, totalling 8 fits\n"
          ],
          "name": "stdout"
        },
        {
          "output_type": "stream",
          "text": [
            "[Parallel(n_jobs=-1)]: Using backend LokyBackend with 2 concurrent workers.\n",
            "[Parallel(n_jobs=-1)]: Done   8 out of   8 | elapsed:    2.6s finished\n",
            "/usr/local/lib/python3.7/dist-packages/sklearn/utils/deprecation.py:87: FutureWarning: Function safe_indexing is deprecated; safe_indexing is deprecated in version 0.22 and will be removed in version 0.24.\n",
            "  warnings.warn(msg, category=FutureWarning)\n"
          ],
          "name": "stderr"
        },
        {
          "output_type": "display_data",
          "data": {
            "text/plain": [
              "{'classifier__metric': 'manhattan', 'classifier__weights': 'distance'}"
            ]
          },
          "metadata": {
            "tags": []
          }
        },
        {
          "output_type": "stream",
          "text": [
            "\t- Adding for voting with weight <0.5>...\n",
            "GNB\n",
            "\t- Requires scaling and not scaled. Doing it now...\n",
            "Fitting 2 folds for each of 100 candidates, totalling 200 fits\n"
          ],
          "name": "stdout"
        },
        {
          "output_type": "stream",
          "text": [
            "[Parallel(n_jobs=-1)]: Using backend LokyBackend with 2 concurrent workers.\n",
            "[Parallel(n_jobs=-1)]: Done 164 tasks      | elapsed:    2.7s\n",
            "[Parallel(n_jobs=-1)]: Done 200 out of 200 | elapsed:    3.3s finished\n",
            "/usr/local/lib/python3.7/dist-packages/sklearn/utils/deprecation.py:87: FutureWarning: Function safe_indexing is deprecated; safe_indexing is deprecated in version 0.22 and will be removed in version 0.24.\n",
            "  warnings.warn(msg, category=FutureWarning)\n"
          ],
          "name": "stderr"
        },
        {
          "output_type": "display_data",
          "data": {
            "text/plain": [
              "{'classifier__var_smoothing': 3.5111917342151273e-09}"
            ]
          },
          "metadata": {
            "tags": []
          }
        },
        {
          "output_type": "stream",
          "text": [
            "[Parallel(n_jobs=-1)]: Using backend LokyBackend with 2 concurrent workers.\n"
          ],
          "name": "stderr"
        },
        {
          "output_type": "stream",
          "text": [
            "DT\n",
            "Fitting 2 folds for each of 36 candidates, totalling 72 fits\n"
          ],
          "name": "stdout"
        },
        {
          "output_type": "stream",
          "text": [
            "[Parallel(n_jobs=-1)]: Done  72 out of  72 | elapsed:    6.2s finished\n",
            "/usr/local/lib/python3.7/dist-packages/sklearn/utils/deprecation.py:87: FutureWarning: Function safe_indexing is deprecated; safe_indexing is deprecated in version 0.22 and will be removed in version 0.24.\n",
            "  warnings.warn(msg, category=FutureWarning)\n"
          ],
          "name": "stderr"
        },
        {
          "output_type": "display_data",
          "data": {
            "text/plain": [
              "{'classifier__criterion': 'entropy', 'classifier__max_depth': 5}"
            ]
          },
          "metadata": {
            "tags": []
          }
        },
        {
          "output_type": "stream",
          "text": [
            "\t- Adding for voting with weight <1>...\n",
            "SVC\n",
            "\t- Requires scaling and not scaled. Doing it now...\n",
            "Fitting 2 folds for each of 9 candidates, totalling 18 fits\n"
          ],
          "name": "stdout"
        },
        {
          "output_type": "stream",
          "text": [
            "[Parallel(n_jobs=-1)]: Using backend LokyBackend with 2 concurrent workers.\n",
            "[Parallel(n_jobs=-1)]: Done  18 out of  18 | elapsed:   14.8s finished\n",
            "/usr/local/lib/python3.7/dist-packages/sklearn/utils/deprecation.py:87: FutureWarning: Function safe_indexing is deprecated; safe_indexing is deprecated in version 0.22 and will be removed in version 0.24.\n",
            "  warnings.warn(msg, category=FutureWarning)\n"
          ],
          "name": "stderr"
        },
        {
          "output_type": "display_data",
          "data": {
            "text/plain": [
              "{'classifier__C': 1, 'classifier__gamma': 1, 'classifier__kernel': 'rbf'}"
            ]
          },
          "metadata": {
            "tags": []
          }
        },
        {
          "output_type": "stream",
          "text": [
            "\t- Adding for voting with weight <0.5>...\n",
            "RFC\n",
            "Fitting 2 folds for each of 24 candidates, totalling 48 fits\n"
          ],
          "name": "stdout"
        },
        {
          "output_type": "stream",
          "text": [
            "[Parallel(n_jobs=-1)]: Using backend LokyBackend with 2 concurrent workers.\n",
            "[Parallel(n_jobs=-1)]: Done  48 out of  48 | elapsed:  3.3min finished\n",
            "/usr/local/lib/python3.7/dist-packages/sklearn/utils/deprecation.py:87: FutureWarning: Function safe_indexing is deprecated; safe_indexing is deprecated in version 0.22 and will be removed in version 0.24.\n",
            "  warnings.warn(msg, category=FutureWarning)\n"
          ],
          "name": "stderr"
        },
        {
          "output_type": "display_data",
          "data": {
            "text/plain": [
              "{'classifier__bootstrap': False,\n",
              " 'classifier__max_depth': 100,\n",
              " 'classifier__max_features': 'auto',\n",
              " 'classifier__min_samples_leaf': 4,\n",
              " 'classifier__n_estimators': 128}"
            ]
          },
          "metadata": {
            "tags": []
          }
        },
        {
          "output_type": "stream",
          "text": [
            "\t- Adding for voting with weight <1>...\n",
            "XGB\n",
            "Fitting 2 folds for each of 24 candidates, totalling 48 fits\n"
          ],
          "name": "stdout"
        },
        {
          "output_type": "stream",
          "text": [
            "[Parallel(n_jobs=-1)]: Using backend LokyBackend with 2 concurrent workers.\n",
            "[Parallel(n_jobs=-1)]: Done  48 out of  48 | elapsed:   31.1s finished\n",
            "/usr/local/lib/python3.7/dist-packages/sklearn/utils/deprecation.py:87: FutureWarning: Function safe_indexing is deprecated; safe_indexing is deprecated in version 0.22 and will be removed in version 0.24.\n",
            "  warnings.warn(msg, category=FutureWarning)\n"
          ],
          "name": "stderr"
        },
        {
          "output_type": "display_data",
          "data": {
            "text/plain": [
              "{'classifier__colsample_bytree': 0.8,\n",
              " 'classifier__gamma': 2,\n",
              " 'classifier__max_depth': 6}"
            ]
          },
          "metadata": {
            "tags": []
          }
        },
        {
          "output_type": "stream",
          "text": [
            "\t- Adding for voting with weight <1>...\n",
            "\n",
            "\n",
            "Voting...\n",
            "Done\n"
          ],
          "name": "stdout"
        }
      ]
    },
    {
      "cell_type": "code",
      "metadata": {
        "colab": {
          "base_uri": "https://localhost:8080/",
          "height": 1000
        },
        "id": "eFXlnCVO_093",
        "outputId": "13188e05-82fa-416c-905f-67ab43d96e3f"
      },
      "source": [
        "accuracy_rus,f1_rus,precision_rus,recall_rus = try_all_classifiers(X_train_imp,X_test_imp,Y_train,Y_test, classifiers, sampling = \"RUS\", scaler=scaler)\n"
      ],
      "execution_count": 13,
      "outputs": [
        {
          "output_type": "stream",
          "text": [
            "RUS\n",
            "LR\n",
            "\t- Requires scaling and not scaled. Doing it now...\n",
            "Fitting 2 folds for each of 32 candidates, totalling 64 fits\n"
          ],
          "name": "stdout"
        },
        {
          "output_type": "stream",
          "text": [
            "[Parallel(n_jobs=-1)]: Using backend LokyBackend with 2 concurrent workers.\n",
            "[Parallel(n_jobs=-1)]: Done  64 out of  64 | elapsed:    8.1s finished\n",
            "/usr/local/lib/python3.7/dist-packages/sklearn/utils/deprecation.py:87: FutureWarning: Function safe_indexing is deprecated; safe_indexing is deprecated in version 0.22 and will be removed in version 0.24.\n",
            "  warnings.warn(msg, category=FutureWarning)\n"
          ],
          "name": "stderr"
        },
        {
          "output_type": "display_data",
          "data": {
            "text/plain": [
              "{'classifier__C': 1584.8931924611175, 'classifier__penalty': 'l2'}"
            ]
          },
          "metadata": {
            "tags": []
          }
        },
        {
          "output_type": "stream",
          "text": [
            "\t- Adding for voting with weight <1>...\n",
            "LDA\n",
            "\t- Requires scaling and not scaled. Doing it now...\n",
            "Fitting 2 folds for each of 3 candidates, totalling 6 fits\n"
          ],
          "name": "stdout"
        },
        {
          "output_type": "stream",
          "text": [
            "[Parallel(n_jobs=-1)]: Using backend LokyBackend with 2 concurrent workers.\n",
            "[Parallel(n_jobs=-1)]: Done   6 out of   6 | elapsed:    0.1s finished\n",
            "/usr/local/lib/python3.7/dist-packages/sklearn/utils/deprecation.py:87: FutureWarning: Function safe_indexing is deprecated; safe_indexing is deprecated in version 0.22 and will be removed in version 0.24.\n",
            "  warnings.warn(msg, category=FutureWarning)\n"
          ],
          "name": "stderr"
        },
        {
          "output_type": "display_data",
          "data": {
            "text/plain": [
              "{'classifier__solver': 'svd'}"
            ]
          },
          "metadata": {
            "tags": []
          }
        },
        {
          "output_type": "stream",
          "text": [
            "KNN-5\n",
            "\t- Requires scaling and not scaled. Doing it now...\n",
            "Fitting 2 folds for each of 4 candidates, totalling 8 fits\n"
          ],
          "name": "stdout"
        },
        {
          "output_type": "stream",
          "text": [
            "[Parallel(n_jobs=-1)]: Using backend LokyBackend with 2 concurrent workers.\n",
            "[Parallel(n_jobs=-1)]: Done   8 out of   8 | elapsed:    0.7s finished\n",
            "/usr/local/lib/python3.7/dist-packages/sklearn/utils/deprecation.py:87: FutureWarning: Function safe_indexing is deprecated; safe_indexing is deprecated in version 0.22 and will be removed in version 0.24.\n",
            "  warnings.warn(msg, category=FutureWarning)\n"
          ],
          "name": "stderr"
        },
        {
          "output_type": "display_data",
          "data": {
            "text/plain": [
              "{'classifier__metric': 'manhattan', 'classifier__weights': 'uniform'}"
            ]
          },
          "metadata": {
            "tags": []
          }
        },
        {
          "output_type": "stream",
          "text": [
            "[Parallel(n_jobs=-1)]: Using backend LokyBackend with 2 concurrent workers.\n"
          ],
          "name": "stderr"
        },
        {
          "output_type": "stream",
          "text": [
            "KNN-10\n",
            "\t- Requires scaling and not scaled. Doing it now...\n",
            "Fitting 2 folds for each of 4 candidates, totalling 8 fits\n"
          ],
          "name": "stdout"
        },
        {
          "output_type": "stream",
          "text": [
            "[Parallel(n_jobs=-1)]: Done   8 out of   8 | elapsed:    0.7s finished\n",
            "/usr/local/lib/python3.7/dist-packages/sklearn/utils/deprecation.py:87: FutureWarning: Function safe_indexing is deprecated; safe_indexing is deprecated in version 0.22 and will be removed in version 0.24.\n",
            "  warnings.warn(msg, category=FutureWarning)\n"
          ],
          "name": "stderr"
        },
        {
          "output_type": "display_data",
          "data": {
            "text/plain": [
              "{'classifier__metric': 'manhattan', 'classifier__weights': 'uniform'}"
            ]
          },
          "metadata": {
            "tags": []
          }
        },
        {
          "output_type": "stream",
          "text": [
            "[Parallel(n_jobs=-1)]: Using backend LokyBackend with 2 concurrent workers.\n"
          ],
          "name": "stderr"
        },
        {
          "output_type": "stream",
          "text": [
            "\t- Adding for voting with weight <0.5>...\n",
            "GNB\n",
            "\t- Requires scaling and not scaled. Doing it now...\n",
            "Fitting 2 folds for each of 100 candidates, totalling 200 fits\n"
          ],
          "name": "stdout"
        },
        {
          "output_type": "stream",
          "text": [
            "[Parallel(n_jobs=-1)]: Done 200 out of 200 | elapsed:    1.3s finished\n",
            "/usr/local/lib/python3.7/dist-packages/sklearn/utils/deprecation.py:87: FutureWarning: Function safe_indexing is deprecated; safe_indexing is deprecated in version 0.22 and will be removed in version 0.24.\n",
            "  warnings.warn(msg, category=FutureWarning)\n"
          ],
          "name": "stderr"
        },
        {
          "output_type": "display_data",
          "data": {
            "text/plain": [
              "{'classifier__var_smoothing': 1.232846739442066e-08}"
            ]
          },
          "metadata": {
            "tags": []
          }
        },
        {
          "output_type": "stream",
          "text": [
            "[Parallel(n_jobs=-1)]: Using backend LokyBackend with 2 concurrent workers.\n"
          ],
          "name": "stderr"
        },
        {
          "output_type": "stream",
          "text": [
            "DT\n",
            "Fitting 2 folds for each of 36 candidates, totalling 72 fits\n"
          ],
          "name": "stdout"
        },
        {
          "output_type": "stream",
          "text": [
            "[Parallel(n_jobs=-1)]: Done  72 out of  72 | elapsed:    0.7s finished\n",
            "/usr/local/lib/python3.7/dist-packages/sklearn/utils/deprecation.py:87: FutureWarning: Function safe_indexing is deprecated; safe_indexing is deprecated in version 0.22 and will be removed in version 0.24.\n",
            "  warnings.warn(msg, category=FutureWarning)\n"
          ],
          "name": "stderr"
        },
        {
          "output_type": "display_data",
          "data": {
            "text/plain": [
              "{'classifier__criterion': 'entropy', 'classifier__max_depth': 4}"
            ]
          },
          "metadata": {
            "tags": []
          }
        },
        {
          "output_type": "stream",
          "text": [
            "[Parallel(n_jobs=-1)]: Using backend LokyBackend with 2 concurrent workers.\n"
          ],
          "name": "stderr"
        },
        {
          "output_type": "stream",
          "text": [
            "\t- Adding for voting with weight <1>...\n",
            "SVC\n",
            "\t- Requires scaling and not scaled. Doing it now...\n",
            "Fitting 2 folds for each of 9 candidates, totalling 18 fits\n"
          ],
          "name": "stdout"
        },
        {
          "output_type": "stream",
          "text": [
            "[Parallel(n_jobs=-1)]: Done  18 out of  18 | elapsed:    0.6s finished\n",
            "/usr/local/lib/python3.7/dist-packages/sklearn/utils/deprecation.py:87: FutureWarning: Function safe_indexing is deprecated; safe_indexing is deprecated in version 0.22 and will be removed in version 0.24.\n",
            "  warnings.warn(msg, category=FutureWarning)\n"
          ],
          "name": "stderr"
        },
        {
          "output_type": "display_data",
          "data": {
            "text/plain": [
              "{'classifier__C': 1, 'classifier__gamma': 1, 'classifier__kernel': 'rbf'}"
            ]
          },
          "metadata": {
            "tags": []
          }
        },
        {
          "output_type": "stream",
          "text": [
            "[Parallel(n_jobs=-1)]: Using backend LokyBackend with 2 concurrent workers.\n"
          ],
          "name": "stderr"
        },
        {
          "output_type": "stream",
          "text": [
            "\t- Adding for voting with weight <0.5>...\n",
            "RFC\n",
            "Fitting 2 folds for each of 24 candidates, totalling 48 fits\n"
          ],
          "name": "stdout"
        },
        {
          "output_type": "stream",
          "text": [
            "[Parallel(n_jobs=-1)]: Done  48 out of  48 | elapsed:   25.5s finished\n",
            "/usr/local/lib/python3.7/dist-packages/sklearn/utils/deprecation.py:87: FutureWarning: Function safe_indexing is deprecated; safe_indexing is deprecated in version 0.22 and will be removed in version 0.24.\n",
            "  warnings.warn(msg, category=FutureWarning)\n"
          ],
          "name": "stderr"
        },
        {
          "output_type": "display_data",
          "data": {
            "text/plain": [
              "{'classifier__bootstrap': False,\n",
              " 'classifier__max_depth': 10,\n",
              " 'classifier__max_features': 'auto',\n",
              " 'classifier__min_samples_leaf': 4,\n",
              " 'classifier__n_estimators': 128}"
            ]
          },
          "metadata": {
            "tags": []
          }
        },
        {
          "output_type": "stream",
          "text": [
            "\t- Adding for voting with weight <1>...\n",
            "XGB\n",
            "Fitting 2 folds for each of 24 candidates, totalling 48 fits\n"
          ],
          "name": "stdout"
        },
        {
          "output_type": "stream",
          "text": [
            "[Parallel(n_jobs=-1)]: Using backend LokyBackend with 2 concurrent workers.\n",
            "[Parallel(n_jobs=-1)]: Done  48 out of  48 | elapsed:    2.9s finished\n",
            "/usr/local/lib/python3.7/dist-packages/sklearn/utils/deprecation.py:87: FutureWarning: Function safe_indexing is deprecated; safe_indexing is deprecated in version 0.22 and will be removed in version 0.24.\n",
            "  warnings.warn(msg, category=FutureWarning)\n"
          ],
          "name": "stderr"
        },
        {
          "output_type": "display_data",
          "data": {
            "text/plain": [
              "{'classifier__colsample_bytree': 0.6,\n",
              " 'classifier__gamma': 5,\n",
              " 'classifier__max_depth': 3}"
            ]
          },
          "metadata": {
            "tags": []
          }
        },
        {
          "output_type": "stream",
          "text": [
            "\t- Adding for voting with weight <1>...\n",
            "\n",
            "\n",
            "Voting...\n",
            "Done\n"
          ],
          "name": "stdout"
        }
      ]
    },
    {
      "cell_type": "code",
      "metadata": {
        "colab": {
          "base_uri": "https://localhost:8080/",
          "height": 1000
        },
        "id": "0gfJfFGm_5y8",
        "outputId": "aa7062d9-a024-4ef7-adbd-4aa4bd4c7e15"
      },
      "source": [
        "accuracy_smoteenn,f1_smoteenn,precision_smoteenn,recall_smoteenn = try_all_classifiers(X_train_imp,X_test_imp,Y_train,Y_test, classifiers, sampling = \"SMOTEENN\",scaler=scaler)\n"
      ],
      "execution_count": 14,
      "outputs": [
        {
          "output_type": "stream",
          "text": [
            "SMOTEENN\n",
            "LR\n",
            "\t- Requires scaling and not scaled. Doing it now...\n",
            "Fitting 2 folds for each of 32 candidates, totalling 64 fits\n"
          ],
          "name": "stdout"
        },
        {
          "output_type": "stream",
          "text": [
            "[Parallel(n_jobs=-1)]: Using backend LokyBackend with 2 concurrent workers.\n",
            "[Parallel(n_jobs=-1)]: Done  46 tasks      | elapsed:   17.1s\n",
            "[Parallel(n_jobs=-1)]: Done  64 out of  64 | elapsed:   25.5s finished\n",
            "/usr/local/lib/python3.7/dist-packages/sklearn/utils/deprecation.py:87: FutureWarning: Function safe_indexing is deprecated; safe_indexing is deprecated in version 0.22 and will be removed in version 0.24.\n",
            "  warnings.warn(msg, category=FutureWarning)\n",
            "/usr/local/lib/python3.7/dist-packages/sklearn/utils/deprecation.py:87: FutureWarning: Function safe_indexing is deprecated; safe_indexing is deprecated in version 0.22 and will be removed in version 0.24.\n",
            "  warnings.warn(msg, category=FutureWarning)\n",
            "/usr/local/lib/python3.7/dist-packages/sklearn/utils/deprecation.py:87: FutureWarning: Function safe_indexing is deprecated; safe_indexing is deprecated in version 0.22 and will be removed in version 0.24.\n",
            "  warnings.warn(msg, category=FutureWarning)\n",
            "/usr/local/lib/python3.7/dist-packages/sklearn/utils/deprecation.py:87: FutureWarning: Function safe_indexing is deprecated; safe_indexing is deprecated in version 0.22 and will be removed in version 0.24.\n",
            "  warnings.warn(msg, category=FutureWarning)\n"
          ],
          "name": "stderr"
        },
        {
          "output_type": "display_data",
          "data": {
            "text/plain": [
              "{'classifier__C': 10000.0, 'classifier__penalty': 'l2'}"
            ]
          },
          "metadata": {
            "tags": []
          }
        },
        {
          "output_type": "stream",
          "text": [
            "\t- Adding for voting with weight <1>...\n",
            "LDA\n",
            "\t- Requires scaling and not scaled. Doing it now...\n",
            "Fitting 2 folds for each of 3 candidates, totalling 6 fits\n"
          ],
          "name": "stdout"
        },
        {
          "output_type": "stream",
          "text": [
            "[Parallel(n_jobs=-1)]: Using backend LokyBackend with 2 concurrent workers.\n",
            "[Parallel(n_jobs=-1)]: Done   6 out of   6 | elapsed:    1.6s finished\n",
            "/usr/local/lib/python3.7/dist-packages/sklearn/utils/deprecation.py:87: FutureWarning: Function safe_indexing is deprecated; safe_indexing is deprecated in version 0.22 and will be removed in version 0.24.\n",
            "  warnings.warn(msg, category=FutureWarning)\n",
            "/usr/local/lib/python3.7/dist-packages/sklearn/utils/deprecation.py:87: FutureWarning: Function safe_indexing is deprecated; safe_indexing is deprecated in version 0.22 and will be removed in version 0.24.\n",
            "  warnings.warn(msg, category=FutureWarning)\n",
            "/usr/local/lib/python3.7/dist-packages/sklearn/utils/deprecation.py:87: FutureWarning: Function safe_indexing is deprecated; safe_indexing is deprecated in version 0.22 and will be removed in version 0.24.\n",
            "  warnings.warn(msg, category=FutureWarning)\n",
            "/usr/local/lib/python3.7/dist-packages/sklearn/utils/deprecation.py:87: FutureWarning: Function safe_indexing is deprecated; safe_indexing is deprecated in version 0.22 and will be removed in version 0.24.\n",
            "  warnings.warn(msg, category=FutureWarning)\n"
          ],
          "name": "stderr"
        },
        {
          "output_type": "display_data",
          "data": {
            "text/plain": [
              "{'classifier__solver': 'lsqr'}"
            ]
          },
          "metadata": {
            "tags": []
          }
        },
        {
          "output_type": "stream",
          "text": [
            "KNN-5\n",
            "\t- Requires scaling and not scaled. Doing it now...\n",
            "Fitting 2 folds for each of 4 candidates, totalling 8 fits\n"
          ],
          "name": "stdout"
        },
        {
          "output_type": "stream",
          "text": [
            "[Parallel(n_jobs=-1)]: Using backend LokyBackend with 2 concurrent workers.\n",
            "[Parallel(n_jobs=-1)]: Done   8 out of   8 | elapsed:    4.0s finished\n",
            "/usr/local/lib/python3.7/dist-packages/sklearn/utils/deprecation.py:87: FutureWarning: Function safe_indexing is deprecated; safe_indexing is deprecated in version 0.22 and will be removed in version 0.24.\n",
            "  warnings.warn(msg, category=FutureWarning)\n",
            "/usr/local/lib/python3.7/dist-packages/sklearn/utils/deprecation.py:87: FutureWarning: Function safe_indexing is deprecated; safe_indexing is deprecated in version 0.22 and will be removed in version 0.24.\n",
            "  warnings.warn(msg, category=FutureWarning)\n",
            "/usr/local/lib/python3.7/dist-packages/sklearn/utils/deprecation.py:87: FutureWarning: Function safe_indexing is deprecated; safe_indexing is deprecated in version 0.22 and will be removed in version 0.24.\n",
            "  warnings.warn(msg, category=FutureWarning)\n",
            "/usr/local/lib/python3.7/dist-packages/sklearn/utils/deprecation.py:87: FutureWarning: Function safe_indexing is deprecated; safe_indexing is deprecated in version 0.22 and will be removed in version 0.24.\n",
            "  warnings.warn(msg, category=FutureWarning)\n"
          ],
          "name": "stderr"
        },
        {
          "output_type": "display_data",
          "data": {
            "text/plain": [
              "{'classifier__metric': 'manhattan', 'classifier__weights': 'uniform'}"
            ]
          },
          "metadata": {
            "tags": []
          }
        },
        {
          "output_type": "stream",
          "text": [
            "KNN-10\n",
            "\t- Requires scaling and not scaled. Doing it now...\n",
            "Fitting 2 folds for each of 4 candidates, totalling 8 fits\n"
          ],
          "name": "stdout"
        },
        {
          "output_type": "stream",
          "text": [
            "[Parallel(n_jobs=-1)]: Using backend LokyBackend with 2 concurrent workers.\n",
            "[Parallel(n_jobs=-1)]: Done   8 out of   8 | elapsed:    4.1s finished\n",
            "/usr/local/lib/python3.7/dist-packages/sklearn/utils/deprecation.py:87: FutureWarning: Function safe_indexing is deprecated; safe_indexing is deprecated in version 0.22 and will be removed in version 0.24.\n",
            "  warnings.warn(msg, category=FutureWarning)\n",
            "/usr/local/lib/python3.7/dist-packages/sklearn/utils/deprecation.py:87: FutureWarning: Function safe_indexing is deprecated; safe_indexing is deprecated in version 0.22 and will be removed in version 0.24.\n",
            "  warnings.warn(msg, category=FutureWarning)\n",
            "/usr/local/lib/python3.7/dist-packages/sklearn/utils/deprecation.py:87: FutureWarning: Function safe_indexing is deprecated; safe_indexing is deprecated in version 0.22 and will be removed in version 0.24.\n",
            "  warnings.warn(msg, category=FutureWarning)\n",
            "/usr/local/lib/python3.7/dist-packages/sklearn/utils/deprecation.py:87: FutureWarning: Function safe_indexing is deprecated; safe_indexing is deprecated in version 0.22 and will be removed in version 0.24.\n",
            "  warnings.warn(msg, category=FutureWarning)\n"
          ],
          "name": "stderr"
        },
        {
          "output_type": "display_data",
          "data": {
            "text/plain": [
              "{'classifier__metric': 'manhattan', 'classifier__weights': 'distance'}"
            ]
          },
          "metadata": {
            "tags": []
          }
        },
        {
          "output_type": "stream",
          "text": [
            "\t- Adding for voting with weight <0.5>...\n",
            "GNB\n",
            "\t- Requires scaling and not scaled. Doing it now...\n",
            "Fitting 2 folds for each of 100 candidates, totalling 200 fits\n"
          ],
          "name": "stdout"
        },
        {
          "output_type": "stream",
          "text": [
            "[Parallel(n_jobs=-1)]: Using backend LokyBackend with 2 concurrent workers.\n",
            "[Parallel(n_jobs=-1)]: Done  46 tasks      | elapsed:   11.7s\n",
            "[Parallel(n_jobs=-1)]: Done 196 tasks      | elapsed:   49.5s\n",
            "[Parallel(n_jobs=-1)]: Done 200 out of 200 | elapsed:   50.5s finished\n",
            "/usr/local/lib/python3.7/dist-packages/sklearn/utils/deprecation.py:87: FutureWarning: Function safe_indexing is deprecated; safe_indexing is deprecated in version 0.22 and will be removed in version 0.24.\n",
            "  warnings.warn(msg, category=FutureWarning)\n",
            "/usr/local/lib/python3.7/dist-packages/sklearn/utils/deprecation.py:87: FutureWarning: Function safe_indexing is deprecated; safe_indexing is deprecated in version 0.22 and will be removed in version 0.24.\n",
            "  warnings.warn(msg, category=FutureWarning)\n",
            "/usr/local/lib/python3.7/dist-packages/sklearn/utils/deprecation.py:87: FutureWarning: Function safe_indexing is deprecated; safe_indexing is deprecated in version 0.22 and will be removed in version 0.24.\n",
            "  warnings.warn(msg, category=FutureWarning)\n",
            "/usr/local/lib/python3.7/dist-packages/sklearn/utils/deprecation.py:87: FutureWarning: Function safe_indexing is deprecated; safe_indexing is deprecated in version 0.22 and will be removed in version 0.24.\n",
            "  warnings.warn(msg, category=FutureWarning)\n"
          ],
          "name": "stderr"
        },
        {
          "output_type": "display_data",
          "data": {
            "text/plain": [
              "{'classifier__var_smoothing': 1.0}"
            ]
          },
          "metadata": {
            "tags": []
          }
        },
        {
          "output_type": "stream",
          "text": [
            "DT\n",
            "Fitting 2 folds for each of 36 candidates, totalling 72 fits\n"
          ],
          "name": "stdout"
        },
        {
          "output_type": "stream",
          "text": [
            "[Parallel(n_jobs=-1)]: Using backend LokyBackend with 2 concurrent workers.\n",
            "[Parallel(n_jobs=-1)]: Done  46 tasks      | elapsed:    7.4s\n",
            "[Parallel(n_jobs=-1)]: Done  72 out of  72 | elapsed:   12.2s finished\n",
            "/usr/local/lib/python3.7/dist-packages/sklearn/utils/deprecation.py:87: FutureWarning: Function safe_indexing is deprecated; safe_indexing is deprecated in version 0.22 and will be removed in version 0.24.\n",
            "  warnings.warn(msg, category=FutureWarning)\n",
            "/usr/local/lib/python3.7/dist-packages/sklearn/utils/deprecation.py:87: FutureWarning: Function safe_indexing is deprecated; safe_indexing is deprecated in version 0.22 and will be removed in version 0.24.\n",
            "  warnings.warn(msg, category=FutureWarning)\n",
            "/usr/local/lib/python3.7/dist-packages/sklearn/utils/deprecation.py:87: FutureWarning: Function safe_indexing is deprecated; safe_indexing is deprecated in version 0.22 and will be removed in version 0.24.\n",
            "  warnings.warn(msg, category=FutureWarning)\n",
            "/usr/local/lib/python3.7/dist-packages/sklearn/utils/deprecation.py:87: FutureWarning: Function safe_indexing is deprecated; safe_indexing is deprecated in version 0.22 and will be removed in version 0.24.\n",
            "  warnings.warn(msg, category=FutureWarning)\n"
          ],
          "name": "stderr"
        },
        {
          "output_type": "display_data",
          "data": {
            "text/plain": [
              "{'classifier__criterion': 'gini', 'classifier__max_depth': 30}"
            ]
          },
          "metadata": {
            "tags": []
          }
        },
        {
          "output_type": "stream",
          "text": [
            "\t- Adding for voting with weight <1>...\n",
            "SVC\n",
            "\t- Requires scaling and not scaled. Doing it now...\n",
            "Fitting 2 folds for each of 9 candidates, totalling 18 fits\n"
          ],
          "name": "stdout"
        },
        {
          "output_type": "stream",
          "text": [
            "[Parallel(n_jobs=-1)]: Using backend LokyBackend with 2 concurrent workers.\n",
            "[Parallel(n_jobs=-1)]: Done  18 out of  18 | elapsed:   14.6s finished\n",
            "/usr/local/lib/python3.7/dist-packages/sklearn/utils/deprecation.py:87: FutureWarning: Function safe_indexing is deprecated; safe_indexing is deprecated in version 0.22 and will be removed in version 0.24.\n",
            "  warnings.warn(msg, category=FutureWarning)\n",
            "/usr/local/lib/python3.7/dist-packages/sklearn/utils/deprecation.py:87: FutureWarning: Function safe_indexing is deprecated; safe_indexing is deprecated in version 0.22 and will be removed in version 0.24.\n",
            "  warnings.warn(msg, category=FutureWarning)\n",
            "/usr/local/lib/python3.7/dist-packages/sklearn/utils/deprecation.py:87: FutureWarning: Function safe_indexing is deprecated; safe_indexing is deprecated in version 0.22 and will be removed in version 0.24.\n",
            "  warnings.warn(msg, category=FutureWarning)\n",
            "/usr/local/lib/python3.7/dist-packages/sklearn/utils/deprecation.py:87: FutureWarning: Function safe_indexing is deprecated; safe_indexing is deprecated in version 0.22 and will be removed in version 0.24.\n",
            "  warnings.warn(msg, category=FutureWarning)\n"
          ],
          "name": "stderr"
        },
        {
          "output_type": "display_data",
          "data": {
            "text/plain": [
              "{'classifier__C': 1, 'classifier__gamma': 1, 'classifier__kernel': 'rbf'}"
            ]
          },
          "metadata": {
            "tags": []
          }
        },
        {
          "output_type": "stream",
          "text": [
            "\t- Adding for voting with weight <0.5>...\n",
            "RFC\n",
            "Fitting 2 folds for each of 24 candidates, totalling 48 fits\n"
          ],
          "name": "stdout"
        },
        {
          "output_type": "stream",
          "text": [
            "[Parallel(n_jobs=-1)]: Using backend LokyBackend with 2 concurrent workers.\n",
            "[Parallel(n_jobs=-1)]: Done  48 out of  48 | elapsed:  2.4min finished\n",
            "/usr/local/lib/python3.7/dist-packages/sklearn/utils/deprecation.py:87: FutureWarning: Function safe_indexing is deprecated; safe_indexing is deprecated in version 0.22 and will be removed in version 0.24.\n",
            "  warnings.warn(msg, category=FutureWarning)\n",
            "/usr/local/lib/python3.7/dist-packages/sklearn/utils/deprecation.py:87: FutureWarning: Function safe_indexing is deprecated; safe_indexing is deprecated in version 0.22 and will be removed in version 0.24.\n",
            "  warnings.warn(msg, category=FutureWarning)\n",
            "/usr/local/lib/python3.7/dist-packages/sklearn/utils/deprecation.py:87: FutureWarning: Function safe_indexing is deprecated; safe_indexing is deprecated in version 0.22 and will be removed in version 0.24.\n",
            "  warnings.warn(msg, category=FutureWarning)\n",
            "/usr/local/lib/python3.7/dist-packages/sklearn/utils/deprecation.py:87: FutureWarning: Function safe_indexing is deprecated; safe_indexing is deprecated in version 0.22 and will be removed in version 0.24.\n",
            "  warnings.warn(msg, category=FutureWarning)\n"
          ],
          "name": "stderr"
        },
        {
          "output_type": "display_data",
          "data": {
            "text/plain": [
              "{'classifier__bootstrap': False,\n",
              " 'classifier__max_depth': 100,\n",
              " 'classifier__max_features': 'auto',\n",
              " 'classifier__min_samples_leaf': 1,\n",
              " 'classifier__n_estimators': 256}"
            ]
          },
          "metadata": {
            "tags": []
          }
        },
        {
          "output_type": "stream",
          "text": [
            "\t- Adding for voting with weight <1>...\n",
            "XGB\n",
            "Fitting 2 folds for each of 24 candidates, totalling 48 fits\n"
          ],
          "name": "stdout"
        },
        {
          "output_type": "stream",
          "text": [
            "[Parallel(n_jobs=-1)]: Using backend LokyBackend with 2 concurrent workers.\n",
            "[Parallel(n_jobs=-1)]: Done  48 out of  48 | elapsed:   28.1s finished\n",
            "/usr/local/lib/python3.7/dist-packages/sklearn/utils/deprecation.py:87: FutureWarning: Function safe_indexing is deprecated; safe_indexing is deprecated in version 0.22 and will be removed in version 0.24.\n",
            "  warnings.warn(msg, category=FutureWarning)\n",
            "/usr/local/lib/python3.7/dist-packages/sklearn/utils/deprecation.py:87: FutureWarning: Function safe_indexing is deprecated; safe_indexing is deprecated in version 0.22 and will be removed in version 0.24.\n",
            "  warnings.warn(msg, category=FutureWarning)\n",
            "/usr/local/lib/python3.7/dist-packages/sklearn/utils/deprecation.py:87: FutureWarning: Function safe_indexing is deprecated; safe_indexing is deprecated in version 0.22 and will be removed in version 0.24.\n",
            "  warnings.warn(msg, category=FutureWarning)\n",
            "/usr/local/lib/python3.7/dist-packages/sklearn/utils/deprecation.py:87: FutureWarning: Function safe_indexing is deprecated; safe_indexing is deprecated in version 0.22 and will be removed in version 0.24.\n",
            "  warnings.warn(msg, category=FutureWarning)\n"
          ],
          "name": "stderr"
        },
        {
          "output_type": "display_data",
          "data": {
            "text/plain": [
              "{'classifier__colsample_bytree': 0.8,\n",
              " 'classifier__gamma': 0.5,\n",
              " 'classifier__max_depth': 6}"
            ]
          },
          "metadata": {
            "tags": []
          }
        },
        {
          "output_type": "stream",
          "text": [
            "\t- Adding for voting with weight <1>...\n",
            "\n",
            "\n",
            "Voting...\n",
            "Done\n"
          ],
          "name": "stdout"
        }
      ]
    },
    {
      "cell_type": "code",
      "metadata": {
        "colab": {
          "base_uri": "https://localhost:8080/"
        },
        "id": "B9Zjk_Lr_9Xv",
        "outputId": "626a1cb4-a83e-44b7-9a69-89027df960e2"
      },
      "source": [
        "print(\"Imputer & Sampling & Metric & \",end = \"\")\n",
        "print(*classifiers_names,sep = \" & \", end = \" \\\\\\\\\\n\")\n",
        "print(\"\\\\hline \\\\hline\")\n",
        "print(\"Simple & No & Acc & \",end=\"\")\n",
        "print(*['%.2f' % elem for elem in accuracy],sep=\" & \", end = \" \\\\\\\\\\n\")\n",
        "print(\"~ & ~ & Prec & \",end=\"\")\n",
        "print(*['%.2f' % elem for elem in precision],sep=\" & \", end = \" \\\\\\\\\\n\")\n",
        "print(\"~ & ~ & Rec & \",end=\"\")\n",
        "print(*['%.2f' % elem for elem in recall],sep=\" & \", end = \" \\\\\\\\\\n\")\n",
        "print(\"~ & ~ & F1 & \",end=\"\")\n",
        "print(*['%.2f' % elem for elem in f1],sep=\" & \", end = \" \\\\\\\\\\n\")\n",
        "print(\"\\cline{2-13}\")\n",
        "\n",
        "print(\"~ & SMOTE & Acc & \",end=\"\")\n",
        "print(*['%.2f' % elem for elem in accuracy_sm],sep=\" & \", end = \" \\\\\\\\\\n\")\n",
        "print(\"~ & ~ & Prec & \",end=\"\")\n",
        "print(*['%.2f' % elem for elem in precision_sm],sep=\" & \", end = \" \\\\\\\\\\n\")\n",
        "print(\"~ & ~ & Rec & \",end=\"\")\n",
        "print(*['%.2f' % elem for elem in recall_sm],sep=\" & \", end = \" \\\\\\\\\\n\")\n",
        "print(\"~ & ~ & F1 & \",end=\"\")\n",
        "print(*['%.2f' % elem for elem in f1_sm],sep=\" & \", end = \" \\\\\\\\\\n\")\n",
        "print(\"\\cline{2-13}\")\n",
        "\n",
        "print(\"~ & RUS & Acc & \",end=\"\")\n",
        "print(*['%.2f' % elem for elem in accuracy_rus],sep=\" & \", end = \" \\\\\\\\\\n\")\n",
        "print(\"~ & ~ & Prec & \",end=\"\")\n",
        "print(*['%.2f' % elem for elem in precision_rus],sep=\" & \", end = \" \\\\\\\\\\n\")\n",
        "print(\"~ & ~ & Rec & \",end=\"\")\n",
        "print(*['%.2f' % elem for elem in recall_rus],sep=\" & \", end = \" \\\\\\\\\\n\")\n",
        "print(\"~ & ~ & F1 & \",end=\"\")\n",
        "print(*['%.2f' % elem for elem in f1_rus],sep=\" & \", end = \" \\\\\\\\\\n\")\n",
        "print(\"\\cline{2-13}\")\n",
        "\n",
        "\n",
        "print(\"~ & SMOTE- & Acc & \",end=\"\")\n",
        "print(*['%.2f' % elem for elem in accuracy_smoteenn],sep=\" & \", end = \" \\\\\\\\\\n\")\n",
        "print(\"~ & ENN & Prec & \",end=\"\")\n",
        "print(*['%.2f' % elem for elem in precision_smoteenn],sep=\" & \", end = \" \\\\\\\\\\n\")\n",
        "print(\"~ & ~ & Rec & \",end=\"\")\n",
        "print(*['%.2f' % elem for elem in recall_smoteenn],sep=\" & \", end = \" \\\\\\\\\\n\")\n",
        "print(\"~ & ~ & F1 & \",end=\"\")\n",
        "print(*['%.2f' % elem for elem in f1_smoteenn],sep=\" & \", end = \" \\\\\\\\\\n\")\n",
        "print(\"\\\\hline\\\\hline\")\n",
        "\n",
        "\n"
      ],
      "execution_count": 15,
      "outputs": [
        {
          "output_type": "stream",
          "text": [
            "Imputer & Sampling & Metric & LR & LDA & KNN-5 & KNN-10 & GNB & DT & SVC & RFC & XGB & Voting \\\\\n",
            "\\hline \\hline\n",
            "Simple & No & Acc & 0.96 & 0.96 & 0.96 & 0.96 & 0.08 & 0.96 & 0.96 & 0.97 & 0.97 & 0.97 \\\\\n",
            "~ & ~ & Prec & 0.00 & 0.00 & 0.00 & 0.00 & 0.04 & 0.55 & 0.00 & 0.88 & 0.89 & 0.87 \\\\\n",
            "~ & ~ & Rec & 0.00 & 0.00 & 0.00 & 0.00 & 0.99 & 0.38 & 0.00 & 0.32 & 0.37 & 0.29 \\\\\n",
            "~ & ~ & F1 & 0.00 & 0.00 & 0.00 & 0.00 & 0.08 & 0.45 & 0.00 & 0.47 & 0.52 & 0.44 \\\\\n",
            "\\cline{2-13}\n",
            "~ & SMOTE & Acc & 0.87 & 0.96 & 0.85 & 0.84 & 0.10 & 0.87 & 0.94 & 0.96 & 0.95 & 0.96 \\\\\n",
            "~ & ~ & Prec & 0.10 & 0.09 & 0.09 & 0.09 & 0.04 & 0.17 & 0.33 & 0.51 & 0.36 & 0.53 \\\\\n",
            "~ & ~ & Rec & 0.29 & 0.01 & 0.31 & 0.32 & 0.97 & 0.62 & 0.41 & 0.38 & 0.47 & 0.40 \\\\\n",
            "~ & ~ & F1 & 0.15 & 0.03 & 0.14 & 0.14 & 0.08 & 0.27 & 0.37 & 0.44 & 0.41 & 0.45 \\\\\n",
            "\\cline{2-13}\n",
            "~ & RUS & Acc & 0.88 & 0.94 & 0.79 & 0.87 & 0.09 & 0.76 & 0.94 & 0.89 & 0.90 & 0.92 \\\\\n",
            "~ & ~ & Prec & 0.09 & 0.08 & 0.06 & 0.09 & 0.04 & 0.11 & 0.10 & 0.20 & 0.21 & 0.27 \\\\\n",
            "~ & ~ & Rec & 0.22 & 0.06 & 0.26 & 0.26 & 0.99 & 0.74 & 0.06 & 0.62 & 0.59 & 0.54 \\\\\n",
            "~ & ~ & F1 & 0.12 & 0.07 & 0.09 & 0.14 & 0.08 & 0.19 & 0.07 & 0.30 & 0.31 & 0.36 \\\\\n",
            "\\cline{2-13}\n",
            "~ & SMOTE- & Acc & 0.78 & 0.95 & 0.80 & 0.78 & 0.06 & 0.90 & 0.86 & 0.95 & 0.93 & 0.94 \\\\\n",
            "~ & ENN & Prec & 0.09 & 0.07 & 0.07 & 0.07 & 0.04 & 0.20 & 0.15 & 0.37 & 0.27 & 0.32 \\\\\n",
            "~ & ~ & Rec & 0.51 & 0.01 & 0.34 & 0.40 & 1.00 & 0.47 & 0.56 & 0.41 & 0.47 & 0.40 \\\\\n",
            "~ & ~ & F1 & 0.15 & 0.02 & 0.12 & 0.13 & 0.08 & 0.28 & 0.23 & 0.39 & 0.34 & 0.35 \\\\\n",
            "\\hline\\hline\n"
          ],
          "name": "stdout"
        }
      ]
    },
    {
      "cell_type": "code",
      "metadata": {
        "colab": {
          "base_uri": "https://localhost:8080/"
        },
        "id": "D-YWsSUcAAPI",
        "outputId": "6c67bfdc-0414-40a8-e2b1-67a8b54e4bc0"
      },
      "source": [
        "print('''\n",
        "| classifier          | Accuracy | Precision | Recall | F1 score |\n",
        "| =================== | ======== | ========= | ====== | ======== |''')\n",
        "for c,a,p,r,f in zip(classifiers_names,accuracy,precision,recall,f1):\n",
        "    print(c,\"  |  \",a,\"  |  \",p,\"  |  \",r,\"  |  \",f,\"  |  \")\n",
        "    \n",
        "print(\"\\n===============================================================\\n\")\n",
        "for c,a,p,r,f in zip(classifiers_names,accuracy_sm,precision_sm,recall_sm,f1_sm):\n",
        "    print(c,\"  |  \",a,\"  |  \",p,\"  |  \",r,\"  |  \",f,\"  |  \")\n",
        "\n",
        "print(\"\\n===============================================================\\n\")\n",
        "for c,a,p,r,f in zip(classifiers_names,accuracy_rus,precision_rus,recall_rus,f1_rus):\n",
        "    print(c,\"  |  \",a,\"  |  \",p,\"  |  \",r,\"  |  \",f,\"  |  \")\n",
        "  \n",
        "print(\"\\n===============================================================\\n\")\n",
        "for c,a,p,r,f in zip(classifiers_names,accuracy_smoteenn,precision_smoteenn,recall_smoteenn,f1_smoteenn):\n",
        "    print(c,\"  |  \",a,\"  |  \",p,\"  |  \",r,\"  |  \",f,\"  |  \")\n",
        " "
      ],
      "execution_count": 16,
      "outputs": [
        {
          "output_type": "stream",
          "text": [
            "\n",
            "| classifier          | Accuracy | Precision | Recall | F1 score |\n",
            "| =================== | ======== | ========= | ====== | ======== |\n",
            "LR   |   0.9585492227979274   |   0.0   |   0.0   |   0.0   |  \n",
            "LDA   |   0.9579735175590098   |   0.0   |   0.0   |   0.0   |  \n",
            "KNN-5   |   0.9597006332757628   |   0.0   |   0.0   |   0.0   |  \n",
            "KNN-10   |   0.9608520437535981   |   0.0   |   0.0   |   0.0   |  \n",
            "GNB   |   0.07829591249280368   |   0.04019196160767846   |   0.9852941176470589   |   0.07723342939481267   |  \n",
            "DT   |   0.9637305699481865   |   0.5531914893617021   |   0.38235294117647056   |   0.4521739130434782   |  \n",
            "SVC   |   0.9608520437535981   |   0.0   |   0.0   |   0.0   |  \n",
            "RFC   |   0.971790443293034   |   0.88   |   0.3235294117647059   |   0.4731182795698925   |  \n",
            "XGB   |   0.973517559009787   |   0.8928571428571429   |   0.36764705882352944   |   0.5208333333333335   |  \n",
            "Voting   |   0.9706390328151986   |   0.8695652173913043   |   0.29411764705882354   |   0.4395604395604396   |  \n",
            "\n",
            "===============================================================\n",
            "\n",
            "LR   |   0.871042026482441   |   0.10204081632653061   |   0.29411764705882354   |   0.15151515151515152   |  \n",
            "LDA   |   0.9556706966033391   |   0.09090909090909091   |   0.014705882352941176   |   0.025316455696202528   |  \n",
            "KNN-5   |   0.8543465745538285   |   0.09251101321585903   |   0.3088235294117647   |   0.1423728813559322   |  \n",
            "KNN-10   |   0.8434081750143926   |   0.08870967741935484   |   0.3235294117647059   |   0.13924050632911394   |  \n",
            "GNB   |   0.09614277489925158   |   0.04039167686658507   |   0.9705882352941176   |   0.07755581668625146   |  \n",
            "DT   |   0.8664363845710996   |   0.1693548387096774   |   0.6176470588235294   |   0.26582278481012656   |  \n",
            "SVC   |   0.9441565918249856   |   0.32941176470588235   |   0.4117647058823529   |   0.3660130718954248   |  \n",
            "RFC   |   0.9614277489925158   |   0.5098039215686274   |   0.38235294117647056   |   0.43697478991596633   |  \n",
            "XGB   |   0.947035118019574   |   0.36363636363636365   |   0.47058823529411764   |   0.41025641025641024   |  \n",
            "Voting   |   0.9625791594703512   |   0.5294117647058824   |   0.39705882352941174   |   0.453781512605042   |  \n",
            "\n",
            "===============================================================\n",
            "\n",
            "LR   |   0.8785261945883708   |   0.08670520231213873   |   0.22058823529411764   |   0.12448132780082986   |  \n",
            "LDA   |   0.9355210132412205   |   0.07692307692307693   |   0.058823529411764705   |   0.06666666666666667   |  \n",
            "KNN-5   |   0.7938975244674726   |   0.05521472392638037   |   0.2647058823529412   |   0.09137055837563451   |  \n",
            "KNN-10   |   0.869314910765688   |   0.09230769230769231   |   0.2647058823529412   |   0.13688212927756654   |  \n",
            "GNB   |   0.0892343120322395   |   0.040655339805825245   |   0.9852941176470589   |   0.07808857808857811   |  \n",
            "DT   |   0.7559009786989062   |   0.10964912280701754   |   0.7352941176470589   |   0.19083969465648856   |  \n",
            "SVC   |   0.9424294761082326   |   0.1   |   0.058823529411764705   |   0.07407407407407408   |  \n",
            "RFC   |   0.8871617731721358   |   0.19811320754716982   |   0.6176470588235294   |   0.3   |  \n",
            "XGB   |   0.895797351755901   |   0.20725388601036268   |   0.5882352941176471   |   0.30651340996168586   |  \n",
            "Voting   |   0.9245826137017847   |   0.27007299270072993   |   0.5441176470588235   |   0.36097560975609755   |  \n",
            "\n",
            "===============================================================\n",
            "\n",
            "LR   |   0.7789291882556131   |   0.09067357512953368   |   0.5147058823529411   |   0.15418502202643172   |  \n",
            "LDA   |   0.953943580886586   |   0.07142857142857142   |   0.014705882352941176   |   0.024390243902439025   |  \n",
            "KNN-5   |   0.7979274611398963   |   0.06990881458966565   |   0.3382352941176471   |   0.11586901763224182   |  \n",
            "KNN-10   |   0.7835348301669545   |   0.07458563535911603   |   0.39705882352941174   |   0.1255813953488372   |  \n",
            "GNB   |   0.055843408175014396   |   0.03981264637002342   |   1.0   |   0.07657657657657657   |  \n",
            "DT   |   0.9044329303396661   |   0.19753086419753085   |   0.47058823529411764   |   0.2782608695652174   |  \n",
            "SVC   |   0.8572251007484168   |   0.1484375   |   0.5588235294117647   |   0.2345679012345679   |  \n",
            "RFC   |   0.9493379389752447   |   0.3684210526315789   |   0.4117647058823529   |   0.3888888888888889   |  \n",
            "XGB   |   0.9291882556131261   |   0.2689075630252101   |   0.47058823529411764   |   0.34224598930481276   |  \n",
            "Voting   |   0.9430051813471503   |   0.3176470588235294   |   0.39705882352941174   |   0.35294117647058826   |  \n"
          ],
          "name": "stdout"
        }
      ]
    }
  ]
}