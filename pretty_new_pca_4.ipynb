{
  "nbformat": 4,
  "nbformat_minor": 0,
  "metadata": {
    "colab": {
      "name": "pretty_new_pca_4.ipynb",
      "provenance": [],
      "collapsed_sections": []
    },
    "kernelspec": {
      "display_name": "Python 3",
      "name": "python3"
    },
    "language_info": {
      "name": "python"
    }
  },
  "cells": [
    {
      "cell_type": "code",
      "metadata": {
        "id": "GPknB-Lr-Uuj"
      },
      "source": [
        "import numpy as np\n",
        "import pandas as pd\n",
        "import matplotlib.pyplot as plt\n",
        "from scipy.io.arff import loadarff\n",
        "from sklearn.model_selection import train_test_split\n",
        "\n",
        "%matplotlib inline\n",
        "random_state = 2021\n",
        "\n",
        "N = '4'\n",
        "drop_cols = ['Attr37', 'Attr7','Attr43','Attr62','Attr32','Attr44','Attr15','Attr19','Attr3','Attr51','Attr4','Attr49','Attr38','Attr60','Attr6']"
      ],
      "execution_count": null,
      "outputs": []
    },
    {
      "cell_type": "code",
      "metadata": {
        "id": "Z6PoMIo2-eJh"
      },
      "source": [
        "arff = loadarff('4year.arff')\n",
        "df = pd.DataFrame(arff[0])\n",
        "df['class']= df['class'].astype('int')\n",
        "df = df.drop_duplicates()"
      ],
      "execution_count": null,
      "outputs": []
    },
    {
      "cell_type": "code",
      "metadata": {
        "colab": {
          "base_uri": "https://localhost:8080/",
          "height": 118
        },
        "id": "HbbnTNQa-404",
        "outputId": "437db1c9-d92d-4ee3-c5cc-a96ce68fd1b9"
      },
      "source": [
        "df = df.drop(drop_cols,axis='columns')\n",
        "X = df.drop('class',axis='columns')\n",
        "Y = df['class']\n",
        "# (X.shape,Y.shape)\n",
        "\n",
        "X_train, X_test, Y_train, Y_test = train_test_split(\n",
        "    X, Y, test_size=0.25, random_state=random_state,shuffle=True,stratify=Y)\n",
        "\n",
        "display(Y_train.value_counts(), Y_test.value_counts())\n",
        "X_train,Y_train,X_test,Y_test = X_train.to_numpy(),Y_train.to_numpy(),X_test.to_numpy(),Y_test.to_numpy()"
      ],
      "execution_count": null,
      "outputs": [
        {
          "output_type": "display_data",
          "data": {
            "text/plain": [
              "0    6897\n",
              "1     385\n",
              "Name: class, dtype: int64"
            ]
          },
          "metadata": {
            "tags": []
          }
        },
        {
          "output_type": "display_data",
          "data": {
            "text/plain": [
              "0    2300\n",
              "1     128\n",
              "Name: class, dtype: int64"
            ]
          },
          "metadata": {
            "tags": []
          }
        }
      ]
    },
    {
      "cell_type": "code",
      "metadata": {
        "id": "IuoqkCqL_B9f"
      },
      "source": [
        "from sklearn.impute import SimpleImputer\n",
        "simple_imp = SimpleImputer(missing_values=np.nan, strategy='mean')\n",
        "simple_imp = simple_imp.fit(X_train)\n",
        "X_train_imp = simple_imp.transform(X_train)\n",
        "X_test_imp = simple_imp.transform(X_test)"
      ],
      "execution_count": null,
      "outputs": []
    },
    {
      "cell_type": "code",
      "metadata": {
        "id": "KdGz9Cez_GZS"
      },
      "source": [
        "from sklearn.decomposition import PCA\n",
        "pca = PCA(n_components=20)\n",
        "pca = pca.fit(X_train_imp)\n",
        "\n",
        "X_train_imp = pca.transform(X_train_imp)\n",
        "X_test_imp = pca.transform(X_test_imp)"
      ],
      "execution_count": null,
      "outputs": []
    },
    {
      "cell_type": "code",
      "metadata": {
        "id": "KC-xmf3j_KPb"
      },
      "source": [
        "from sklearn.preprocessing import StandardScaler\n",
        "\n",
        "scaler = StandardScaler().fit(X_train_imp)\n",
        "# choose imputer <<comment blocks accordingly>>\n",
        "\n",
        "#### for simple\n",
        "scaled_already = False\n",
        "# X_train_imp = simple_imp.transform(X_train)\n",
        "# X_test_imp = simple_imp.transform(X_test)\n"
      ],
      "execution_count": null,
      "outputs": []
    },
    {
      "cell_type": "code",
      "metadata": {
        "colab": {
          "base_uri": "https://localhost:8080/"
        },
        "id": "05jrQRHi_NVT",
        "outputId": "324f83c4-8edd-49f9-f24a-675bd36d4410"
      },
      "source": [
        "from sklearn.model_selection import train_test_split\n",
        "from sklearn import metrics\n",
        "\n",
        "from sklearn.linear_model import LogisticRegression\n",
        "from sklearn.discriminant_analysis import LinearDiscriminantAnalysis\n",
        "from sklearn.neighbors import KNeighborsClassifier\n",
        "from sklearn.naive_bayes import GaussianNB\n",
        "from sklearn.tree import DecisionTreeClassifier\n",
        "from sklearn.svm import SVC\n",
        "from sklearn.ensemble import RandomForestClassifier\n",
        "from xgboost import XGBClassifier\n",
        "from sklearn.ensemble import VotingClassifier # Voting Ensemble for Classification\n",
        "\n",
        "from imblearn.over_sampling import SMOTE\n",
        "from imblearn.under_sampling import RandomUnderSampler\n",
        "from imblearn.combine import SMOTEENN\n",
        "\n",
        "from imblearn.pipeline import Pipeline\n",
        "from sklearn.model_selection import GridSearchCV"
      ],
      "execution_count": null,
      "outputs": [
        {
          "output_type": "stream",
          "text": [
            "/usr/local/lib/python3.7/dist-packages/sklearn/externals/six.py:31: FutureWarning: The module is deprecated in version 0.21 and will be removed in version 0.23 since we've dropped support for Python 2.7. Please rely on the official version of six (https://pypi.org/project/six/).\n",
            "  \"(https://pypi.org/project/six/).\", FutureWarning)\n",
            "/usr/local/lib/python3.7/dist-packages/sklearn/utils/deprecation.py:144: FutureWarning: The sklearn.neighbors.base module is  deprecated in version 0.22 and will be removed in version 0.24. The corresponding classes / functions should instead be imported from sklearn.neighbors. Anything that cannot be imported from sklearn.neighbors is now part of the private API.\n",
            "  warnings.warn(message, FutureWarning)\n"
          ],
          "name": "stderr"
        }
      ]
    },
    {
      "cell_type": "code",
      "metadata": {
        "id": "bNa2ovAp_Psz"
      },
      "source": [
        "def try_all_classifiers(X_train, X_test, y_train, y_test, classifiers, sampling  = None, scaler=None):\n",
        "   \n",
        "    accuracy = [0]*len(classifiers)\n",
        "    f1 = [0]*len(classifiers)\n",
        "    precision = [0]*len(classifiers)\n",
        "    recall = [0]*len(classifiers)\n",
        "    i = 0\n",
        "    \n",
        "    model_pipeline = []\n",
        "    Pipeline([\n",
        "        ('sampling', SMOTE()),\n",
        "        ('classification', LogisticRegression())\n",
        "    ])\n",
        "    \n",
        "    if sampling == \"SMOTE\":\n",
        "        model_pipeline.append(('sampling', SMOTE(sampling_strategy=0.6,random_state=random_state) ))\n",
        "        # X_train, y_train = smote.fit_resample(X_train, y_train)\n",
        "        print(\"SMOTE\")\n",
        "    if sampling == \"RUS\":\n",
        "        model_pipeline.append(('sampling', RandomUnderSampler(sampling_strategy=0.6,random_state=random_state) ))\n",
        "        # X_train, y_train = rus.fit_resample(X_train, y_train)\n",
        "        print(\"RUS\")\n",
        "    if sampling == \"SMOTEENN\":\n",
        "        model_pipeline.append(('sampling', SMOTEENN(sampling_strategy=0.6,random_state=random_state) ))\n",
        "        # X_train, y_train = smoteenn.fit_resample(X_train, y_train)\n",
        "        print(\"SMOTEENN\")    \n",
        "\n",
        "    voting_classifs = []\n",
        "    models_for_voting = [0,3,5,6,7,8]\n",
        "    voting_weights = [1,0.5,1,0.5,1,1]\n",
        "    jj =0 \n",
        "        \n",
        "    for i in range(len(classifiers)):\n",
        "        classif = classifiers[i][0]\n",
        "        pipe_parameters = classifiers[i][2]\n",
        "        y_pred = []\n",
        "        print(classifiers_names[i])\n",
        "        pipeline = Pipeline(model_pipeline+[('classifier',classif)])\n",
        "        \n",
        "        if classifiers[i][1] and not scaled_already:\n",
        "            print(\"\\t- Requires scaling and not scaled. Doing it now...\")\n",
        "            grid = GridSearchCV(pipeline, pipe_parameters, cv=2, scoring=\"f1\",n_jobs=-1,verbose=1)\n",
        "            #grid = grid.fit(X_train, y_train)\n",
        "            grid = grid.fit(scaler.transform(X_train), y_train)\n",
        "\n",
        "            #classif.fit(scaler.transform(X_train), y_train)\n",
        "            #y_pred = classif.predict(scaler.transform(X_test))\n",
        "            \n",
        "            display(grid.best_params_)\n",
        "            classif = grid.best_estimator_\n",
        "            y_pred = grid.predict(scaler.transform(X_test))\n",
        "            #classif.fit(scaler.transform(), )\n",
        "            #y_pred = classif.predict(scaler.transform(X_test))\n",
        "            \n",
        "        else:\n",
        "            grid = GridSearchCV(pipeline, pipe_parameters, cv=2, scoring=\"f1\",n_jobs=-1,verbose=1)\n",
        "            grid.fit(X_train, y_train)\n",
        "            display(grid.best_params_)\n",
        "            classif = grid.best_estimator_\n",
        "            y_pred = grid.predict(X_test)\n",
        "            \n",
        "            #classif.fit(X_train, y_train)\n",
        "            #y_pred = classif.predict(X_test)\n",
        "        \n",
        "        if i in models_for_voting:\n",
        "            print(\"\\t- Adding for voting with weight <\"+str(voting_weights[jj])+\">...\")\n",
        "            jj+=1\n",
        "            voting_classifs.append((\"mod\"+str(i+1),classif))\n",
        "        \n",
        "        accuracy[i] = metrics.accuracy_score(y_test, y_pred)\n",
        "        f1[i] = metrics.f1_score(y_test, y_pred, labels=np.unique(y_pred))\n",
        "        precision[i] = metrics.precision_score(y_test, y_pred)\n",
        "        recall[i] = metrics.recall_score(y_test, y_pred)\n",
        "    \n",
        "    print(\"\\n\\nVoting...\")\n",
        "    # create the ensemble model\n",
        "    ensemble = VotingClassifier(voting_classifs,weights=voting_weights,n_jobs=-1,voting=\"hard\")\n",
        "    ensemble.fit(scaler.transform(X_train), y_train)\n",
        "    y_pred = ensemble.predict(scaler.transform(X_test))\n",
        "    \n",
        "    accuracy.append(metrics.accuracy_score(y_test, y_pred))\n",
        "    f1.append(metrics.f1_score(y_test, y_pred, labels=np.unique(y_pred)))\n",
        "    precision.append(metrics.precision_score(y_test, y_pred))\n",
        "    recall.append(metrics.recall_score(y_test, y_pred))\n",
        "\n",
        "    print(\"Done\")\n",
        "    return accuracy,f1,precision,recall"
      ],
      "execution_count": null,
      "outputs": []
    },
    {
      "cell_type": "code",
      "metadata": {
        "id": "KCYpY7lI_XSV"
      },
      "source": [
        "classifiers_names = [\"LR\", \"LDA\", \"KNN-5\", \"KNN-10\", \"GNB\", \"DT\", \"SVC\", \"RFC\", \"XGB\",\"Voting\"]\n",
        "\n",
        "classifiers = [(LogisticRegression(max_iter=2048,random_state=random_state),True,\n",
        "                   [\n",
        "                       #{\n",
        "                       # 'classifier__penalty' : ['l1', 'l2'],\n",
        "                       # 'classifier__C' : np.logspace(-8, 4, 16),\n",
        "                       # 'classifier__solver' : ['liblinear']\n",
        "                       # },\n",
        "                        {\n",
        "                        'classifier__penalty' : ['l2','none'],\n",
        "                        'classifier__C' : np.logspace(-8, 4, 16)\n",
        "                        }\n",
        "                   ]),\n",
        "                (LinearDiscriminantAnalysis(),True,\n",
        "                    { 'classifier__solver' : ['svd', 'lsqr', 'eigen'] }),\n",
        "                (KNeighborsClassifier(n_neighbors=5),True,\n",
        "                    {'classifier__weights' : ['uniform','distance'], 'classifier__metric' : ['euclidean', 'manhattan']}), \n",
        "                (KNeighborsClassifier(n_neighbors=10),True,\n",
        "                    {'classifier__weights' : ['uniform','distance'], 'classifier__metric' : ['euclidean', 'manhattan']}),\n",
        "                (GaussianNB(),True,\n",
        "                    {'classifier__var_smoothing': np.logspace(0,-9, num=100)}),\n",
        "                (DecisionTreeClassifier(random_state=random_state),False,\n",
        "                    { 'classifier__criterion':['gini','entropy'],'classifier__max_depth':[4,5,6,7,8,9,10,11,12,15,20,30,40,50,70,90,120,150]} ),\n",
        "                (SVC(random_state=random_state),True,\n",
        "                    [\n",
        "                        {'classifier__C': [ 0.05, 0.1, 1], \n",
        "                         'classifier__gamma': [0.0001, 1],\n",
        "                         'classifier__kernel': ['rbf']},\n",
        "                        {'classifier__C': [ 0.05, 0.1, 1],\n",
        "                         'classifier__kernel': ['linear']}\n",
        "                    ]),\n",
        "                (RandomForestClassifier(random_state=random_state),False,\n",
        "                     { 'classifier__n_estimators': [int(x) for x in np.linspace(start = 128, stop = 512, num = 4)],\n",
        "                       'classifier__max_features': ['auto'],\n",
        "                       'classifier__max_depth':  [int(x) for x in np.linspace(10, 100, num = 2)]+[None],\n",
        "                       'classifier__min_samples_leaf':  [1, 4],\n",
        "                       'classifier__bootstrap': [False]\n",
        "                     }),\n",
        "                (XGBClassifier(use_label_encoder=False),False,\n",
        "                    {\n",
        "                        'classifier__gamma': [0.5, 1, 2, 5],\n",
        "                        'classifier__colsample_bytree': [0.6, 0.8, 1.0],\n",
        "                        'classifier__max_depth': [3, 6]\n",
        "                    }) ]\n",
        "\n"
      ],
      "execution_count": null,
      "outputs": []
    },
    {
      "cell_type": "code",
      "metadata": {
        "colab": {
          "base_uri": "https://localhost:8080/",
          "height": 1000
        },
        "id": "ccUkvTv6_uk1",
        "outputId": "8a140faf-5256-4c2d-837b-23f3bf3f44a1"
      },
      "source": [
        "accuracy,f1,precision,recall = try_all_classifiers(X_train_imp,X_test_imp,Y_train,Y_test, classifiers, scaler=scaler)"
      ],
      "execution_count": null,
      "outputs": [
        {
          "output_type": "stream",
          "text": [
            "LR\n",
            "\t- Requires scaling and not scaled. Doing it now...\n",
            "Fitting 2 folds for each of 32 candidates, totalling 64 fits\n"
          ],
          "name": "stdout"
        },
        {
          "output_type": "stream",
          "text": [
            "[Parallel(n_jobs=-1)]: Using backend LokyBackend with 2 concurrent workers.\n",
            "[Parallel(n_jobs=-1)]: Done  46 tasks      | elapsed:    4.3s\n",
            "[Parallel(n_jobs=-1)]: Done  64 out of  64 | elapsed:    6.3s finished\n"
          ],
          "name": "stderr"
        },
        {
          "output_type": "display_data",
          "data": {
            "text/plain": [
              "{'classifier__C': 1.0, 'classifier__penalty': 'l2'}"
            ]
          },
          "metadata": {
            "tags": []
          }
        },
        {
          "output_type": "stream",
          "text": [
            "\t- Adding for voting with weight <1>...\n",
            "LDA\n",
            "\t- Requires scaling and not scaled. Doing it now...\n",
            "Fitting 2 folds for each of 3 candidates, totalling 6 fits\n"
          ],
          "name": "stdout"
        },
        {
          "output_type": "stream",
          "text": [
            "[Parallel(n_jobs=-1)]: Using backend LokyBackend with 2 concurrent workers.\n",
            "[Parallel(n_jobs=-1)]: Done   6 out of   6 | elapsed:    0.1s finished\n"
          ],
          "name": "stderr"
        },
        {
          "output_type": "display_data",
          "data": {
            "text/plain": [
              "{'classifier__solver': 'svd'}"
            ]
          },
          "metadata": {
            "tags": []
          }
        },
        {
          "output_type": "stream",
          "text": [
            "KNN-5\n",
            "\t- Requires scaling and not scaled. Doing it now...\n",
            "Fitting 2 folds for each of 4 candidates, totalling 8 fits\n"
          ],
          "name": "stdout"
        },
        {
          "output_type": "stream",
          "text": [
            "[Parallel(n_jobs=-1)]: Using backend LokyBackend with 2 concurrent workers.\n",
            "[Parallel(n_jobs=-1)]: Done   8 out of   8 | elapsed:    3.0s finished\n"
          ],
          "name": "stderr"
        },
        {
          "output_type": "display_data",
          "data": {
            "text/plain": [
              "{'classifier__metric': 'manhattan', 'classifier__weights': 'distance'}"
            ]
          },
          "metadata": {
            "tags": []
          }
        },
        {
          "output_type": "stream",
          "text": [
            "KNN-10\n",
            "\t- Requires scaling and not scaled. Doing it now...\n",
            "Fitting 2 folds for each of 4 candidates, totalling 8 fits\n"
          ],
          "name": "stdout"
        },
        {
          "output_type": "stream",
          "text": [
            "[Parallel(n_jobs=-1)]: Using backend LokyBackend with 2 concurrent workers.\n",
            "[Parallel(n_jobs=-1)]: Done   8 out of   8 | elapsed:    3.1s finished\n"
          ],
          "name": "stderr"
        },
        {
          "output_type": "display_data",
          "data": {
            "text/plain": [
              "{'classifier__metric': 'manhattan', 'classifier__weights': 'distance'}"
            ]
          },
          "metadata": {
            "tags": []
          }
        },
        {
          "output_type": "stream",
          "text": [
            "\t- Adding for voting with weight <0.5>...\n",
            "GNB\n",
            "\t- Requires scaling and not scaled. Doing it now...\n",
            "Fitting 2 folds for each of 100 candidates, totalling 200 fits\n"
          ],
          "name": "stdout"
        },
        {
          "output_type": "stream",
          "text": [
            "[Parallel(n_jobs=-1)]: Using backend LokyBackend with 2 concurrent workers.\n",
            "[Parallel(n_jobs=-1)]: Done 200 out of 200 | elapsed:    1.3s finished\n"
          ],
          "name": "stderr"
        },
        {
          "output_type": "display_data",
          "data": {
            "text/plain": [
              "{'classifier__var_smoothing': 0.04328761281083057}"
            ]
          },
          "metadata": {
            "tags": []
          }
        },
        {
          "output_type": "stream",
          "text": [
            "[Parallel(n_jobs=-1)]: Using backend LokyBackend with 2 concurrent workers.\n"
          ],
          "name": "stderr"
        },
        {
          "output_type": "stream",
          "text": [
            "DT\n",
            "Fitting 2 folds for each of 36 candidates, totalling 72 fits\n"
          ],
          "name": "stdout"
        },
        {
          "output_type": "stream",
          "text": [
            "[Parallel(n_jobs=-1)]: Done  72 out of  72 | elapsed:    5.8s finished\n"
          ],
          "name": "stderr"
        },
        {
          "output_type": "display_data",
          "data": {
            "text/plain": [
              "{'classifier__criterion': 'entropy', 'classifier__max_depth': 5}"
            ]
          },
          "metadata": {
            "tags": []
          }
        },
        {
          "output_type": "stream",
          "text": [
            "\t- Adding for voting with weight <1>...\n",
            "SVC\n",
            "\t- Requires scaling and not scaled. Doing it now...\n",
            "Fitting 2 folds for each of 9 candidates, totalling 18 fits\n"
          ],
          "name": "stdout"
        },
        {
          "output_type": "stream",
          "text": [
            "[Parallel(n_jobs=-1)]: Using backend LokyBackend with 2 concurrent workers.\n",
            "[Parallel(n_jobs=-1)]: Done  18 out of  18 | elapsed:   30.8s finished\n"
          ],
          "name": "stderr"
        },
        {
          "output_type": "display_data",
          "data": {
            "text/plain": [
              "{'classifier__C': 0.05,\n",
              " 'classifier__gamma': 0.0001,\n",
              " 'classifier__kernel': 'rbf'}"
            ]
          },
          "metadata": {
            "tags": []
          }
        },
        {
          "output_type": "stream",
          "text": [
            "\t- Adding for voting with weight <0.5>...\n",
            "RFC\n",
            "Fitting 2 folds for each of 24 candidates, totalling 48 fits\n"
          ],
          "name": "stdout"
        },
        {
          "output_type": "stream",
          "text": [
            "/usr/local/lib/python3.7/dist-packages/sklearn/metrics/_classification.py:1272: UndefinedMetricWarning: Precision is ill-defined and being set to 0.0 due to no predicted samples. Use `zero_division` parameter to control this behavior.\n",
            "  _warn_prf(average, modifier, msg_start, len(result))\n",
            "[Parallel(n_jobs=-1)]: Using backend LokyBackend with 2 concurrent workers.\n",
            "[Parallel(n_jobs=-1)]: Done  48 out of  48 | elapsed:  3.7min finished\n"
          ],
          "name": "stderr"
        },
        {
          "output_type": "display_data",
          "data": {
            "text/plain": [
              "{'classifier__bootstrap': False,\n",
              " 'classifier__max_depth': 100,\n",
              " 'classifier__max_features': 'auto',\n",
              " 'classifier__min_samples_leaf': 1,\n",
              " 'classifier__n_estimators': 512}"
            ]
          },
          "metadata": {
            "tags": []
          }
        },
        {
          "output_type": "stream",
          "text": [
            "\t- Adding for voting with weight <1>...\n",
            "XGB\n",
            "Fitting 2 folds for each of 24 candidates, totalling 48 fits\n"
          ],
          "name": "stdout"
        },
        {
          "output_type": "stream",
          "text": [
            "[Parallel(n_jobs=-1)]: Using backend LokyBackend with 2 concurrent workers.\n",
            "[Parallel(n_jobs=-1)]: Done  48 out of  48 | elapsed:   29.0s finished\n"
          ],
          "name": "stderr"
        },
        {
          "output_type": "display_data",
          "data": {
            "text/plain": [
              "{'classifier__colsample_bytree': 1.0,\n",
              " 'classifier__gamma': 0.5,\n",
              " 'classifier__max_depth': 6}"
            ]
          },
          "metadata": {
            "tags": []
          }
        },
        {
          "output_type": "stream",
          "text": [
            "\t- Adding for voting with weight <1>...\n",
            "\n",
            "\n",
            "Voting...\n",
            "Done\n"
          ],
          "name": "stdout"
        }
      ]
    },
    {
      "cell_type": "code",
      "metadata": {
        "colab": {
          "base_uri": "https://localhost:8080/",
          "height": 1000
        },
        "id": "POamfV_J_x29",
        "outputId": "a608ca8f-e88d-4fe4-84b9-2c490727faff"
      },
      "source": [
        "accuracy_sm,f1_sm,precision_sm,recall_sm = try_all_classifiers(X_train_imp,X_test_imp,Y_train,Y_test, classifiers, sampling = \"SMOTE\", scaler=scaler)\n"
      ],
      "execution_count": null,
      "outputs": [
        {
          "output_type": "stream",
          "text": [
            "SMOTE\n",
            "LR\n",
            "\t- Requires scaling and not scaled. Doing it now...\n",
            "Fitting 2 folds for each of 32 candidates, totalling 64 fits\n"
          ],
          "name": "stdout"
        },
        {
          "output_type": "stream",
          "text": [
            "[Parallel(n_jobs=-1)]: Using backend LokyBackend with 2 concurrent workers.\n",
            "[Parallel(n_jobs=-1)]: Done  64 out of  64 | elapsed:   11.1s finished\n",
            "/usr/local/lib/python3.7/dist-packages/sklearn/utils/deprecation.py:87: FutureWarning: Function safe_indexing is deprecated; safe_indexing is deprecated in version 0.22 and will be removed in version 0.24.\n",
            "  warnings.warn(msg, category=FutureWarning)\n"
          ],
          "name": "stderr"
        },
        {
          "output_type": "display_data",
          "data": {
            "text/plain": [
              "{'classifier__C': 1584.8931924611175, 'classifier__penalty': 'l2'}"
            ]
          },
          "metadata": {
            "tags": []
          }
        },
        {
          "output_type": "stream",
          "text": [
            "\t- Adding for voting with weight <1>...\n",
            "LDA\n",
            "\t- Requires scaling and not scaled. Doing it now...\n",
            "Fitting 2 folds for each of 3 candidates, totalling 6 fits\n"
          ],
          "name": "stdout"
        },
        {
          "output_type": "stream",
          "text": [
            "[Parallel(n_jobs=-1)]: Using backend LokyBackend with 2 concurrent workers.\n",
            "[Parallel(n_jobs=-1)]: Done   6 out of   6 | elapsed:    0.2s finished\n",
            "/usr/local/lib/python3.7/dist-packages/sklearn/utils/deprecation.py:87: FutureWarning: Function safe_indexing is deprecated; safe_indexing is deprecated in version 0.22 and will be removed in version 0.24.\n",
            "  warnings.warn(msg, category=FutureWarning)\n"
          ],
          "name": "stderr"
        },
        {
          "output_type": "display_data",
          "data": {
            "text/plain": [
              "{'classifier__solver': 'svd'}"
            ]
          },
          "metadata": {
            "tags": []
          }
        },
        {
          "output_type": "stream",
          "text": [
            "KNN-5\n",
            "\t- Requires scaling and not scaled. Doing it now...\n",
            "Fitting 2 folds for each of 4 candidates, totalling 8 fits\n"
          ],
          "name": "stdout"
        },
        {
          "output_type": "stream",
          "text": [
            "[Parallel(n_jobs=-1)]: Using backend LokyBackend with 2 concurrent workers.\n",
            "[Parallel(n_jobs=-1)]: Done   8 out of   8 | elapsed:    4.0s finished\n",
            "/usr/local/lib/python3.7/dist-packages/sklearn/utils/deprecation.py:87: FutureWarning: Function safe_indexing is deprecated; safe_indexing is deprecated in version 0.22 and will be removed in version 0.24.\n",
            "  warnings.warn(msg, category=FutureWarning)\n"
          ],
          "name": "stderr"
        },
        {
          "output_type": "display_data",
          "data": {
            "text/plain": [
              "{'classifier__metric': 'manhattan', 'classifier__weights': 'distance'}"
            ]
          },
          "metadata": {
            "tags": []
          }
        },
        {
          "output_type": "stream",
          "text": [
            "KNN-10\n",
            "\t- Requires scaling and not scaled. Doing it now...\n",
            "Fitting 2 folds for each of 4 candidates, totalling 8 fits\n"
          ],
          "name": "stdout"
        },
        {
          "output_type": "stream",
          "text": [
            "[Parallel(n_jobs=-1)]: Using backend LokyBackend with 2 concurrent workers.\n",
            "[Parallel(n_jobs=-1)]: Done   8 out of   8 | elapsed:    4.3s finished\n",
            "/usr/local/lib/python3.7/dist-packages/sklearn/utils/deprecation.py:87: FutureWarning: Function safe_indexing is deprecated; safe_indexing is deprecated in version 0.22 and will be removed in version 0.24.\n",
            "  warnings.warn(msg, category=FutureWarning)\n"
          ],
          "name": "stderr"
        },
        {
          "output_type": "display_data",
          "data": {
            "text/plain": [
              "{'classifier__metric': 'manhattan', 'classifier__weights': 'uniform'}"
            ]
          },
          "metadata": {
            "tags": []
          }
        },
        {
          "output_type": "stream",
          "text": [
            "\t- Adding for voting with weight <0.5>...\n",
            "GNB\n",
            "\t- Requires scaling and not scaled. Doing it now...\n",
            "Fitting 2 folds for each of 100 candidates, totalling 200 fits\n"
          ],
          "name": "stdout"
        },
        {
          "output_type": "stream",
          "text": [
            "[Parallel(n_jobs=-1)]: Using backend LokyBackend with 2 concurrent workers.\n",
            "[Parallel(n_jobs=-1)]: Done 164 tasks      | elapsed:    3.4s\n",
            "[Parallel(n_jobs=-1)]: Done 200 out of 200 | elapsed:    4.2s finished\n",
            "/usr/local/lib/python3.7/dist-packages/sklearn/utils/deprecation.py:87: FutureWarning: Function safe_indexing is deprecated; safe_indexing is deprecated in version 0.22 and will be removed in version 0.24.\n",
            "  warnings.warn(msg, category=FutureWarning)\n"
          ],
          "name": "stderr"
        },
        {
          "output_type": "display_data",
          "data": {
            "text/plain": [
              "{'classifier__var_smoothing': 0.23101297000831597}"
            ]
          },
          "metadata": {
            "tags": []
          }
        },
        {
          "output_type": "stream",
          "text": [
            "[Parallel(n_jobs=-1)]: Using backend LokyBackend with 2 concurrent workers.\n"
          ],
          "name": "stderr"
        },
        {
          "output_type": "stream",
          "text": [
            "DT\n",
            "Fitting 2 folds for each of 36 candidates, totalling 72 fits\n"
          ],
          "name": "stdout"
        },
        {
          "output_type": "stream",
          "text": [
            "[Parallel(n_jobs=-1)]: Done  72 out of  72 | elapsed:   10.1s finished\n",
            "/usr/local/lib/python3.7/dist-packages/sklearn/utils/deprecation.py:87: FutureWarning: Function safe_indexing is deprecated; safe_indexing is deprecated in version 0.22 and will be removed in version 0.24.\n",
            "  warnings.warn(msg, category=FutureWarning)\n"
          ],
          "name": "stderr"
        },
        {
          "output_type": "display_data",
          "data": {
            "text/plain": [
              "{'classifier__criterion': 'entropy', 'classifier__max_depth': 20}"
            ]
          },
          "metadata": {
            "tags": []
          }
        },
        {
          "output_type": "stream",
          "text": [
            "\t- Adding for voting with weight <1>...\n",
            "SVC\n",
            "\t- Requires scaling and not scaled. Doing it now...\n",
            "Fitting 2 folds for each of 9 candidates, totalling 18 fits\n"
          ],
          "name": "stdout"
        },
        {
          "output_type": "stream",
          "text": [
            "[Parallel(n_jobs=-1)]: Using backend LokyBackend with 2 concurrent workers.\n",
            "[Parallel(n_jobs=-1)]: Done  18 out of  18 | elapsed:   32.6s finished\n",
            "/usr/local/lib/python3.7/dist-packages/sklearn/utils/deprecation.py:87: FutureWarning: Function safe_indexing is deprecated; safe_indexing is deprecated in version 0.22 and will be removed in version 0.24.\n",
            "  warnings.warn(msg, category=FutureWarning)\n"
          ],
          "name": "stderr"
        },
        {
          "output_type": "display_data",
          "data": {
            "text/plain": [
              "{'classifier__C': 1, 'classifier__gamma': 1, 'classifier__kernel': 'rbf'}"
            ]
          },
          "metadata": {
            "tags": []
          }
        },
        {
          "output_type": "stream",
          "text": [
            "\t- Adding for voting with weight <0.5>...\n",
            "RFC\n",
            "Fitting 2 folds for each of 24 candidates, totalling 48 fits\n"
          ],
          "name": "stdout"
        },
        {
          "output_type": "stream",
          "text": [
            "[Parallel(n_jobs=-1)]: Using backend LokyBackend with 2 concurrent workers.\n",
            "[Parallel(n_jobs=-1)]: Done  48 out of  48 | elapsed:  5.5min finished\n",
            "/usr/local/lib/python3.7/dist-packages/sklearn/utils/deprecation.py:87: FutureWarning: Function safe_indexing is deprecated; safe_indexing is deprecated in version 0.22 and will be removed in version 0.24.\n",
            "  warnings.warn(msg, category=FutureWarning)\n"
          ],
          "name": "stderr"
        },
        {
          "output_type": "display_data",
          "data": {
            "text/plain": [
              "{'classifier__bootstrap': False,\n",
              " 'classifier__max_depth': 10,\n",
              " 'classifier__max_features': 'auto',\n",
              " 'classifier__min_samples_leaf': 4,\n",
              " 'classifier__n_estimators': 384}"
            ]
          },
          "metadata": {
            "tags": []
          }
        },
        {
          "output_type": "stream",
          "text": [
            "\t- Adding for voting with weight <1>...\n",
            "XGB\n",
            "Fitting 2 folds for each of 24 candidates, totalling 48 fits\n"
          ],
          "name": "stdout"
        },
        {
          "output_type": "stream",
          "text": [
            "[Parallel(n_jobs=-1)]: Using backend LokyBackend with 2 concurrent workers.\n",
            "[Parallel(n_jobs=-1)]: Done  48 out of  48 | elapsed:   46.0s finished\n",
            "/usr/local/lib/python3.7/dist-packages/sklearn/utils/deprecation.py:87: FutureWarning: Function safe_indexing is deprecated; safe_indexing is deprecated in version 0.22 and will be removed in version 0.24.\n",
            "  warnings.warn(msg, category=FutureWarning)\n"
          ],
          "name": "stderr"
        },
        {
          "output_type": "display_data",
          "data": {
            "text/plain": [
              "{'classifier__colsample_bytree': 0.8,\n",
              " 'classifier__gamma': 0.5,\n",
              " 'classifier__max_depth': 6}"
            ]
          },
          "metadata": {
            "tags": []
          }
        },
        {
          "output_type": "stream",
          "text": [
            "\t- Adding for voting with weight <1>...\n",
            "\n",
            "\n",
            "Voting...\n"
          ],
          "name": "stdout"
        },
        {
          "output_type": "stream",
          "text": [
            "/usr/local/lib/python3.7/dist-packages/joblib/externals/loky/process_executor.py:691: UserWarning: A worker stopped while some jobs were given to the executor. This can be caused by a too short worker timeout or by a memory leak.\n",
            "  \"timeout or by a memory leak.\", UserWarning\n"
          ],
          "name": "stderr"
        },
        {
          "output_type": "stream",
          "text": [
            "Done\n"
          ],
          "name": "stdout"
        }
      ]
    },
    {
      "cell_type": "code",
      "metadata": {
        "colab": {
          "base_uri": "https://localhost:8080/",
          "height": 1000
        },
        "id": "eFXlnCVO_093",
        "outputId": "cc05ad76-ac6f-4644-f909-003172c6a562"
      },
      "source": [
        "accuracy_rus,f1_rus,precision_rus,recall_rus = try_all_classifiers(X_train_imp,X_test_imp,Y_train,Y_test, classifiers, sampling = \"RUS\", scaler=scaler)\n"
      ],
      "execution_count": null,
      "outputs": [
        {
          "output_type": "stream",
          "text": [
            "RUS\n",
            "LR\n",
            "\t- Requires scaling and not scaled. Doing it now...\n",
            "Fitting 2 folds for each of 32 candidates, totalling 64 fits\n"
          ],
          "name": "stdout"
        },
        {
          "output_type": "stream",
          "text": [
            "[Parallel(n_jobs=-1)]: Using backend LokyBackend with 2 concurrent workers.\n",
            "[Parallel(n_jobs=-1)]: Done  64 out of  64 | elapsed:    7.6s finished\n",
            "/usr/local/lib/python3.7/dist-packages/sklearn/utils/deprecation.py:87: FutureWarning: Function safe_indexing is deprecated; safe_indexing is deprecated in version 0.22 and will be removed in version 0.24.\n",
            "  warnings.warn(msg, category=FutureWarning)\n",
            "/usr/local/lib/python3.7/dist-packages/sklearn/linear_model/_logistic.py:1505: UserWarning: Setting penalty='none' will ignore the C and l1_ratio parameters\n",
            "  \"Setting penalty='none' will ignore the C and l1_ratio \"\n"
          ],
          "name": "stderr"
        },
        {
          "output_type": "display_data",
          "data": {
            "text/plain": [
              "{'classifier__C': 1e-08, 'classifier__penalty': 'none'}"
            ]
          },
          "metadata": {
            "tags": []
          }
        },
        {
          "output_type": "stream",
          "text": [
            "\t- Adding for voting with weight <1>...\n",
            "LDA\n",
            "\t- Requires scaling and not scaled. Doing it now...\n",
            "Fitting 2 folds for each of 3 candidates, totalling 6 fits\n"
          ],
          "name": "stdout"
        },
        {
          "output_type": "stream",
          "text": [
            "[Parallel(n_jobs=-1)]: Using backend LokyBackend with 2 concurrent workers.\n",
            "[Parallel(n_jobs=-1)]: Done   6 out of   6 | elapsed:    0.1s finished\n",
            "/usr/local/lib/python3.7/dist-packages/sklearn/utils/deprecation.py:87: FutureWarning: Function safe_indexing is deprecated; safe_indexing is deprecated in version 0.22 and will be removed in version 0.24.\n",
            "  warnings.warn(msg, category=FutureWarning)\n"
          ],
          "name": "stderr"
        },
        {
          "output_type": "display_data",
          "data": {
            "text/plain": [
              "{'classifier__solver': 'svd'}"
            ]
          },
          "metadata": {
            "tags": []
          }
        },
        {
          "output_type": "stream",
          "text": [
            "KNN-5\n",
            "\t- Requires scaling and not scaled. Doing it now...\n",
            "Fitting 2 folds for each of 4 candidates, totalling 8 fits\n"
          ],
          "name": "stdout"
        },
        {
          "output_type": "stream",
          "text": [
            "[Parallel(n_jobs=-1)]: Using backend LokyBackend with 2 concurrent workers.\n",
            "[Parallel(n_jobs=-1)]: Done   8 out of   8 | elapsed:    1.1s finished\n",
            "/usr/local/lib/python3.7/dist-packages/sklearn/utils/deprecation.py:87: FutureWarning: Function safe_indexing is deprecated; safe_indexing is deprecated in version 0.22 and will be removed in version 0.24.\n",
            "  warnings.warn(msg, category=FutureWarning)\n"
          ],
          "name": "stderr"
        },
        {
          "output_type": "display_data",
          "data": {
            "text/plain": [
              "{'classifier__metric': 'euclidean', 'classifier__weights': 'uniform'}"
            ]
          },
          "metadata": {
            "tags": []
          }
        },
        {
          "output_type": "stream",
          "text": [
            "KNN-10\n",
            "\t- Requires scaling and not scaled. Doing it now...\n",
            "Fitting 2 folds for each of 4 candidates, totalling 8 fits\n"
          ],
          "name": "stdout"
        },
        {
          "output_type": "stream",
          "text": [
            "[Parallel(n_jobs=-1)]: Using backend LokyBackend with 2 concurrent workers.\n",
            "[Parallel(n_jobs=-1)]: Done   8 out of   8 | elapsed:    1.1s finished\n",
            "/usr/local/lib/python3.7/dist-packages/sklearn/utils/deprecation.py:87: FutureWarning: Function safe_indexing is deprecated; safe_indexing is deprecated in version 0.22 and will be removed in version 0.24.\n",
            "  warnings.warn(msg, category=FutureWarning)\n"
          ],
          "name": "stderr"
        },
        {
          "output_type": "display_data",
          "data": {
            "text/plain": [
              "{'classifier__metric': 'manhattan', 'classifier__weights': 'uniform'}"
            ]
          },
          "metadata": {
            "tags": []
          }
        },
        {
          "output_type": "stream",
          "text": [
            "\t- Adding for voting with weight <0.5>...\n",
            "GNB\n",
            "\t- Requires scaling and not scaled. Doing it now...\n",
            "Fitting 2 folds for each of 100 candidates, totalling 200 fits\n"
          ],
          "name": "stdout"
        },
        {
          "output_type": "stream",
          "text": [
            "[Parallel(n_jobs=-1)]: Using backend LokyBackend with 2 concurrent workers.\n",
            "[Parallel(n_jobs=-1)]: Done 200 out of 200 | elapsed:    1.5s finished\n",
            "/usr/local/lib/python3.7/dist-packages/sklearn/utils/deprecation.py:87: FutureWarning: Function safe_indexing is deprecated; safe_indexing is deprecated in version 0.22 and will be removed in version 0.24.\n",
            "  warnings.warn(msg, category=FutureWarning)\n"
          ],
          "name": "stderr"
        },
        {
          "output_type": "display_data",
          "data": {
            "text/plain": [
              "{'classifier__var_smoothing': 8.111308307896872e-05}"
            ]
          },
          "metadata": {
            "tags": []
          }
        },
        {
          "output_type": "stream",
          "text": [
            "[Parallel(n_jobs=-1)]: Using backend LokyBackend with 2 concurrent workers.\n"
          ],
          "name": "stderr"
        },
        {
          "output_type": "stream",
          "text": [
            "DT\n",
            "Fitting 2 folds for each of 36 candidates, totalling 72 fits\n"
          ],
          "name": "stdout"
        },
        {
          "output_type": "stream",
          "text": [
            "[Parallel(n_jobs=-1)]: Done  72 out of  72 | elapsed:    1.1s finished\n",
            "/usr/local/lib/python3.7/dist-packages/sklearn/utils/deprecation.py:87: FutureWarning: Function safe_indexing is deprecated; safe_indexing is deprecated in version 0.22 and will be removed in version 0.24.\n",
            "  warnings.warn(msg, category=FutureWarning)\n"
          ],
          "name": "stderr"
        },
        {
          "output_type": "display_data",
          "data": {
            "text/plain": [
              "{'classifier__criterion': 'gini', 'classifier__max_depth': 4}"
            ]
          },
          "metadata": {
            "tags": []
          }
        },
        {
          "output_type": "stream",
          "text": [
            "[Parallel(n_jobs=-1)]: Using backend LokyBackend with 2 concurrent workers.\n"
          ],
          "name": "stderr"
        },
        {
          "output_type": "stream",
          "text": [
            "\t- Adding for voting with weight <1>...\n",
            "SVC\n",
            "\t- Requires scaling and not scaled. Doing it now...\n",
            "Fitting 2 folds for each of 9 candidates, totalling 18 fits\n"
          ],
          "name": "stdout"
        },
        {
          "output_type": "stream",
          "text": [
            "[Parallel(n_jobs=-1)]: Done  18 out of  18 | elapsed:    1.1s finished\n",
            "/usr/local/lib/python3.7/dist-packages/sklearn/utils/deprecation.py:87: FutureWarning: Function safe_indexing is deprecated; safe_indexing is deprecated in version 0.22 and will be removed in version 0.24.\n",
            "  warnings.warn(msg, category=FutureWarning)\n"
          ],
          "name": "stderr"
        },
        {
          "output_type": "display_data",
          "data": {
            "text/plain": [
              "{'classifier__C': 1, 'classifier__gamma': 1, 'classifier__kernel': 'rbf'}"
            ]
          },
          "metadata": {
            "tags": []
          }
        },
        {
          "output_type": "stream",
          "text": [
            "\t- Adding for voting with weight <0.5>...\n",
            "RFC\n",
            "Fitting 2 folds for each of 24 candidates, totalling 48 fits\n"
          ],
          "name": "stdout"
        },
        {
          "output_type": "stream",
          "text": [
            "[Parallel(n_jobs=-1)]: Using backend LokyBackend with 2 concurrent workers.\n",
            "[Parallel(n_jobs=-1)]: Done  48 out of  48 | elapsed:   37.3s finished\n",
            "/usr/local/lib/python3.7/dist-packages/sklearn/utils/deprecation.py:87: FutureWarning: Function safe_indexing is deprecated; safe_indexing is deprecated in version 0.22 and will be removed in version 0.24.\n",
            "  warnings.warn(msg, category=FutureWarning)\n"
          ],
          "name": "stderr"
        },
        {
          "output_type": "display_data",
          "data": {
            "text/plain": [
              "{'classifier__bootstrap': False,\n",
              " 'classifier__max_depth': 10,\n",
              " 'classifier__max_features': 'auto',\n",
              " 'classifier__min_samples_leaf': 1,\n",
              " 'classifier__n_estimators': 512}"
            ]
          },
          "metadata": {
            "tags": []
          }
        },
        {
          "output_type": "stream",
          "text": [
            "\t- Adding for voting with weight <1>...\n",
            "XGB\n",
            "Fitting 2 folds for each of 24 candidates, totalling 48 fits\n"
          ],
          "name": "stdout"
        },
        {
          "output_type": "stream",
          "text": [
            "[Parallel(n_jobs=-1)]: Using backend LokyBackend with 2 concurrent workers.\n",
            "[Parallel(n_jobs=-1)]: Done  48 out of  48 | elapsed:    5.0s finished\n",
            "/usr/local/lib/python3.7/dist-packages/sklearn/utils/deprecation.py:87: FutureWarning: Function safe_indexing is deprecated; safe_indexing is deprecated in version 0.22 and will be removed in version 0.24.\n",
            "  warnings.warn(msg, category=FutureWarning)\n"
          ],
          "name": "stderr"
        },
        {
          "output_type": "display_data",
          "data": {
            "text/plain": [
              "{'classifier__colsample_bytree': 0.6,\n",
              " 'classifier__gamma': 0.5,\n",
              " 'classifier__max_depth': 3}"
            ]
          },
          "metadata": {
            "tags": []
          }
        },
        {
          "output_type": "stream",
          "text": [
            "\t- Adding for voting with weight <1>...\n",
            "\n",
            "\n",
            "Voting...\n",
            "Done\n"
          ],
          "name": "stdout"
        }
      ]
    },
    {
      "cell_type": "code",
      "metadata": {
        "colab": {
          "background_save": true,
          "base_uri": "https://localhost:8080/",
          "height": 1000
        },
        "id": "0gfJfFGm_5y8",
        "outputId": "d16332e3-c490-4f43-d589-1c17f58ed4d3"
      },
      "source": [
        "accuracy_smoteenn,f1_smoteenn,precision_smoteenn,recall_smoteenn = try_all_classifiers(X_train_imp,X_test_imp,Y_train,Y_test, classifiers, sampling = \"SMOTEENN\",scaler=scaler)\n"
      ],
      "execution_count": null,
      "outputs": [
        {
          "output_type": "stream",
          "text": [
            "SMOTEENN\n",
            "LR\n",
            "\t- Requires scaling and not scaled. Doing it now...\n",
            "Fitting 2 folds for each of 32 candidates, totalling 64 fits\n"
          ],
          "name": "stdout"
        },
        {
          "output_type": "stream",
          "text": [
            "[Parallel(n_jobs=-1)]: Using backend LokyBackend with 2 concurrent workers.\n",
            "[Parallel(n_jobs=-1)]: Done  46 tasks      | elapsed:   29.6s\n",
            "[Parallel(n_jobs=-1)]: Done  64 out of  64 | elapsed:   44.2s finished\n",
            "/usr/local/lib/python3.7/dist-packages/sklearn/utils/deprecation.py:87: FutureWarning: Function safe_indexing is deprecated; safe_indexing is deprecated in version 0.22 and will be removed in version 0.24.\n",
            "  warnings.warn(msg, category=FutureWarning)\n",
            "/usr/local/lib/python3.7/dist-packages/sklearn/utils/deprecation.py:87: FutureWarning: Function safe_indexing is deprecated; safe_indexing is deprecated in version 0.22 and will be removed in version 0.24.\n",
            "  warnings.warn(msg, category=FutureWarning)\n",
            "/usr/local/lib/python3.7/dist-packages/sklearn/utils/deprecation.py:87: FutureWarning: Function safe_indexing is deprecated; safe_indexing is deprecated in version 0.22 and will be removed in version 0.24.\n",
            "  warnings.warn(msg, category=FutureWarning)\n",
            "/usr/local/lib/python3.7/dist-packages/sklearn/utils/deprecation.py:87: FutureWarning: Function safe_indexing is deprecated; safe_indexing is deprecated in version 0.22 and will be removed in version 0.24.\n",
            "  warnings.warn(msg, category=FutureWarning)\n"
          ],
          "name": "stderr"
        },
        {
          "output_type": "display_data",
          "data": {
            "text/plain": [
              "{'classifier__C': 39.810717055349855, 'classifier__penalty': 'l2'}"
            ]
          },
          "metadata": {
            "tags": []
          }
        },
        {
          "output_type": "stream",
          "text": [
            "\t- Adding for voting with weight <1>...\n",
            "LDA\n",
            "\t- Requires scaling and not scaled. Doing it now...\n",
            "Fitting 2 folds for each of 3 candidates, totalling 6 fits\n"
          ],
          "name": "stdout"
        },
        {
          "output_type": "stream",
          "text": [
            "[Parallel(n_jobs=-1)]: Using backend LokyBackend with 2 concurrent workers.\n",
            "[Parallel(n_jobs=-1)]: Done   6 out of   6 | elapsed:    2.7s finished\n",
            "/usr/local/lib/python3.7/dist-packages/sklearn/utils/deprecation.py:87: FutureWarning: Function safe_indexing is deprecated; safe_indexing is deprecated in version 0.22 and will be removed in version 0.24.\n",
            "  warnings.warn(msg, category=FutureWarning)\n",
            "/usr/local/lib/python3.7/dist-packages/sklearn/utils/deprecation.py:87: FutureWarning: Function safe_indexing is deprecated; safe_indexing is deprecated in version 0.22 and will be removed in version 0.24.\n",
            "  warnings.warn(msg, category=FutureWarning)\n",
            "/usr/local/lib/python3.7/dist-packages/sklearn/utils/deprecation.py:87: FutureWarning: Function safe_indexing is deprecated; safe_indexing is deprecated in version 0.22 and will be removed in version 0.24.\n",
            "  warnings.warn(msg, category=FutureWarning)\n",
            "/usr/local/lib/python3.7/dist-packages/sklearn/utils/deprecation.py:87: FutureWarning: Function safe_indexing is deprecated; safe_indexing is deprecated in version 0.22 and will be removed in version 0.24.\n",
            "  warnings.warn(msg, category=FutureWarning)\n"
          ],
          "name": "stderr"
        },
        {
          "output_type": "display_data",
          "data": {
            "text/plain": [
              "{'classifier__solver': 'svd'}"
            ]
          },
          "metadata": {
            "tags": []
          }
        },
        {
          "output_type": "stream",
          "text": [
            "[Parallel(n_jobs=-1)]: Using backend LokyBackend with 2 concurrent workers.\n"
          ],
          "name": "stderr"
        },
        {
          "output_type": "stream",
          "text": [
            "KNN-5\n",
            "\t- Requires scaling and not scaled. Doing it now...\n",
            "Fitting 2 folds for each of 4 candidates, totalling 8 fits\n"
          ],
          "name": "stdout"
        },
        {
          "output_type": "stream",
          "text": [
            "[Parallel(n_jobs=-1)]: Done   8 out of   8 | elapsed:    6.6s finished\n",
            "/usr/local/lib/python3.7/dist-packages/sklearn/utils/deprecation.py:87: FutureWarning: Function safe_indexing is deprecated; safe_indexing is deprecated in version 0.22 and will be removed in version 0.24.\n",
            "  warnings.warn(msg, category=FutureWarning)\n",
            "/usr/local/lib/python3.7/dist-packages/sklearn/utils/deprecation.py:87: FutureWarning: Function safe_indexing is deprecated; safe_indexing is deprecated in version 0.22 and will be removed in version 0.24.\n",
            "  warnings.warn(msg, category=FutureWarning)\n",
            "/usr/local/lib/python3.7/dist-packages/sklearn/utils/deprecation.py:87: FutureWarning: Function safe_indexing is deprecated; safe_indexing is deprecated in version 0.22 and will be removed in version 0.24.\n",
            "  warnings.warn(msg, category=FutureWarning)\n",
            "/usr/local/lib/python3.7/dist-packages/sklearn/utils/deprecation.py:87: FutureWarning: Function safe_indexing is deprecated; safe_indexing is deprecated in version 0.22 and will be removed in version 0.24.\n",
            "  warnings.warn(msg, category=FutureWarning)\n"
          ],
          "name": "stderr"
        },
        {
          "output_type": "display_data",
          "data": {
            "text/plain": [
              "{'classifier__metric': 'manhattan', 'classifier__weights': 'uniform'}"
            ]
          },
          "metadata": {
            "tags": []
          }
        },
        {
          "output_type": "stream",
          "text": [
            "KNN-10\n",
            "\t- Requires scaling and not scaled. Doing it now...\n",
            "Fitting 2 folds for each of 4 candidates, totalling 8 fits\n"
          ],
          "name": "stdout"
        },
        {
          "output_type": "stream",
          "text": [
            "[Parallel(n_jobs=-1)]: Using backend LokyBackend with 2 concurrent workers.\n",
            "[Parallel(n_jobs=-1)]: Done   8 out of   8 | elapsed:    6.9s finished\n",
            "/usr/local/lib/python3.7/dist-packages/sklearn/utils/deprecation.py:87: FutureWarning: Function safe_indexing is deprecated; safe_indexing is deprecated in version 0.22 and will be removed in version 0.24.\n",
            "  warnings.warn(msg, category=FutureWarning)\n",
            "/usr/local/lib/python3.7/dist-packages/sklearn/utils/deprecation.py:87: FutureWarning: Function safe_indexing is deprecated; safe_indexing is deprecated in version 0.22 and will be removed in version 0.24.\n",
            "  warnings.warn(msg, category=FutureWarning)\n",
            "/usr/local/lib/python3.7/dist-packages/sklearn/utils/deprecation.py:87: FutureWarning: Function safe_indexing is deprecated; safe_indexing is deprecated in version 0.22 and will be removed in version 0.24.\n",
            "  warnings.warn(msg, category=FutureWarning)\n",
            "/usr/local/lib/python3.7/dist-packages/sklearn/utils/deprecation.py:87: FutureWarning: Function safe_indexing is deprecated; safe_indexing is deprecated in version 0.22 and will be removed in version 0.24.\n",
            "  warnings.warn(msg, category=FutureWarning)\n"
          ],
          "name": "stderr"
        },
        {
          "output_type": "display_data",
          "data": {
            "text/plain": [
              "{'classifier__metric': 'manhattan', 'classifier__weights': 'uniform'}"
            ]
          },
          "metadata": {
            "tags": []
          }
        },
        {
          "output_type": "stream",
          "text": [
            "\t- Adding for voting with weight <0.5>...\n",
            "GNB\n",
            "\t- Requires scaling and not scaled. Doing it now...\n",
            "Fitting 2 folds for each of 100 candidates, totalling 200 fits\n"
          ],
          "name": "stdout"
        },
        {
          "output_type": "stream",
          "text": [
            "[Parallel(n_jobs=-1)]: Using backend LokyBackend with 2 concurrent workers.\n",
            "[Parallel(n_jobs=-1)]: Done  46 tasks      | elapsed:   18.9s\n",
            "[Parallel(n_jobs=-1)]: Done 196 tasks      | elapsed:  1.3min\n",
            "[Parallel(n_jobs=-1)]: Done 200 out of 200 | elapsed:  1.4min finished\n",
            "/usr/local/lib/python3.7/dist-packages/sklearn/utils/deprecation.py:87: FutureWarning: Function safe_indexing is deprecated; safe_indexing is deprecated in version 0.22 and will be removed in version 0.24.\n",
            "  warnings.warn(msg, category=FutureWarning)\n",
            "/usr/local/lib/python3.7/dist-packages/sklearn/utils/deprecation.py:87: FutureWarning: Function safe_indexing is deprecated; safe_indexing is deprecated in version 0.22 and will be removed in version 0.24.\n",
            "  warnings.warn(msg, category=FutureWarning)\n",
            "/usr/local/lib/python3.7/dist-packages/sklearn/utils/deprecation.py:87: FutureWarning: Function safe_indexing is deprecated; safe_indexing is deprecated in version 0.22 and will be removed in version 0.24.\n",
            "  warnings.warn(msg, category=FutureWarning)\n",
            "/usr/local/lib/python3.7/dist-packages/sklearn/utils/deprecation.py:87: FutureWarning: Function safe_indexing is deprecated; safe_indexing is deprecated in version 0.22 and will be removed in version 0.24.\n",
            "  warnings.warn(msg, category=FutureWarning)\n"
          ],
          "name": "stderr"
        },
        {
          "output_type": "display_data",
          "data": {
            "text/plain": [
              "{'classifier__var_smoothing': 0.15199110829529336}"
            ]
          },
          "metadata": {
            "tags": []
          }
        },
        {
          "output_type": "stream",
          "text": [
            "[Parallel(n_jobs=-1)]: Using backend LokyBackend with 2 concurrent workers.\n"
          ],
          "name": "stderr"
        },
        {
          "output_type": "stream",
          "text": [
            "DT\n",
            "Fitting 2 folds for each of 36 candidates, totalling 72 fits\n"
          ],
          "name": "stdout"
        },
        {
          "output_type": "stream",
          "text": [
            "[Parallel(n_jobs=-1)]: Done  46 tasks      | elapsed:    9.2s\n",
            "[Parallel(n_jobs=-1)]: Done  72 out of  72 | elapsed:   15.4s finished\n",
            "/usr/local/lib/python3.7/dist-packages/sklearn/utils/deprecation.py:87: FutureWarning: Function safe_indexing is deprecated; safe_indexing is deprecated in version 0.22 and will be removed in version 0.24.\n",
            "  warnings.warn(msg, category=FutureWarning)\n",
            "/usr/local/lib/python3.7/dist-packages/sklearn/utils/deprecation.py:87: FutureWarning: Function safe_indexing is deprecated; safe_indexing is deprecated in version 0.22 and will be removed in version 0.24.\n",
            "  warnings.warn(msg, category=FutureWarning)\n",
            "/usr/local/lib/python3.7/dist-packages/sklearn/utils/deprecation.py:87: FutureWarning: Function safe_indexing is deprecated; safe_indexing is deprecated in version 0.22 and will be removed in version 0.24.\n",
            "  warnings.warn(msg, category=FutureWarning)\n",
            "/usr/local/lib/python3.7/dist-packages/sklearn/utils/deprecation.py:87: FutureWarning: Function safe_indexing is deprecated; safe_indexing is deprecated in version 0.22 and will be removed in version 0.24.\n",
            "  warnings.warn(msg, category=FutureWarning)\n"
          ],
          "name": "stderr"
        },
        {
          "output_type": "display_data",
          "data": {
            "text/plain": [
              "{'classifier__criterion': 'gini', 'classifier__max_depth': 15}"
            ]
          },
          "metadata": {
            "tags": []
          }
        },
        {
          "output_type": "stream",
          "text": [
            "\t- Adding for voting with weight <1>...\n",
            "SVC\n",
            "\t- Requires scaling and not scaled. Doing it now...\n",
            "Fitting 2 folds for each of 9 candidates, totalling 18 fits\n"
          ],
          "name": "stdout"
        },
        {
          "output_type": "stream",
          "text": [
            "[Parallel(n_jobs=-1)]: Using backend LokyBackend with 2 concurrent workers.\n",
            "[Parallel(n_jobs=-1)]: Done  18 out of  18 | elapsed:   26.3s finished\n",
            "/usr/local/lib/python3.7/dist-packages/sklearn/utils/deprecation.py:87: FutureWarning: Function safe_indexing is deprecated; safe_indexing is deprecated in version 0.22 and will be removed in version 0.24.\n",
            "  warnings.warn(msg, category=FutureWarning)\n",
            "/usr/local/lib/python3.7/dist-packages/sklearn/utils/deprecation.py:87: FutureWarning: Function safe_indexing is deprecated; safe_indexing is deprecated in version 0.22 and will be removed in version 0.24.\n",
            "  warnings.warn(msg, category=FutureWarning)\n",
            "/usr/local/lib/python3.7/dist-packages/sklearn/utils/deprecation.py:87: FutureWarning: Function safe_indexing is deprecated; safe_indexing is deprecated in version 0.22 and will be removed in version 0.24.\n",
            "  warnings.warn(msg, category=FutureWarning)\n",
            "/usr/local/lib/python3.7/dist-packages/sklearn/utils/deprecation.py:87: FutureWarning: Function safe_indexing is deprecated; safe_indexing is deprecated in version 0.22 and will be removed in version 0.24.\n",
            "  warnings.warn(msg, category=FutureWarning)\n"
          ],
          "name": "stderr"
        },
        {
          "output_type": "display_data",
          "data": {
            "text/plain": [
              "{'classifier__C': 1, 'classifier__gamma': 1, 'classifier__kernel': 'rbf'}"
            ]
          },
          "metadata": {
            "tags": []
          }
        },
        {
          "output_type": "stream",
          "text": [
            "\t- Adding for voting with weight <0.5>...\n",
            "RFC\n",
            "Fitting 2 folds for each of 24 candidates, totalling 48 fits\n"
          ],
          "name": "stdout"
        },
        {
          "output_type": "stream",
          "text": [
            "[Parallel(n_jobs=-1)]: Using backend LokyBackend with 2 concurrent workers.\n",
            "[Parallel(n_jobs=-1)]: Done  48 out of  48 | elapsed:  3.8min finished\n",
            "/usr/local/lib/python3.7/dist-packages/sklearn/utils/deprecation.py:87: FutureWarning: Function safe_indexing is deprecated; safe_indexing is deprecated in version 0.22 and will be removed in version 0.24.\n",
            "  warnings.warn(msg, category=FutureWarning)\n",
            "/usr/local/lib/python3.7/dist-packages/sklearn/utils/deprecation.py:87: FutureWarning: Function safe_indexing is deprecated; safe_indexing is deprecated in version 0.22 and will be removed in version 0.24.\n",
            "  warnings.warn(msg, category=FutureWarning)\n",
            "/usr/local/lib/python3.7/dist-packages/sklearn/utils/deprecation.py:87: FutureWarning: Function safe_indexing is deprecated; safe_indexing is deprecated in version 0.22 and will be removed in version 0.24.\n",
            "  warnings.warn(msg, category=FutureWarning)\n",
            "/usr/local/lib/python3.7/dist-packages/sklearn/utils/deprecation.py:87: FutureWarning: Function safe_indexing is deprecated; safe_indexing is deprecated in version 0.22 and will be removed in version 0.24.\n",
            "  warnings.warn(msg, category=FutureWarning)\n"
          ],
          "name": "stderr"
        },
        {
          "output_type": "display_data",
          "data": {
            "text/plain": [
              "{'classifier__bootstrap': False,\n",
              " 'classifier__max_depth': 100,\n",
              " 'classifier__max_features': 'auto',\n",
              " 'classifier__min_samples_leaf': 1,\n",
              " 'classifier__n_estimators': 512}"
            ]
          },
          "metadata": {
            "tags": []
          }
        },
        {
          "output_type": "stream",
          "text": [
            "\t- Adding for voting with weight <1>...\n",
            "XGB\n",
            "Fitting 2 folds for each of 24 candidates, totalling 48 fits\n"
          ],
          "name": "stdout"
        },
        {
          "output_type": "stream",
          "text": [
            "[Parallel(n_jobs=-1)]: Using backend LokyBackend with 2 concurrent workers.\n",
            "[Parallel(n_jobs=-1)]: Done  48 out of  48 | elapsed:   37.8s finished\n",
            "/usr/local/lib/python3.7/dist-packages/sklearn/utils/deprecation.py:87: FutureWarning: Function safe_indexing is deprecated; safe_indexing is deprecated in version 0.22 and will be removed in version 0.24.\n",
            "  warnings.warn(msg, category=FutureWarning)\n",
            "/usr/local/lib/python3.7/dist-packages/sklearn/utils/deprecation.py:87: FutureWarning: Function safe_indexing is deprecated; safe_indexing is deprecated in version 0.22 and will be removed in version 0.24.\n",
            "  warnings.warn(msg, category=FutureWarning)\n",
            "/usr/local/lib/python3.7/dist-packages/sklearn/utils/deprecation.py:87: FutureWarning: Function safe_indexing is deprecated; safe_indexing is deprecated in version 0.22 and will be removed in version 0.24.\n",
            "  warnings.warn(msg, category=FutureWarning)\n",
            "/usr/local/lib/python3.7/dist-packages/sklearn/utils/deprecation.py:87: FutureWarning: Function safe_indexing is deprecated; safe_indexing is deprecated in version 0.22 and will be removed in version 0.24.\n",
            "  warnings.warn(msg, category=FutureWarning)\n"
          ],
          "name": "stderr"
        },
        {
          "output_type": "display_data",
          "data": {
            "text/plain": [
              "{'classifier__colsample_bytree': 0.8,\n",
              " 'classifier__gamma': 0.5,\n",
              " 'classifier__max_depth': 6}"
            ]
          },
          "metadata": {
            "tags": []
          }
        },
        {
          "output_type": "stream",
          "text": [
            "\t- Adding for voting with weight <1>...\n",
            "\n",
            "\n",
            "Voting...\n",
            "Done\n"
          ],
          "name": "stdout"
        }
      ]
    },
    {
      "cell_type": "code",
      "metadata": {
        "colab": {
          "background_save": true
        },
        "id": "B9Zjk_Lr_9Xv",
        "outputId": "8e582d37-f500-45c4-ac85-6b6962cac0c3"
      },
      "source": [
        "print(\"Imputer & Sampling & Metric & \",end = \"\")\n",
        "print(*classifiers_names,sep = \" & \", end = \" \\\\\\\\\\n\")\n",
        "print(\"\\\\hline \\\\hline\")\n",
        "print(\"Simple & No & Acc & \",end=\"\")\n",
        "print(*['%.2f' % elem for elem in accuracy],sep=\" & \", end = \" \\\\\\\\\\n\")\n",
        "print(\"~ & ~ & Prec & \",end=\"\")\n",
        "print(*['%.2f' % elem for elem in precision],sep=\" & \", end = \" \\\\\\\\\\n\")\n",
        "print(\"~ & ~ & Rec & \",end=\"\")\n",
        "print(*['%.2f' % elem for elem in recall],sep=\" & \", end = \" \\\\\\\\\\n\")\n",
        "print(\"~ & ~ & F1 & \",end=\"\")\n",
        "print(*['%.2f' % elem for elem in f1],sep=\" & \", end = \" \\\\\\\\\\n\")\n",
        "print(\"\\cline{2-13}\")\n",
        "\n",
        "print(\"~ & SMOTE & Acc & \",end=\"\")\n",
        "print(*['%.2f' % elem for elem in accuracy_sm],sep=\" & \", end = \" \\\\\\\\\\n\")\n",
        "print(\"~ & ~ & Prec & \",end=\"\")\n",
        "print(*['%.2f' % elem for elem in precision_sm],sep=\" & \", end = \" \\\\\\\\\\n\")\n",
        "print(\"~ & ~ & Rec & \",end=\"\")\n",
        "print(*['%.2f' % elem for elem in recall_sm],sep=\" & \", end = \" \\\\\\\\\\n\")\n",
        "print(\"~ & ~ & F1 & \",end=\"\")\n",
        "print(*['%.2f' % elem for elem in f1_sm],sep=\" & \", end = \" \\\\\\\\\\n\")\n",
        "print(\"\\cline{2-13}\")\n",
        "\n",
        "print(\"~ & RUS & Acc & \",end=\"\")\n",
        "print(*['%.2f' % elem for elem in accuracy_rus],sep=\" & \", end = \" \\\\\\\\\\n\")\n",
        "print(\"~ & ~ & Prec & \",end=\"\")\n",
        "print(*['%.2f' % elem for elem in precision_rus],sep=\" & \", end = \" \\\\\\\\\\n\")\n",
        "print(\"~ & ~ & Rec & \",end=\"\")\n",
        "print(*['%.2f' % elem for elem in recall_rus],sep=\" & \", end = \" \\\\\\\\\\n\")\n",
        "print(\"~ & ~ & F1 & \",end=\"\")\n",
        "print(*['%.2f' % elem for elem in f1_rus],sep=\" & \", end = \" \\\\\\\\\\n\")\n",
        "print(\"\\cline{2-13}\")\n",
        "\n",
        "\n",
        "print(\"~ & SMOTE- & Acc & \",end=\"\")\n",
        "print(*['%.2f' % elem for elem in accuracy_smoteenn],sep=\" & \", end = \" \\\\\\\\\\n\")\n",
        "print(\"~ & ENN & Prec & \",end=\"\")\n",
        "print(*['%.2f' % elem for elem in precision_smoteenn],sep=\" & \", end = \" \\\\\\\\\\n\")\n",
        "print(\"~ & ~ & Rec & \",end=\"\")\n",
        "print(*['%.2f' % elem for elem in recall_smoteenn],sep=\" & \", end = \" \\\\\\\\\\n\")\n",
        "print(\"~ & ~ & F1 & \",end=\"\")\n",
        "print(*['%.2f' % elem for elem in f1_smoteenn],sep=\" & \", end = \" \\\\\\\\\\n\")\n",
        "print(\"\\\\hline\\\\hline\")\n",
        "\n",
        "\n"
      ],
      "execution_count": null,
      "outputs": [
        {
          "output_type": "stream",
          "text": [
            "Imputer & Sampling & Metric & LR & LDA & KNN-5 & KNN-10 & GNB & DT & SVC & RFC & XGB & Voting \\\\\n",
            "\\hline \\hline\n",
            "Simple & No & Acc & 0.95 & 0.95 & 0.94 & 0.95 & 0.10 & 0.95 & 0.95 & 0.95 & 0.95 & 0.95 \\\\\n",
            "~ & ~ & Prec & 0.00 & 0.00 & 0.22 & 0.22 & 0.05 & 0.48 & 0.00 & 0.73 & 0.70 & 1.00 \\\\\n",
            "~ & ~ & Rec & 0.00 & 0.00 & 0.03 & 0.02 & 0.96 & 0.18 & 0.00 & 0.15 & 0.15 & 0.12 \\\\\n",
            "~ & ~ & F1 & 0.00 & 0.00 & 0.05 & 0.03 & 0.10 & 0.26 & 0.00 & 0.25 & 0.25 & 0.22 \\\\\n",
            "\\cline{2-13}\n",
            "~ & SMOTE & Acc & 0.94 & 0.94 & 0.82 & 0.82 & 0.08 & 0.85 & 0.90 & 0.91 & 0.91 & 0.94 \\\\\n",
            "~ & ~ & Prec & 0.09 & 0.08 & 0.11 & 0.10 & 0.05 & 0.15 & 0.20 & 0.27 & 0.28 & 0.37 \\\\\n",
            "~ & ~ & Rec & 0.02 & 0.01 & 0.32 & 0.32 & 0.98 & 0.39 & 0.30 & 0.40 & 0.43 & 0.26 \\\\\n",
            "~ & ~ & F1 & 0.04 & 0.01 & 0.16 & 0.16 & 0.10 & 0.22 & 0.24 & 0.32 & 0.34 & 0.30 \\\\\n",
            "\\cline{2-13}\n",
            "~ & RUS & Acc & 0.91 & 0.93 & 0.80 & 0.87 & 0.90 & 0.76 & 0.91 & 0.83 & 0.84 & 0.87 \\\\\n",
            "~ & ~ & Prec & 0.17 & 0.09 & 0.11 & 0.15 & 0.06 & 0.13 & 0.13 & 0.18 & 0.19 & 0.21 \\\\\n",
            "~ & ~ & Rec & 0.20 & 0.04 & 0.41 & 0.30 & 0.06 & 0.63 & 0.12 & 0.60 & 0.65 & 0.54 \\\\\n",
            "~ & ~ & F1 & 0.18 & 0.05 & 0.17 & 0.20 & 0.06 & 0.22 & 0.12 & 0.27 & 0.29 & 0.31 \\\\\n",
            "\\cline{2-13}\n",
            "~ & SMOTE- & Acc & 0.88 & 0.94 & 0.77 & 0.76 & 0.08 & 0.84 & 0.81 & 0.92 & 0.89 & 0.90 \\\\\n",
            "~ & ENN & Prec & 0.15 & 0.09 & 0.11 & 0.10 & 0.05 & 0.16 & 0.13 & 0.30 & 0.24 & 0.23 \\\\\n",
            "~ & ~ & Rec & 0.27 & 0.02 & 0.47 & 0.45 & 0.98 & 0.48 & 0.48 & 0.40 & 0.51 & 0.35 \\\\\n",
            "~ & ~ & F1 & 0.19 & 0.03 & 0.18 & 0.17 & 0.10 & 0.24 & 0.21 & 0.34 & 0.33 & 0.28 \\\\\n",
            "\\hline\\hline\n"
          ],
          "name": "stdout"
        }
      ]
    },
    {
      "cell_type": "code",
      "metadata": {
        "colab": {
          "background_save": true
        },
        "id": "D-YWsSUcAAPI",
        "outputId": "f6da31e5-a7b2-45e4-81b6-2249990b7454"
      },
      "source": [
        "print('''\n",
        "| classifier          | Accuracy | Precision | Recall | F1 score |\n",
        "| =================== | ======== | ========= | ====== | ======== |''')\n",
        "for c,a,p,r,f in zip(classifiers_names,accuracy,precision,recall,f1):\n",
        "    print(c,\"  |  \",a,\"  |  \",p,\"  |  \",r,\"  |  \",f,\"  |  \")\n",
        "    \n",
        "print(\"\\n===============================================================\\n\")\n",
        "for c,a,p,r,f in zip(classifiers_names,accuracy_sm,precision_sm,recall_sm,f1_sm):\n",
        "    print(c,\"  |  \",a,\"  |  \",p,\"  |  \",r,\"  |  \",f,\"  |  \")\n",
        "\n",
        "print(\"\\n===============================================================\\n\")\n",
        "for c,a,p,r,f in zip(classifiers_names,accuracy_rus,precision_rus,recall_rus,f1_rus):\n",
        "    print(c,\"  |  \",a,\"  |  \",p,\"  |  \",r,\"  |  \",f,\"  |  \")\n",
        "  \n",
        "print(\"\\n===============================================================\\n\")\n",
        "for c,a,p,r,f in zip(classifiers_names,accuracy_smoteenn,precision_smoteenn,recall_smoteenn,f1_smoteenn):\n",
        "    print(c,\"  |  \",a,\"  |  \",p,\"  |  \",r,\"  |  \",f,\"  |  \")\n",
        " "
      ],
      "execution_count": null,
      "outputs": [
        {
          "output_type": "stream",
          "text": [
            "\n",
            "| classifier          | Accuracy | Precision | Recall | F1 score |\n",
            "| =================== | ======== | ========= | ====== | ======== |\n",
            "LR   |   0.9460461285008237   |   0.0   |   0.0   |   0.0   |  \n",
            "LDA   |   0.9464579901153213   |   0.0   |   0.0   |   0.0   |  \n",
            "KNN-5   |   0.943163097199341   |   0.2222222222222222   |   0.03125   |   0.0547945205479452   |  \n",
            "KNN-10   |   0.9452224052718287   |   0.2222222222222222   |   0.015625   |   0.029197080291970802   |  \n",
            "GNB   |   0.10090609555189456   |   0.05345501955671447   |   0.9609375   |   0.10127624536846438   |  \n",
            "DT   |   0.9464579901153213   |   0.4791666666666667   |   0.1796875   |   0.26136363636363635   |  \n",
            "SVC   |   0.9472817133443163   |   0.0   |   0.0   |   0.0   |  \n",
            "RFC   |   0.9522240527182867   |   0.7307692307692307   |   0.1484375   |   0.24675324675324675   |  \n",
            "XGB   |   0.9518121911037891   |   0.7037037037037037   |   0.1484375   |   0.24516129032258063   |  \n",
            "Voting   |   0.9538714991762768   |   1.0   |   0.125   |   0.2222222222222222   |  \n",
            "\n",
            "===============================================================\n",
            "\n",
            "LR   |   0.9357495881383855   |   0.08823529411764706   |   0.0234375   |   0.037037037037037035   |  \n",
            "LDA   |   0.943163097199341   |   0.08333333333333333   |   0.0078125   |   0.014285714285714285   |  \n",
            "KNN-5   |   0.8249588138385503   |   0.10817941952506596   |   0.3203125   |   0.16173570019723865   |  \n",
            "KNN-10   |   0.8175453047775947   |   0.10327455919395466   |   0.3203125   |   0.15619047619047619   |  \n",
            "GNB   |   0.08196046128500824   |   0.05316886431305827   |   0.9765625   |   0.1008471157724889   |  \n",
            "DT   |   0.8542009884678748   |   0.15337423312883436   |   0.390625   |   0.22026431718061673   |  \n",
            "SVC   |   0.9003294892915981   |   0.2   |   0.296875   |   0.2389937106918239   |  \n",
            "RFC   |   0.9118616144975288   |   0.2712765957446808   |   0.3984375   |   0.3227848101265823   |  \n",
            "XGB   |   0.9118616144975288   |   0.28061224489795916   |   0.4296875   |   0.3395061728395062   |  \n",
            "Voting   |   0.9373970345963756   |   0.36666666666666664   |   0.2578125   |   0.3027522935779816   |  \n",
            "\n",
            "===============================================================\n",
            "\n",
            "LR   |   0.9085667215815486   |   0.1736111111111111   |   0.1953125   |   0.1838235294117647   |  \n",
            "LDA   |   0.929159802306425   |   0.09259259259259259   |   0.0390625   |   0.054945054945054944   |  \n",
            "KNN-5   |   0.7965403624382208   |   0.11063829787234042   |   0.40625   |   0.17391304347826086   |  \n",
            "KNN-10   |   0.8727347611202636   |   0.14785992217898833   |   0.296875   |   0.1974025974025974   |  \n",
            "GNB   |   0.8953871499176277   |   0.056338028169014086   |   0.0625   |   0.059259259259259255   |  \n",
            "DT   |   0.7615321252059308   |   0.13213703099510604   |   0.6328125   |   0.21862348178137656   |  \n",
            "SVC   |   0.9122734761120264   |   0.13043478260869565   |   0.1171875   |   0.1234567901234568   |  \n",
            "RFC   |   0.8323723228995058   |   0.17782909930715934   |   0.6015625   |   0.2745098039215686   |  \n",
            "XGB   |   0.8352553542009885   |   0.18949771689497716   |   0.6484375   |   0.29328621908127206   |  \n",
            "Voting   |   0.8706754530477759   |   0.21296296296296297   |   0.5390625   |   0.3053097345132743   |  \n",
            "\n",
            "===============================================================\n",
            "\n",
            "LR   |   0.8793245469522241   |   0.14893617021276595   |   0.2734375   |   0.19283746556473827   |  \n",
            "LDA   |   0.9398682042833608   |   0.09090909090909091   |   0.015625   |   0.02666666666666667   |  \n",
            "KNN-5   |   0.7734761120263591   |   0.11070110701107011   |   0.46875   |   0.1791044776119403   |  \n",
            "KNN-10   |   0.7611202635914333   |   0.10211267605633803   |   0.453125   |   0.16666666666666669   |  \n",
            "GNB   |   0.08443163097199341   |   0.053304904051172705   |   0.9765625   |   0.10109179134654267   |  \n",
            "DT   |   0.8410214168039539   |   0.16230366492146597   |   0.484375   |   0.24313725490196078   |  \n",
            "SVC   |   0.807660626029654   |   0.13390928725701945   |   0.484375   |   0.20981387478849411   |  \n",
            "RFC   |   0.9184514003294892   |   0.29651162790697677   |   0.3984375   |   0.33999999999999997   |  \n",
            "XGB   |   0.8892092257001647   |   0.23985239852398524   |   0.5078125   |   0.3258145363408521   |  \n",
            "Voting   |   0.9032125205930808   |   0.22842639593908629   |   0.3515625   |   0.2769230769230769   |  \n"
          ],
          "name": "stdout"
        }
      ]
    }
  ]
}