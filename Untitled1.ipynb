{
  "nbformat": 4,
  "nbformat_minor": 0,
  "metadata": {
    "colab": {
      "name": "Untitled1.ipynb",
      "provenance": [],
      "collapsed_sections": []
    },
    "kernelspec": {
      "name": "python3",
      "display_name": "Python 3"
    },
    "language_info": {
      "name": "python"
    }
  },
  "cells": [
    {
      "cell_type": "code",
      "metadata": {
        "id": "IvMNOOFgRez_"
      },
      "source": [
        "data_path = r\"C:/Users/CHIRAG/Desktop/sem_6/mtl782/dataset/\""
      ],
      "execution_count": null,
      "outputs": []
    },
    {
      "cell_type": "code",
      "metadata": {
        "id": "2MizNe0PRnTJ"
      },
      "source": [
        "import numpy as np\n",
        "import pandas as pd\n",
        "import matplotlib.pyplot as plt\n",
        "from scipy.io.arff import loadarff\n",
        "from sklearn.model_selection import train_test_split\n",
        "\n",
        "%matplotlib inline"
      ],
      "execution_count": null,
      "outputs": []
    },
    {
      "cell_type": "code",
      "metadata": {
        "id": "zyIy8FjZRojQ"
      },
      "source": [
        "random_state = 2021\n",
        "N = '1'\n",
        "drop_cols = ['Attr21','Attr37', 'Attr7','Attr43','Attr62','Attr32','Attr44','Attr15','Attr19','Attr3','Attr51','Attr4','Attr49','Attr38','Attr60','Attr6']"
      ],
      "execution_count": null,
      "outputs": []
    },
    {
      "cell_type": "code",
      "metadata": {
        "id": "znWV7pPyRxQE"
      },
      "source": [
        "arff = loadarff('1year.arff')\n",
        "df = pd.DataFrame(arff[0])\n",
        "df['class']= df['class'].astype('int')\n",
        "df = df.drop_duplicates()\n",
        "# df.head()"
      ],
      "execution_count": 6,
      "outputs": []
    },
    {
      "cell_type": "code",
      "metadata": {
        "id": "q6u9hqHzTxWX"
      },
      "source": [
        "df = df.drop(drop_cols,axis='columns')"
      ],
      "execution_count": 7,
      "outputs": []
    },
    {
      "cell_type": "code",
      "metadata": {
        "colab": {
          "base_uri": "https://localhost:8080/",
          "height": 118
        },
        "id": "VCJP7xYlTz87",
        "outputId": "7b3b6724-ec91-4d9b-d94b-334ef1019c6f"
      },
      "source": [
        "X = df.drop('class',axis='columns')\n",
        "Y = df['class']\n",
        "# (X.shape,Y.shape)\n",
        "\n",
        "X_train, X_test, Y_train, Y_test = train_test_split(\n",
        "    X, Y, test_size=0.25, random_state=random_state,shuffle=True,stratify=Y)\n",
        "\n",
        "display(Y_train.value_counts(), Y_test.value_counts())\n",
        "X_train,Y_train,X_test,Y_test = X_train.to_numpy(),Y_train.to_numpy(),X_test.to_numpy(),Y_test.to_numpy()\n",
        "from sklearn.preprocessing import StandardScaler\n",
        "\n",
        "scaler = StandardScaler().fit(X_train)\n",
        "\n",
        "#scaler = None\n",
        "\n",
        "#idx = np.isnan(X_train).any(axis=1)\n",
        "#scaler = StandardScaler().fit(X_train[~idx])"
      ],
      "execution_count": 8,
      "outputs": [
        {
          "output_type": "display_data",
          "data": {
            "text/plain": [
              "0    5005\n",
              "1     203\n",
              "Name: class, dtype: int64"
            ]
          },
          "metadata": {
            "tags": []
          }
        },
        {
          "output_type": "display_data",
          "data": {
            "text/plain": [
              "0    1669\n",
              "1      68\n",
              "Name: class, dtype: int64"
            ]
          },
          "metadata": {
            "tags": []
          }
        }
      ]
    },
    {
      "cell_type": "code",
      "metadata": {
        "colab": {
          "base_uri": "https://localhost:8080/"
        },
        "id": "6txJI5h6T5Gt",
        "outputId": "d8383c4b-4c25-4e9f-e781-d4aeb85a0775"
      },
      "source": [
        "def build_imputer(imputer_estimator,X_train,Y_train,transform_x=True,reset_index = True,verbose=True,max_iter=10,tol=1,imputer=None,scaler=None):\n",
        "    # train = pd.concat([X_train,Y_train],axis=1)\n",
        "    # train['class'] = train['class'].astype('category')\n",
        "    # if reset_index:\n",
        "    #     train = train.reset_index(drop=True)\n",
        "    \n",
        "    if imputer is None:\n",
        "        imputer = IterativeImputer(estimator=imputer_estimator, n_nearest_features=None, imputation_order='descending',verbose=verbose,max_iter=max_iter,tol=tol)\n",
        "        imputer = imputer.fit(X_train,Y_train)\n",
        "    else:\n",
        "        imputer = imputer.fit(X_train,Y_train)\n",
        "        \n",
        "    \n",
        "    if transform_x:\n",
        "        X_train = imputer.transform(X_train)\n",
        "        \n",
        "        #if scaler is not None:\n",
        "        #    X_train = scaler.transform(X_train)\n",
        "        \n",
        "        return imputer,X_train\n",
        "    \n",
        "    return imputer\n",
        "# To use this experimental feature, we need to explicitly ask for it:\n",
        "from sklearn.experimental import enable_iterative_imputer  # noqa\n",
        "from sklearn.impute import IterativeImputer\n",
        "from sklearn.neighbors import KNeighborsRegressor\n",
        "\n",
        "# has to be scaled...\n",
        "knn_imp = build_imputer( KNeighborsRegressor(n_jobs=4) ,scaler.transform(X_train),Y_train,transform_x=False,reset_index = True,verbose=True,max_iter=64,tol=0.01,scaler=scaler)\n",
        "\n",
        "    "
      ],
      "execution_count": 9,
      "outputs": [
        {
          "output_type": "stream",
          "text": [
            "[IterativeImputer] Completing matrix with shape (5208, 48)\n",
            "[IterativeImputer] Change: 10.071478144563422, scaled tolerance: 0.7215953092496526 \n",
            "[IterativeImputer] Change: 0.805656858926882, scaled tolerance: 0.7215953092496526 \n",
            "[IterativeImputer] Change: 0.6496089789539895, scaled tolerance: 0.7215953092496526 \n",
            "[IterativeImputer] Early stopping criterion reached.\n"
          ],
          "name": "stdout"
        }
      ]
    },
    {
      "cell_type": "code",
      "metadata": {
        "colab": {
          "base_uri": "https://localhost:8080/",
          "height": 52
        },
        "id": "VMjC5po_T-ap",
        "outputId": "2af79a3a-d44b-45ef-f585-72c401f8c54a"
      },
      "source": [
        "from sklearn.impute import SimpleImputer\n",
        "simple_imp = SimpleImputer(missing_values=np.nan, strategy='mean')\n",
        "simple_imp = simple_imp.fit(X_train)\n",
        "\n",
        "# choose imputer <<comment blocks accordingly>>\n",
        "\n",
        "#### for simple\n",
        "scaled_already = False\n",
        "X_train_imp = simple_imp.transform(X_train)\n",
        "X_test_imp = simple_imp.transform(X_test)\n",
        "\n",
        "################################# OR ################################\n",
        "'''\n",
        "#### for KNN\n",
        "scaled_already = True\n",
        "X_train_imp = knn_imp.transform(scaler.transform(X_train))\n",
        "X_test_imp = knn_imp.transform(scaler.transform(X_test))\n",
        "'''\n",
        "################################# OR ################################\n",
        "'''\n",
        "#### for missf, use saved files...\n",
        "scaled_already = False\n",
        "X_train_imp = np.load(\"y\"+N+\"_realmissforest_train.npy\")\n",
        "X_test_imp = np.load(\"y\"+N+\"_realmissforest_test.npy\")\n",
        "'''"
      ],
      "execution_count": 10,
      "outputs": [
        {
          "output_type": "execute_result",
          "data": {
            "application/vnd.google.colaboratory.intrinsic+json": {
              "type": "string"
            },
            "text/plain": [
              "'\\n#### for missf, use saved files...\\nscaled_already = False\\nX_train_imp = np.load(\"y\"+N+\"_realmissforest_train.npy\")\\nX_test_imp = np.load(\"y\"+N+\"_realmissforest_test.npy\")\\n'"
            ]
          },
          "metadata": {
            "tags": []
          },
          "execution_count": 10
        }
      ]
    },
    {
      "cell_type": "code",
      "metadata": {
        "colab": {
          "base_uri": "https://localhost:8080/"
        },
        "id": "O5GAirlYUE1D",
        "outputId": "08c9f3ba-c026-45b2-8805-374d1bd156db"
      },
      "source": [
        "from sklearn.model_selection import train_test_split\n",
        "from sklearn import metrics\n",
        "\n",
        "from sklearn.linear_model import LogisticRegression\n",
        "from sklearn.discriminant_analysis import LinearDiscriminantAnalysis\n",
        "from sklearn.neighbors import KNeighborsClassifier\n",
        "from sklearn.naive_bayes import GaussianNB\n",
        "from sklearn.tree import DecisionTreeClassifier\n",
        "from sklearn.svm import SVC\n",
        "from sklearn.ensemble import RandomForestClassifier\n",
        "from xgboost import XGBClassifier\n",
        "from sklearn.ensemble import VotingClassifier # Voting Ensemble for Classification\n",
        "\n",
        "from imblearn.over_sampling import SMOTE\n",
        "from imblearn.under_sampling import RandomUnderSampler\n",
        "from imblearn.combine import SMOTEENN\n",
        "\n",
        "from imblearn.pipeline import Pipeline\n",
        "from sklearn.model_selection import GridSearchCV\n",
        "\n",
        "def try_all_classifiers(X_train, X_test, y_train, y_test, classifiers, sampling  = None, scaler=None):\n",
        "    '''\n",
        "    do all imputations before passing here...\n",
        "    Classifier : array of tuples (classifier,scaling required=True/False)\n",
        "    '''\n",
        "    accuracy = [0]*len(classifiers)\n",
        "    f1 = [0]*len(classifiers)\n",
        "    precision = [0]*len(classifiers)\n",
        "    recall = [0]*len(classifiers)\n",
        "    i = 0\n",
        "    \n",
        "    model_pipeline = []\n",
        "    Pipeline([\n",
        "        ('sampling', SMOTE()),\n",
        "        ('classification', LogisticRegression())\n",
        "    ])\n",
        "    \n",
        "    if sampling == \"SMOTE\":\n",
        "        model_pipeline.append(('sampling', SMOTE(sampling_strategy=0.6,random_state=random_state) ))\n",
        "        # X_train, y_train = smote.fit_resample(X_train, y_train)\n",
        "        print(\"SMOTE\")\n",
        "    if sampling == \"RUS\":\n",
        "        model_pipeline.append(('sampling', RandomUnderSampler(sampling_strategy=0.6,random_state=random_state) ))\n",
        "        # X_train, y_train = rus.fit_resample(X_train, y_train)\n",
        "        print(\"RUS\")\n",
        "    if sampling == \"SMOTEENN\":\n",
        "        model_pipeline.append(('sampling', SMOTEENN(sampling_strategy=0.6,random_state=random_state) ))\n",
        "        # X_train, y_train = smoteenn.fit_resample(X_train, y_train)\n",
        "        print(\"SMOTEENN\")    \n",
        "\n",
        "    voting_classifs = []\n",
        "    models_for_voting = [0,3,5,6,7,8]\n",
        "    voting_weights = [1,0.5,1,0.5,1,1]\n",
        "    jj =0 \n",
        "        \n",
        "    for i in range(len(classifiers)):\n",
        "        classif = classifiers[i][0]\n",
        "        pipe_parameters = classifiers[i][2]\n",
        "        y_pred = []\n",
        "        print(classifiers_names[i])\n",
        "        pipeline = Pipeline(model_pipeline+[('classifier',classif)])\n",
        "        \n",
        "        if classifiers[i][1] and not scaled_already:\n",
        "            print(\"\\t- Requires scaling and not scaled. Doing it now...\")\n",
        "            grid = GridSearchCV(pipeline, pipe_parameters, cv=2, scoring=\"f1\",n_jobs=-1,verbose=1)\n",
        "            #grid = grid.fit(X_train, y_train)\n",
        "            grid = grid.fit(scaler.transform(X_train), y_train)\n",
        "\n",
        "            #classif.fit(scaler.transform(X_train), y_train)\n",
        "            #y_pred = classif.predict(scaler.transform(X_test))\n",
        "            \n",
        "            display(grid.best_params_)\n",
        "            classif = grid.best_estimator_\n",
        "            y_pred = grid.predict(scaler.transform(X_test))\n",
        "            #classif.fit(scaler.transform(), )\n",
        "            #y_pred = classif.predict(scaler.transform(X_test))\n",
        "            \n",
        "        else:\n",
        "            grid = GridSearchCV(pipeline, pipe_parameters, cv=2, scoring=\"f1\",n_jobs=-1,verbose=1)\n",
        "            grid.fit(X_train, y_train)\n",
        "            display(grid.best_params_)\n",
        "            classif = grid.best_estimator_\n",
        "            y_pred = grid.predict(X_test)\n",
        "            \n",
        "            #classif.fit(X_train, y_train)\n",
        "            #y_pred = classif.predict(X_test)\n",
        "        \n",
        "        if i in models_for_voting:\n",
        "            print(\"\\t- Adding for voting with weight <\"+str(voting_weights[jj])+\">...\")\n",
        "            jj+=1\n",
        "            voting_classifs.append((\"mod\"+str(i+1),classif))\n",
        "        \n",
        "        accuracy[i] = metrics.accuracy_score(y_test, y_pred)\n",
        "        f1[i] = metrics.f1_score(y_test, y_pred, labels=np.unique(y_pred))\n",
        "        precision[i] = metrics.precision_score(y_test, y_pred)\n",
        "        recall[i] = metrics.recall_score(y_test, y_pred)\n",
        "    \n",
        "    print(\"\\n\\nVoting...\")\n",
        "    # create the ensemble model\n",
        "    ensemble = VotingClassifier(voting_classifs,weights=voting_weights,n_jobs=-1,voting=\"hard\")\n",
        "    ensemble.fit(scaler.transform(X_train), y_train)\n",
        "    y_pred = ensemble.predict(scaler.transform(X_test))\n",
        "    \n",
        "    accuracy.append(metrics.accuracy_score(y_test, y_pred))\n",
        "    f1.append(metrics.f1_score(y_test, y_pred, labels=np.unique(y_pred)))\n",
        "    precision.append(metrics.precision_score(y_test, y_pred))\n",
        "    recall.append(metrics.recall_score(y_test, y_pred))\n",
        "\n",
        "    print(\"Done\")\n",
        "    return accuracy,f1,precision,recall"
      ],
      "execution_count": 11,
      "outputs": [
        {
          "output_type": "stream",
          "text": [
            "/usr/local/lib/python3.7/dist-packages/sklearn/externals/six.py:31: FutureWarning: The module is deprecated in version 0.21 and will be removed in version 0.23 since we've dropped support for Python 2.7. Please rely on the official version of six (https://pypi.org/project/six/).\n",
            "  \"(https://pypi.org/project/six/).\", FutureWarning)\n",
            "/usr/local/lib/python3.7/dist-packages/sklearn/utils/deprecation.py:144: FutureWarning: The sklearn.neighbors.base module is  deprecated in version 0.22 and will be removed in version 0.24. The corresponding classes / functions should instead be imported from sklearn.neighbors. Anything that cannot be imported from sklearn.neighbors is now part of the private API.\n",
            "  warnings.warn(message, FutureWarning)\n"
          ],
          "name": "stderr"
        }
      ]
    },
    {
      "cell_type": "code",
      "metadata": {
        "id": "XdmDuXhBULTm"
      },
      "source": [
        "lassifiers_voting = [('log',LogisticRegression(max_iter=2048)),(\"knn10\",KNeighborsClassifier(n_neighbors=10)),(\"dtc\",DecisionTreeClassifier()),(\"svm_linear\",SVC(kernel='linear',random_state=random_state)),(\"rf\",RandomForestClassifier(n_estimators=16, n_jobs=8, random_state=random_state)),(\"xbg\",XGBClassifier(use_label_encoder=False))]\n",
        "# classifiers_voting = [(\"dtc\",DecisionTreeClassifier()),(\"rf\",RandomForestClassifier(n_estimators=64, n_jobs=-1, random_state=random_state)),(\"xbg\",XGBClassifier(use_label_encoder=False))]\n",
        "\n",
        "classifiers_names = [\"LR\", \"LDA\", \"KNN-5\", \"KNN-10\", \"GNB\", \"DT\", \"SVC\", \"RFC\", \"XGB\",\"Voting\"]\n",
        "\n",
        "classifiers = [(LogisticRegression(random_state=random_state),True,\n",
        "                   [\n",
        "                       #{\n",
        "                       # 'classifier__penalty' : ['l1', 'l2'],\n",
        "                       # 'classifier__C' : np.logspace(-8, 4, 16),\n",
        "                       # 'classifier__solver' : ['liblinear']\n",
        "                       # },\n",
        "                        {\n",
        "                        'classifier__penalty' : ['l2','none'],\n",
        "                        'classifier__C' : np.logspace(-8, 4, 16),\n",
        "                         'classifier__max_iter' : [2048]\n",
        "                        }\n",
        "                   ]),\n",
        "                (LinearDiscriminantAnalysis(),True,\n",
        "                    { 'classifier__solver' : ['svd', 'lsqr', 'eigen'] }),\n",
        "                (KNeighborsClassifier(n_neighbors=5),True,\n",
        "                    {'classifier__weights' : ['uniform','distance'], 'classifier__metric' : ['euclidean', 'manhattan']}), \n",
        "                (KNeighborsClassifier(n_neighbors=10),True,\n",
        "                    {'classifier__weights' : ['uniform','distance'], 'classifier__metric' : ['euclidean', 'manhattan']}),\n",
        "                (GaussianNB(),True,\n",
        "                    {'classifier__var_smoothing': np.logspace(0,-9, num=100)}),\n",
        "                (DecisionTreeClassifier(random_state=random_state),False,\n",
        "                    { 'classifier__criterion':['gini','entropy'],'classifier__max_depth':[4,5,6,7,8,9,10,11,12,15,20,30,40,50,70,90,120,150]} ),\n",
        "                (SVC(random_state=random_state),True,\n",
        "                    [\n",
        "                        {'classifier__C': [ 0.05, 0.1, 1], \n",
        "                         'classifier__gamma': [0.0001, 1],\n",
        "                         'classifier__kernel': ['rbf']},\n",
        "                        {'classifier__C': [ 0.05, 0.1, 1],\n",
        "                         'classifier__kernel': ['linear']}\n",
        "                    ]),\n",
        "                (RandomForestClassifier(random_state=random_state),False,\n",
        "                     { 'classifier__n_estimators': [int(x) for x in np.linspace(start = 128, stop = 512, num = 4)],\n",
        "                       'classifier__max_features': ['auto'],\n",
        "                       'classifier__max_depth':  [int(x) for x in np.linspace(10, 100, num = 2)]+[None],\n",
        "                       'classifier__min_samples_leaf':  [1, 4],\n",
        "                       'classifier__bootstrap': [False]\n",
        "                     }),\n",
        "                (XGBClassifier(use_label_encoder=False),False,\n",
        "                    {\n",
        "                        'classifier__gamma': [0.5, 1, 2, 5],\n",
        "                        'classifier__colsample_bytree': [0.6, 0.8, 1.0],\n",
        "                        'classifier__max_depth': [3, 6]\n",
        "                    }) ]\n",
        "\n"
      ],
      "execution_count": 12,
      "outputs": []
    },
    {
      "cell_type": "code",
      "metadata": {
        "colab": {
          "base_uri": "https://localhost:8080/",
          "height": 1000
        },
        "id": "P43o6EMbUOcG",
        "outputId": "ccad1328-c0cf-42d3-8615-49d52409df19"
      },
      "source": [
        "accuracy,f1,precision,recall = try_all_classifiers(X_train_imp,X_test_imp,Y_train,Y_test, classifiers, scaler=scaler)\n"
      ],
      "execution_count": 13,
      "outputs": [
        {
          "output_type": "stream",
          "text": [
            "LR\n",
            "\t- Requires scaling and not scaled. Doing it now...\n",
            "Fitting 2 folds for each of 32 candidates, totalling 64 fits\n"
          ],
          "name": "stdout"
        },
        {
          "output_type": "stream",
          "text": [
            "[Parallel(n_jobs=-1)]: Using backend LokyBackend with 2 concurrent workers.\n",
            "[Parallel(n_jobs=-1)]: Done  46 tasks      | elapsed:   21.8s\n",
            "[Parallel(n_jobs=-1)]: Done  64 out of  64 | elapsed:   34.5s finished\n",
            "/usr/local/lib/python3.7/dist-packages/sklearn/linear_model/_logistic.py:1505: UserWarning: Setting penalty='none' will ignore the C and l1_ratio parameters\n",
            "  \"Setting penalty='none' will ignore the C and l1_ratio \"\n",
            "/usr/local/lib/python3.7/dist-packages/sklearn/linear_model/_logistic.py:940: ConvergenceWarning: lbfgs failed to converge (status=1):\n",
            "STOP: TOTAL NO. of ITERATIONS REACHED LIMIT.\n",
            "\n",
            "Increase the number of iterations (max_iter) or scale the data as shown in:\n",
            "    https://scikit-learn.org/stable/modules/preprocessing.html\n",
            "Please also refer to the documentation for alternative solver options:\n",
            "    https://scikit-learn.org/stable/modules/linear_model.html#logistic-regression\n",
            "  extra_warning_msg=_LOGISTIC_SOLVER_CONVERGENCE_MSG)\n"
          ],
          "name": "stderr"
        },
        {
          "output_type": "display_data",
          "data": {
            "text/plain": [
              "{'classifier__C': 1e-08,\n",
              " 'classifier__max_iter': 2048,\n",
              " 'classifier__penalty': 'none'}"
            ]
          },
          "metadata": {
            "tags": []
          }
        },
        {
          "output_type": "stream",
          "text": [
            "[Parallel(n_jobs=-1)]: Using backend LokyBackend with 2 concurrent workers.\n"
          ],
          "name": "stderr"
        },
        {
          "output_type": "stream",
          "text": [
            "\t- Adding for voting with weight <1>...\n",
            "LDA\n",
            "\t- Requires scaling and not scaled. Doing it now...\n",
            "Fitting 2 folds for each of 3 candidates, totalling 6 fits\n"
          ],
          "name": "stdout"
        },
        {
          "output_type": "stream",
          "text": [
            "[Parallel(n_jobs=-1)]: Done   6 out of   6 | elapsed:    0.2s finished\n"
          ],
          "name": "stderr"
        },
        {
          "output_type": "display_data",
          "data": {
            "text/plain": [
              "{'classifier__solver': 'svd'}"
            ]
          },
          "metadata": {
            "tags": []
          }
        },
        {
          "output_type": "stream",
          "text": [
            "[Parallel(n_jobs=-1)]: Using backend LokyBackend with 2 concurrent workers.\n"
          ],
          "name": "stderr"
        },
        {
          "output_type": "stream",
          "text": [
            "KNN-5\n",
            "\t- Requires scaling and not scaled. Doing it now...\n",
            "Fitting 2 folds for each of 4 candidates, totalling 8 fits\n"
          ],
          "name": "stdout"
        },
        {
          "output_type": "stream",
          "text": [
            "[Parallel(n_jobs=-1)]: Done   8 out of   8 | elapsed:    3.7s finished\n"
          ],
          "name": "stderr"
        },
        {
          "output_type": "display_data",
          "data": {
            "text/plain": [
              "{'classifier__metric': 'euclidean', 'classifier__weights': 'uniform'}"
            ]
          },
          "metadata": {
            "tags": []
          }
        },
        {
          "output_type": "stream",
          "text": [
            "KNN-10\n",
            "\t- Requires scaling and not scaled. Doing it now...\n",
            "Fitting 2 folds for each of 4 candidates, totalling 8 fits\n"
          ],
          "name": "stdout"
        },
        {
          "output_type": "stream",
          "text": [
            "[Parallel(n_jobs=-1)]: Using backend LokyBackend with 2 concurrent workers.\n",
            "[Parallel(n_jobs=-1)]: Done   8 out of   8 | elapsed:    3.9s finished\n"
          ],
          "name": "stderr"
        },
        {
          "output_type": "display_data",
          "data": {
            "text/plain": [
              "{'classifier__metric': 'euclidean', 'classifier__weights': 'uniform'}"
            ]
          },
          "metadata": {
            "tags": []
          }
        },
        {
          "output_type": "stream",
          "text": [
            "\t- Adding for voting with weight <0.5>...\n",
            "GNB\n",
            "\t- Requires scaling and not scaled. Doing it now...\n",
            "Fitting 2 folds for each of 100 candidates, totalling 200 fits\n"
          ],
          "name": "stdout"
        },
        {
          "output_type": "stream",
          "text": [
            "/usr/local/lib/python3.7/dist-packages/sklearn/metrics/_classification.py:1272: UndefinedMetricWarning: Precision is ill-defined and being set to 0.0 due to no predicted samples. Use `zero_division` parameter to control this behavior.\n",
            "  _warn_prf(average, modifier, msg_start, len(result))\n",
            "[Parallel(n_jobs=-1)]: Using backend LokyBackend with 2 concurrent workers.\n",
            "[Parallel(n_jobs=-1)]: Done 200 out of 200 | elapsed:    1.4s finished\n"
          ],
          "name": "stderr"
        },
        {
          "output_type": "display_data",
          "data": {
            "text/plain": [
              "{'classifier__var_smoothing': 0.002848035868435802}"
            ]
          },
          "metadata": {
            "tags": []
          }
        },
        {
          "output_type": "stream",
          "text": [
            "[Parallel(n_jobs=-1)]: Using backend LokyBackend with 2 concurrent workers.\n"
          ],
          "name": "stderr"
        },
        {
          "output_type": "stream",
          "text": [
            "DT\n",
            "Fitting 2 folds for each of 36 candidates, totalling 72 fits\n"
          ],
          "name": "stdout"
        },
        {
          "output_type": "stream",
          "text": [
            "[Parallel(n_jobs=-1)]: Done  72 out of  72 | elapsed:    7.4s finished\n"
          ],
          "name": "stderr"
        },
        {
          "output_type": "display_data",
          "data": {
            "text/plain": [
              "{'classifier__criterion': 'gini', 'classifier__max_depth': 5}"
            ]
          },
          "metadata": {
            "tags": []
          }
        },
        {
          "output_type": "stream",
          "text": [
            "\t- Adding for voting with weight <1>...\n",
            "SVC\n",
            "\t- Requires scaling and not scaled. Doing it now...\n",
            "Fitting 2 folds for each of 9 candidates, totalling 18 fits\n"
          ],
          "name": "stdout"
        },
        {
          "output_type": "stream",
          "text": [
            "[Parallel(n_jobs=-1)]: Using backend LokyBackend with 2 concurrent workers.\n",
            "[Parallel(n_jobs=-1)]: Done  18 out of  18 | elapsed:    5.1s finished\n"
          ],
          "name": "stderr"
        },
        {
          "output_type": "display_data",
          "data": {
            "text/plain": [
              "{'classifier__C': 0.05,\n",
              " 'classifier__gamma': 0.0001,\n",
              " 'classifier__kernel': 'rbf'}"
            ]
          },
          "metadata": {
            "tags": []
          }
        },
        {
          "output_type": "stream",
          "text": [
            "\t- Adding for voting with weight <0.5>...\n",
            "RFC\n",
            "Fitting 2 folds for each of 24 candidates, totalling 48 fits\n"
          ],
          "name": "stdout"
        },
        {
          "output_type": "stream",
          "text": [
            "/usr/local/lib/python3.7/dist-packages/sklearn/metrics/_classification.py:1272: UndefinedMetricWarning: Precision is ill-defined and being set to 0.0 due to no predicted samples. Use `zero_division` parameter to control this behavior.\n",
            "  _warn_prf(average, modifier, msg_start, len(result))\n",
            "[Parallel(n_jobs=-1)]: Using backend LokyBackend with 2 concurrent workers.\n",
            "[Parallel(n_jobs=-1)]: Done  48 out of  48 | elapsed:  3.5min finished\n"
          ],
          "name": "stderr"
        },
        {
          "output_type": "display_data",
          "data": {
            "text/plain": [
              "{'classifier__bootstrap': False,\n",
              " 'classifier__max_depth': 100,\n",
              " 'classifier__max_features': 'auto',\n",
              " 'classifier__min_samples_leaf': 1,\n",
              " 'classifier__n_estimators': 512}"
            ]
          },
          "metadata": {
            "tags": []
          }
        },
        {
          "output_type": "stream",
          "text": [
            "\t- Adding for voting with weight <1>...\n",
            "XGB\n",
            "Fitting 2 folds for each of 24 candidates, totalling 48 fits\n"
          ],
          "name": "stdout"
        },
        {
          "output_type": "stream",
          "text": [
            "[Parallel(n_jobs=-1)]: Using backend LokyBackend with 2 concurrent workers.\n",
            "[Parallel(n_jobs=-1)]: Done  48 out of  48 | elapsed:   38.4s finished\n"
          ],
          "name": "stderr"
        },
        {
          "output_type": "display_data",
          "data": {
            "text/plain": [
              "{'classifier__colsample_bytree': 0.6,\n",
              " 'classifier__gamma': 1,\n",
              " 'classifier__max_depth': 6}"
            ]
          },
          "metadata": {
            "tags": []
          }
        },
        {
          "output_type": "stream",
          "text": [
            "\t- Adding for voting with weight <1>...\n",
            "\n",
            "\n",
            "Voting...\n",
            "Done\n"
          ],
          "name": "stdout"
        }
      ]
    },
    {
      "cell_type": "code",
      "metadata": {
        "colab": {
          "base_uri": "https://localhost:8080/",
          "height": 1000
        },
        "id": "NNK-0IKrURqx",
        "outputId": "ab0b7000-4ad8-424b-c0b0-00919680a8cb"
      },
      "source": [
        "accuracy_sm,f1_sm,precision_sm,recall_sm = try_all_classifiers(X_train_imp,X_test_imp,Y_train,Y_test, classifiers, sampling = \"SMOTE\", scaler=scaler)"
      ],
      "execution_count": 14,
      "outputs": [
        {
          "output_type": "stream",
          "text": [
            "SMOTE\n",
            "LR\n",
            "\t- Requires scaling and not scaled. Doing it now...\n",
            "Fitting 2 folds for each of 32 candidates, totalling 64 fits\n"
          ],
          "name": "stdout"
        },
        {
          "output_type": "stream",
          "text": [
            "[Parallel(n_jobs=-1)]: Using backend LokyBackend with 2 concurrent workers.\n",
            "[Parallel(n_jobs=-1)]: Done  50 tasks      | elapsed:   32.9s\n",
            "[Parallel(n_jobs=-1)]: Done  64 out of  64 | elapsed:   49.9s finished\n",
            "/usr/local/lib/python3.7/dist-packages/sklearn/utils/deprecation.py:87: FutureWarning: Function safe_indexing is deprecated; safe_indexing is deprecated in version 0.22 and will be removed in version 0.24.\n",
            "  warnings.warn(msg, category=FutureWarning)\n"
          ],
          "name": "stderr"
        },
        {
          "output_type": "display_data",
          "data": {
            "text/plain": [
              "{'classifier__C': 6.309573444801943,\n",
              " 'classifier__max_iter': 2048,\n",
              " 'classifier__penalty': 'l2'}"
            ]
          },
          "metadata": {
            "tags": []
          }
        },
        {
          "output_type": "stream",
          "text": [
            "\t- Adding for voting with weight <1>...\n",
            "LDA\n",
            "\t- Requires scaling and not scaled. Doing it now...\n",
            "Fitting 2 folds for each of 3 candidates, totalling 6 fits\n"
          ],
          "name": "stdout"
        },
        {
          "output_type": "stream",
          "text": [
            "[Parallel(n_jobs=-1)]: Using backend LokyBackend with 2 concurrent workers.\n",
            "[Parallel(n_jobs=-1)]: Done   6 out of   6 | elapsed:    0.3s finished\n",
            "/usr/local/lib/python3.7/dist-packages/sklearn/utils/deprecation.py:87: FutureWarning: Function safe_indexing is deprecated; safe_indexing is deprecated in version 0.22 and will be removed in version 0.24.\n",
            "  warnings.warn(msg, category=FutureWarning)\n"
          ],
          "name": "stderr"
        },
        {
          "output_type": "display_data",
          "data": {
            "text/plain": [
              "{'classifier__solver': 'lsqr'}"
            ]
          },
          "metadata": {
            "tags": []
          }
        },
        {
          "output_type": "stream",
          "text": [
            "[Parallel(n_jobs=-1)]: Using backend LokyBackend with 2 concurrent workers.\n"
          ],
          "name": "stderr"
        },
        {
          "output_type": "stream",
          "text": [
            "KNN-5\n",
            "\t- Requires scaling and not scaled. Doing it now...\n",
            "Fitting 2 folds for each of 4 candidates, totalling 8 fits\n"
          ],
          "name": "stdout"
        },
        {
          "output_type": "stream",
          "text": [
            "[Parallel(n_jobs=-1)]: Done   8 out of   8 | elapsed:    5.6s finished\n",
            "/usr/local/lib/python3.7/dist-packages/sklearn/utils/deprecation.py:87: FutureWarning: Function safe_indexing is deprecated; safe_indexing is deprecated in version 0.22 and will be removed in version 0.24.\n",
            "  warnings.warn(msg, category=FutureWarning)\n"
          ],
          "name": "stderr"
        },
        {
          "output_type": "display_data",
          "data": {
            "text/plain": [
              "{'classifier__metric': 'euclidean', 'classifier__weights': 'distance'}"
            ]
          },
          "metadata": {
            "tags": []
          }
        },
        {
          "output_type": "stream",
          "text": [
            "KNN-10\n",
            "\t- Requires scaling and not scaled. Doing it now...\n",
            "Fitting 2 folds for each of 4 candidates, totalling 8 fits\n"
          ],
          "name": "stdout"
        },
        {
          "output_type": "stream",
          "text": [
            "[Parallel(n_jobs=-1)]: Using backend LokyBackend with 2 concurrent workers.\n",
            "[Parallel(n_jobs=-1)]: Done   8 out of   8 | elapsed:    5.9s finished\n",
            "/usr/local/lib/python3.7/dist-packages/sklearn/utils/deprecation.py:87: FutureWarning: Function safe_indexing is deprecated; safe_indexing is deprecated in version 0.22 and will be removed in version 0.24.\n",
            "  warnings.warn(msg, category=FutureWarning)\n"
          ],
          "name": "stderr"
        },
        {
          "output_type": "display_data",
          "data": {
            "text/plain": [
              "{'classifier__metric': 'manhattan', 'classifier__weights': 'uniform'}"
            ]
          },
          "metadata": {
            "tags": []
          }
        },
        {
          "output_type": "stream",
          "text": [
            "\t- Adding for voting with weight <0.5>...\n",
            "GNB\n",
            "\t- Requires scaling and not scaled. Doing it now...\n",
            "Fitting 2 folds for each of 100 candidates, totalling 200 fits\n"
          ],
          "name": "stdout"
        },
        {
          "output_type": "stream",
          "text": [
            "[Parallel(n_jobs=-1)]: Using backend LokyBackend with 2 concurrent workers.\n",
            "[Parallel(n_jobs=-1)]: Done 164 tasks      | elapsed:    3.1s\n",
            "[Parallel(n_jobs=-1)]: Done 200 out of 200 | elapsed:    3.7s finished\n",
            "/usr/local/lib/python3.7/dist-packages/sklearn/utils/deprecation.py:87: FutureWarning: Function safe_indexing is deprecated; safe_indexing is deprecated in version 0.22 and will be removed in version 0.24.\n",
            "  warnings.warn(msg, category=FutureWarning)\n"
          ],
          "name": "stderr"
        },
        {
          "output_type": "display_data",
          "data": {
            "text/plain": [
              "{'classifier__var_smoothing': 0.15199110829529336}"
            ]
          },
          "metadata": {
            "tags": []
          }
        },
        {
          "output_type": "stream",
          "text": [
            "[Parallel(n_jobs=-1)]: Using backend LokyBackend with 2 concurrent workers.\n"
          ],
          "name": "stderr"
        },
        {
          "output_type": "stream",
          "text": [
            "DT\n",
            "Fitting 2 folds for each of 36 candidates, totalling 72 fits\n"
          ],
          "name": "stdout"
        },
        {
          "output_type": "stream",
          "text": [
            "[Parallel(n_jobs=-1)]: Done  72 out of  72 | elapsed:   12.2s finished\n",
            "/usr/local/lib/python3.7/dist-packages/sklearn/utils/deprecation.py:87: FutureWarning: Function safe_indexing is deprecated; safe_indexing is deprecated in version 0.22 and will be removed in version 0.24.\n",
            "  warnings.warn(msg, category=FutureWarning)\n"
          ],
          "name": "stderr"
        },
        {
          "output_type": "display_data",
          "data": {
            "text/plain": [
              "{'classifier__criterion': 'entropy', 'classifier__max_depth': 5}"
            ]
          },
          "metadata": {
            "tags": []
          }
        },
        {
          "output_type": "stream",
          "text": [
            "\t- Adding for voting with weight <1>...\n",
            "SVC\n",
            "\t- Requires scaling and not scaled. Doing it now...\n",
            "Fitting 2 folds for each of 9 candidates, totalling 18 fits\n"
          ],
          "name": "stdout"
        },
        {
          "output_type": "stream",
          "text": [
            "[Parallel(n_jobs=-1)]: Using backend LokyBackend with 2 concurrent workers.\n",
            "[Parallel(n_jobs=-1)]: Done  18 out of  18 | elapsed:   22.2s finished\n",
            "/usr/local/lib/python3.7/dist-packages/sklearn/utils/deprecation.py:87: FutureWarning: Function safe_indexing is deprecated; safe_indexing is deprecated in version 0.22 and will be removed in version 0.24.\n",
            "  warnings.warn(msg, category=FutureWarning)\n"
          ],
          "name": "stderr"
        },
        {
          "output_type": "display_data",
          "data": {
            "text/plain": [
              "{'classifier__C': 1, 'classifier__gamma': 1, 'classifier__kernel': 'rbf'}"
            ]
          },
          "metadata": {
            "tags": []
          }
        },
        {
          "output_type": "stream",
          "text": [
            "\t- Adding for voting with weight <0.5>...\n",
            "RFC\n",
            "Fitting 2 folds for each of 24 candidates, totalling 48 fits\n"
          ],
          "name": "stdout"
        },
        {
          "output_type": "stream",
          "text": [
            "[Parallel(n_jobs=-1)]: Using backend LokyBackend with 2 concurrent workers.\n",
            "[Parallel(n_jobs=-1)]: Done  48 out of  48 | elapsed:  4.9min finished\n",
            "/usr/local/lib/python3.7/dist-packages/sklearn/utils/deprecation.py:87: FutureWarning: Function safe_indexing is deprecated; safe_indexing is deprecated in version 0.22 and will be removed in version 0.24.\n",
            "  warnings.warn(msg, category=FutureWarning)\n"
          ],
          "name": "stderr"
        },
        {
          "output_type": "display_data",
          "data": {
            "text/plain": [
              "{'classifier__bootstrap': False,\n",
              " 'classifier__max_depth': 100,\n",
              " 'classifier__max_features': 'auto',\n",
              " 'classifier__min_samples_leaf': 4,\n",
              " 'classifier__n_estimators': 256}"
            ]
          },
          "metadata": {
            "tags": []
          }
        },
        {
          "output_type": "stream",
          "text": [
            "\t- Adding for voting with weight <1>...\n",
            "XGB\n",
            "Fitting 2 folds for each of 24 candidates, totalling 48 fits\n"
          ],
          "name": "stdout"
        },
        {
          "output_type": "stream",
          "text": [
            "[Parallel(n_jobs=-1)]: Using backend LokyBackend with 2 concurrent workers.\n",
            "[Parallel(n_jobs=-1)]: Done  48 out of  48 | elapsed:  1.1min finished\n",
            "/usr/local/lib/python3.7/dist-packages/sklearn/utils/deprecation.py:87: FutureWarning: Function safe_indexing is deprecated; safe_indexing is deprecated in version 0.22 and will be removed in version 0.24.\n",
            "  warnings.warn(msg, category=FutureWarning)\n"
          ],
          "name": "stderr"
        },
        {
          "output_type": "display_data",
          "data": {
            "text/plain": [
              "{'classifier__colsample_bytree': 0.6,\n",
              " 'classifier__gamma': 2,\n",
              " 'classifier__max_depth': 6}"
            ]
          },
          "metadata": {
            "tags": []
          }
        },
        {
          "output_type": "stream",
          "text": [
            "\t- Adding for voting with weight <1>...\n",
            "\n",
            "\n",
            "Voting...\n",
            "Done\n"
          ],
          "name": "stdout"
        }
      ]
    },
    {
      "cell_type": "code",
      "metadata": {
        "colab": {
          "base_uri": "https://localhost:8080/",
          "height": 1000
        },
        "id": "QrGMfUBNUVAr",
        "outputId": "0c8e1223-a135-4b1f-d722-3943eea55acb"
      },
      "source": [
        "accuracy_rus,f1_rus,precision_rus,recall_rus = try_all_classifiers(X_train_imp,X_test_imp,Y_train,Y_test, classifiers, sampling = \"RUS\", scaler=scaler)"
      ],
      "execution_count": 15,
      "outputs": [
        {
          "output_type": "stream",
          "text": [
            "RUS\n",
            "LR\n",
            "\t- Requires scaling and not scaled. Doing it now...\n",
            "Fitting 2 folds for each of 32 candidates, totalling 64 fits\n"
          ],
          "name": "stdout"
        },
        {
          "output_type": "stream",
          "text": [
            "[Parallel(n_jobs=-1)]: Using backend LokyBackend with 2 concurrent workers.\n",
            "[Parallel(n_jobs=-1)]: Done  64 out of  64 | elapsed:   15.3s finished\n",
            "/usr/local/lib/python3.7/dist-packages/sklearn/utils/deprecation.py:87: FutureWarning: Function safe_indexing is deprecated; safe_indexing is deprecated in version 0.22 and will be removed in version 0.24.\n",
            "  warnings.warn(msg, category=FutureWarning)\n"
          ],
          "name": "stderr"
        },
        {
          "output_type": "display_data",
          "data": {
            "text/plain": [
              "{'classifier__C': 251.18864315095823,\n",
              " 'classifier__max_iter': 2048,\n",
              " 'classifier__penalty': 'l2'}"
            ]
          },
          "metadata": {
            "tags": []
          }
        },
        {
          "output_type": "stream",
          "text": [
            "\t- Adding for voting with weight <1>...\n",
            "LDA\n",
            "\t- Requires scaling and not scaled. Doing it now...\n",
            "Fitting 2 folds for each of 3 candidates, totalling 6 fits\n"
          ],
          "name": "stdout"
        },
        {
          "output_type": "stream",
          "text": [
            "[Parallel(n_jobs=-1)]: Using backend LokyBackend with 2 concurrent workers.\n",
            "[Parallel(n_jobs=-1)]: Done   6 out of   6 | elapsed:    0.1s finished\n",
            "/usr/local/lib/python3.7/dist-packages/sklearn/utils/deprecation.py:87: FutureWarning: Function safe_indexing is deprecated; safe_indexing is deprecated in version 0.22 and will be removed in version 0.24.\n",
            "  warnings.warn(msg, category=FutureWarning)\n"
          ],
          "name": "stderr"
        },
        {
          "output_type": "display_data",
          "data": {
            "text/plain": [
              "{'classifier__solver': 'lsqr'}"
            ]
          },
          "metadata": {
            "tags": []
          }
        },
        {
          "output_type": "stream",
          "text": [
            "KNN-5\n",
            "\t- Requires scaling and not scaled. Doing it now...\n",
            "Fitting 2 folds for each of 4 candidates, totalling 8 fits\n"
          ],
          "name": "stdout"
        },
        {
          "output_type": "stream",
          "text": [
            "[Parallel(n_jobs=-1)]: Using backend LokyBackend with 2 concurrent workers.\n",
            "[Parallel(n_jobs=-1)]: Done   8 out of   8 | elapsed:    0.8s finished\n",
            "/usr/local/lib/python3.7/dist-packages/sklearn/utils/deprecation.py:87: FutureWarning: Function safe_indexing is deprecated; safe_indexing is deprecated in version 0.22 and will be removed in version 0.24.\n",
            "  warnings.warn(msg, category=FutureWarning)\n"
          ],
          "name": "stderr"
        },
        {
          "output_type": "display_data",
          "data": {
            "text/plain": [
              "{'classifier__metric': 'manhattan', 'classifier__weights': 'distance'}"
            ]
          },
          "metadata": {
            "tags": []
          }
        },
        {
          "output_type": "stream",
          "text": [
            "KNN-10\n",
            "\t- Requires scaling and not scaled. Doing it now...\n",
            "Fitting 2 folds for each of 4 candidates, totalling 8 fits\n"
          ],
          "name": "stdout"
        },
        {
          "output_type": "stream",
          "text": [
            "[Parallel(n_jobs=-1)]: Using backend LokyBackend with 2 concurrent workers.\n",
            "[Parallel(n_jobs=-1)]: Done   8 out of   8 | elapsed:    0.9s finished\n",
            "/usr/local/lib/python3.7/dist-packages/sklearn/utils/deprecation.py:87: FutureWarning: Function safe_indexing is deprecated; safe_indexing is deprecated in version 0.22 and will be removed in version 0.24.\n",
            "  warnings.warn(msg, category=FutureWarning)\n"
          ],
          "name": "stderr"
        },
        {
          "output_type": "display_data",
          "data": {
            "text/plain": [
              "{'classifier__metric': 'manhattan', 'classifier__weights': 'distance'}"
            ]
          },
          "metadata": {
            "tags": []
          }
        },
        {
          "output_type": "stream",
          "text": [
            "\t- Adding for voting with weight <0.5>...\n",
            "GNB\n",
            "\t- Requires scaling and not scaled. Doing it now...\n",
            "Fitting 2 folds for each of 100 candidates, totalling 200 fits\n"
          ],
          "name": "stdout"
        },
        {
          "output_type": "stream",
          "text": [
            "[Parallel(n_jobs=-1)]: Using backend LokyBackend with 2 concurrent workers.\n",
            "[Parallel(n_jobs=-1)]: Done 200 out of 200 | elapsed:    1.5s finished\n",
            "/usr/local/lib/python3.7/dist-packages/sklearn/utils/deprecation.py:87: FutureWarning: Function safe_indexing is deprecated; safe_indexing is deprecated in version 0.22 and will be removed in version 0.24.\n",
            "  warnings.warn(msg, category=FutureWarning)\n"
          ],
          "name": "stderr"
        },
        {
          "output_type": "display_data",
          "data": {
            "text/plain": [
              "{'classifier__var_smoothing': 1e-09}"
            ]
          },
          "metadata": {
            "tags": []
          }
        },
        {
          "output_type": "stream",
          "text": [
            "[Parallel(n_jobs=-1)]: Using backend LokyBackend with 2 concurrent workers.\n"
          ],
          "name": "stderr"
        },
        {
          "output_type": "stream",
          "text": [
            "DT\n",
            "Fitting 2 folds for each of 36 candidates, totalling 72 fits\n"
          ],
          "name": "stdout"
        },
        {
          "output_type": "stream",
          "text": [
            "[Parallel(n_jobs=-1)]: Done  72 out of  72 | elapsed:    1.0s finished\n",
            "/usr/local/lib/python3.7/dist-packages/sklearn/utils/deprecation.py:87: FutureWarning: Function safe_indexing is deprecated; safe_indexing is deprecated in version 0.22 and will be removed in version 0.24.\n",
            "  warnings.warn(msg, category=FutureWarning)\n"
          ],
          "name": "stderr"
        },
        {
          "output_type": "display_data",
          "data": {
            "text/plain": [
              "{'classifier__criterion': 'gini', 'classifier__max_depth': 5}"
            ]
          },
          "metadata": {
            "tags": []
          }
        },
        {
          "output_type": "stream",
          "text": [
            "[Parallel(n_jobs=-1)]: Using backend LokyBackend with 2 concurrent workers.\n"
          ],
          "name": "stderr"
        },
        {
          "output_type": "stream",
          "text": [
            "\t- Adding for voting with weight <1>...\n",
            "SVC\n",
            "\t- Requires scaling and not scaled. Doing it now...\n",
            "Fitting 2 folds for each of 9 candidates, totalling 18 fits\n"
          ],
          "name": "stdout"
        },
        {
          "output_type": "stream",
          "text": [
            "[Parallel(n_jobs=-1)]: Done  18 out of  18 | elapsed:    0.7s finished\n",
            "/usr/local/lib/python3.7/dist-packages/sklearn/utils/deprecation.py:87: FutureWarning: Function safe_indexing is deprecated; safe_indexing is deprecated in version 0.22 and will be removed in version 0.24.\n",
            "  warnings.warn(msg, category=FutureWarning)\n"
          ],
          "name": "stderr"
        },
        {
          "output_type": "display_data",
          "data": {
            "text/plain": [
              "{'classifier__C': 1, 'classifier__gamma': 1, 'classifier__kernel': 'rbf'}"
            ]
          },
          "metadata": {
            "tags": []
          }
        },
        {
          "output_type": "stream",
          "text": [
            "\t- Adding for voting with weight <0.5>...\n",
            "RFC\n",
            "Fitting 2 folds for each of 24 candidates, totalling 48 fits\n"
          ],
          "name": "stdout"
        },
        {
          "output_type": "stream",
          "text": [
            "[Parallel(n_jobs=-1)]: Using backend LokyBackend with 2 concurrent workers.\n",
            "[Parallel(n_jobs=-1)]: Done  48 out of  48 | elapsed:   27.2s finished\n",
            "/usr/local/lib/python3.7/dist-packages/sklearn/utils/deprecation.py:87: FutureWarning: Function safe_indexing is deprecated; safe_indexing is deprecated in version 0.22 and will be removed in version 0.24.\n",
            "  warnings.warn(msg, category=FutureWarning)\n"
          ],
          "name": "stderr"
        },
        {
          "output_type": "display_data",
          "data": {
            "text/plain": [
              "{'classifier__bootstrap': False,\n",
              " 'classifier__max_depth': 10,\n",
              " 'classifier__max_features': 'auto',\n",
              " 'classifier__min_samples_leaf': 4,\n",
              " 'classifier__n_estimators': 256}"
            ]
          },
          "metadata": {
            "tags": []
          }
        },
        {
          "output_type": "stream",
          "text": [
            "\t- Adding for voting with weight <1>...\n",
            "XGB\n",
            "Fitting 2 folds for each of 24 candidates, totalling 48 fits\n"
          ],
          "name": "stdout"
        },
        {
          "output_type": "stream",
          "text": [
            "[Parallel(n_jobs=-1)]: Using backend LokyBackend with 2 concurrent workers.\n",
            "[Parallel(n_jobs=-1)]: Done  48 out of  48 | elapsed:    4.9s finished\n",
            "/usr/local/lib/python3.7/dist-packages/sklearn/utils/deprecation.py:87: FutureWarning: Function safe_indexing is deprecated; safe_indexing is deprecated in version 0.22 and will be removed in version 0.24.\n",
            "  warnings.warn(msg, category=FutureWarning)\n"
          ],
          "name": "stderr"
        },
        {
          "output_type": "display_data",
          "data": {
            "text/plain": [
              "{'classifier__colsample_bytree': 0.6,\n",
              " 'classifier__gamma': 0.5,\n",
              " 'classifier__max_depth': 3}"
            ]
          },
          "metadata": {
            "tags": []
          }
        },
        {
          "output_type": "stream",
          "text": [
            "\t- Adding for voting with weight <1>...\n",
            "\n",
            "\n",
            "Voting...\n",
            "Done\n"
          ],
          "name": "stdout"
        }
      ]
    },
    {
      "cell_type": "code",
      "metadata": {
        "colab": {
          "base_uri": "https://localhost:8080/",
          "height": 1000
        },
        "id": "w6GYDzUHUZfj",
        "outputId": "1c9172da-46d5-417f-f67b-c29caf30e2ae"
      },
      "source": [
        "accuracy_smoteenn,f1_smoteenn,precision_smoteenn,recall_smoteenn = try_all_classifiers(X_train_imp,X_test_imp,Y_train,Y_test, classifiers, sampling = \"SMOTEENN\",scaler=scaler)"
      ],
      "execution_count": null,
      "outputs": [
        {
          "output_type": "stream",
          "text": [
            "SMOTEENN\n",
            "LR\n",
            "\t- Requires scaling and not scaled. Doing it now...\n",
            "Fitting 2 folds for each of 32 candidates, totalling 64 fits\n"
          ],
          "name": "stdout"
        },
        {
          "output_type": "stream",
          "text": [
            "[Parallel(n_jobs=-1)]: Using backend LokyBackend with 2 concurrent workers.\n",
            "[Parallel(n_jobs=-1)]: Done  46 tasks      | elapsed:   54.3s\n",
            "[Parallel(n_jobs=-1)]: Done  64 out of  64 | elapsed:  1.4min finished\n",
            "/usr/local/lib/python3.7/dist-packages/sklearn/utils/deprecation.py:87: FutureWarning: Function safe_indexing is deprecated; safe_indexing is deprecated in version 0.22 and will be removed in version 0.24.\n",
            "  warnings.warn(msg, category=FutureWarning)\n",
            "/usr/local/lib/python3.7/dist-packages/sklearn/utils/deprecation.py:87: FutureWarning: Function safe_indexing is deprecated; safe_indexing is deprecated in version 0.22 and will be removed in version 0.24.\n",
            "  warnings.warn(msg, category=FutureWarning)\n",
            "/usr/local/lib/python3.7/dist-packages/sklearn/utils/deprecation.py:87: FutureWarning: Function safe_indexing is deprecated; safe_indexing is deprecated in version 0.22 and will be removed in version 0.24.\n",
            "  warnings.warn(msg, category=FutureWarning)\n",
            "/usr/local/lib/python3.7/dist-packages/sklearn/utils/deprecation.py:87: FutureWarning: Function safe_indexing is deprecated; safe_indexing is deprecated in version 0.22 and will be removed in version 0.24.\n",
            "  warnings.warn(msg, category=FutureWarning)\n",
            "/usr/local/lib/python3.7/dist-packages/sklearn/linear_model/_logistic.py:1505: UserWarning: Setting penalty='none' will ignore the C and l1_ratio parameters\n",
            "  \"Setting penalty='none' will ignore the C and l1_ratio \"\n",
            "/usr/local/lib/python3.7/dist-packages/sklearn/linear_model/_logistic.py:940: ConvergenceWarning: lbfgs failed to converge (status=1):\n",
            "STOP: TOTAL NO. of ITERATIONS REACHED LIMIT.\n",
            "\n",
            "Increase the number of iterations (max_iter) or scale the data as shown in:\n",
            "    https://scikit-learn.org/stable/modules/preprocessing.html\n",
            "Please also refer to the documentation for alternative solver options:\n",
            "    https://scikit-learn.org/stable/modules/linear_model.html#logistic-regression\n",
            "  extra_warning_msg=_LOGISTIC_SOLVER_CONVERGENCE_MSG)\n"
          ],
          "name": "stderr"
        },
        {
          "output_type": "display_data",
          "data": {
            "text/plain": [
              "{'classifier__C': 1e-08,\n",
              " 'classifier__max_iter': 2048,\n",
              " 'classifier__penalty': 'none'}"
            ]
          },
          "metadata": {
            "tags": []
          }
        },
        {
          "output_type": "stream",
          "text": [
            "[Parallel(n_jobs=-1)]: Using backend LokyBackend with 2 concurrent workers.\n"
          ],
          "name": "stderr"
        },
        {
          "output_type": "stream",
          "text": [
            "\t- Adding for voting with weight <1>...\n",
            "LDA\n",
            "\t- Requires scaling and not scaled. Doing it now...\n",
            "Fitting 2 folds for each of 3 candidates, totalling 6 fits\n"
          ],
          "name": "stdout"
        },
        {
          "output_type": "stream",
          "text": [
            "[Parallel(n_jobs=-1)]: Done   6 out of   6 | elapsed:    4.0s finished\n",
            "/usr/local/lib/python3.7/dist-packages/sklearn/utils/deprecation.py:87: FutureWarning: Function safe_indexing is deprecated; safe_indexing is deprecated in version 0.22 and will be removed in version 0.24.\n",
            "  warnings.warn(msg, category=FutureWarning)\n",
            "/usr/local/lib/python3.7/dist-packages/sklearn/utils/deprecation.py:87: FutureWarning: Function safe_indexing is deprecated; safe_indexing is deprecated in version 0.22 and will be removed in version 0.24.\n",
            "  warnings.warn(msg, category=FutureWarning)\n",
            "/usr/local/lib/python3.7/dist-packages/sklearn/utils/deprecation.py:87: FutureWarning: Function safe_indexing is deprecated; safe_indexing is deprecated in version 0.22 and will be removed in version 0.24.\n",
            "  warnings.warn(msg, category=FutureWarning)\n",
            "/usr/local/lib/python3.7/dist-packages/sklearn/utils/deprecation.py:87: FutureWarning: Function safe_indexing is deprecated; safe_indexing is deprecated in version 0.22 and will be removed in version 0.24.\n",
            "  warnings.warn(msg, category=FutureWarning)\n"
          ],
          "name": "stderr"
        },
        {
          "output_type": "display_data",
          "data": {
            "text/plain": [
              "{'classifier__solver': 'svd'}"
            ]
          },
          "metadata": {
            "tags": []
          }
        },
        {
          "output_type": "stream",
          "text": [
            "[Parallel(n_jobs=-1)]: Using backend LokyBackend with 2 concurrent workers.\n"
          ],
          "name": "stderr"
        },
        {
          "output_type": "stream",
          "text": [
            "KNN-5\n",
            "\t- Requires scaling and not scaled. Doing it now...\n",
            "Fitting 2 folds for each of 4 candidates, totalling 8 fits\n"
          ],
          "name": "stdout"
        },
        {
          "output_type": "stream",
          "text": [
            "[Parallel(n_jobs=-1)]: Done   8 out of   8 | elapsed:    9.2s finished\n",
            "/usr/local/lib/python3.7/dist-packages/sklearn/utils/deprecation.py:87: FutureWarning: Function safe_indexing is deprecated; safe_indexing is deprecated in version 0.22 and will be removed in version 0.24.\n",
            "  warnings.warn(msg, category=FutureWarning)\n",
            "/usr/local/lib/python3.7/dist-packages/sklearn/utils/deprecation.py:87: FutureWarning: Function safe_indexing is deprecated; safe_indexing is deprecated in version 0.22 and will be removed in version 0.24.\n",
            "  warnings.warn(msg, category=FutureWarning)\n",
            "/usr/local/lib/python3.7/dist-packages/sklearn/utils/deprecation.py:87: FutureWarning: Function safe_indexing is deprecated; safe_indexing is deprecated in version 0.22 and will be removed in version 0.24.\n",
            "  warnings.warn(msg, category=FutureWarning)\n",
            "/usr/local/lib/python3.7/dist-packages/sklearn/utils/deprecation.py:87: FutureWarning: Function safe_indexing is deprecated; safe_indexing is deprecated in version 0.22 and will be removed in version 0.24.\n",
            "  warnings.warn(msg, category=FutureWarning)\n"
          ],
          "name": "stderr"
        },
        {
          "output_type": "display_data",
          "data": {
            "text/plain": [
              "{'classifier__metric': 'manhattan', 'classifier__weights': 'uniform'}"
            ]
          },
          "metadata": {
            "tags": []
          }
        },
        {
          "output_type": "stream",
          "text": [
            "KNN-10\n",
            "\t- Requires scaling and not scaled. Doing it now...\n",
            "Fitting 2 folds for each of 4 candidates, totalling 8 fits\n"
          ],
          "name": "stdout"
        },
        {
          "output_type": "stream",
          "text": [
            "[Parallel(n_jobs=-1)]: Using backend LokyBackend with 2 concurrent workers.\n",
            "[Parallel(n_jobs=-1)]: Done   8 out of   8 | elapsed:    9.4s finished\n",
            "/usr/local/lib/python3.7/dist-packages/sklearn/utils/deprecation.py:87: FutureWarning: Function safe_indexing is deprecated; safe_indexing is deprecated in version 0.22 and will be removed in version 0.24.\n",
            "  warnings.warn(msg, category=FutureWarning)\n",
            "/usr/local/lib/python3.7/dist-packages/sklearn/utils/deprecation.py:87: FutureWarning: Function safe_indexing is deprecated; safe_indexing is deprecated in version 0.22 and will be removed in version 0.24.\n",
            "  warnings.warn(msg, category=FutureWarning)\n",
            "/usr/local/lib/python3.7/dist-packages/sklearn/utils/deprecation.py:87: FutureWarning: Function safe_indexing is deprecated; safe_indexing is deprecated in version 0.22 and will be removed in version 0.24.\n",
            "  warnings.warn(msg, category=FutureWarning)\n",
            "/usr/local/lib/python3.7/dist-packages/sklearn/utils/deprecation.py:87: FutureWarning: Function safe_indexing is deprecated; safe_indexing is deprecated in version 0.22 and will be removed in version 0.24.\n",
            "  warnings.warn(msg, category=FutureWarning)\n"
          ],
          "name": "stderr"
        },
        {
          "output_type": "display_data",
          "data": {
            "text/plain": [
              "{'classifier__metric': 'manhattan', 'classifier__weights': 'uniform'}"
            ]
          },
          "metadata": {
            "tags": []
          }
        },
        {
          "output_type": "stream",
          "text": [
            "\t- Adding for voting with weight <0.5>...\n",
            "GNB\n",
            "\t- Requires scaling and not scaled. Doing it now...\n",
            "Fitting 2 folds for each of 100 candidates, totalling 200 fits\n"
          ],
          "name": "stdout"
        },
        {
          "output_type": "stream",
          "text": [
            "[Parallel(n_jobs=-1)]: Using backend LokyBackend with 2 concurrent workers.\n",
            "[Parallel(n_jobs=-1)]: Done  46 tasks      | elapsed:   30.3s\n",
            "[Parallel(n_jobs=-1)]: Done 196 tasks      | elapsed:  2.1min\n",
            "[Parallel(n_jobs=-1)]: Done 200 out of 200 | elapsed:  2.2min finished\n",
            "/usr/local/lib/python3.7/dist-packages/sklearn/utils/deprecation.py:87: FutureWarning: Function safe_indexing is deprecated; safe_indexing is deprecated in version 0.22 and will be removed in version 0.24.\n",
            "  warnings.warn(msg, category=FutureWarning)\n",
            "/usr/local/lib/python3.7/dist-packages/sklearn/utils/deprecation.py:87: FutureWarning: Function safe_indexing is deprecated; safe_indexing is deprecated in version 0.22 and will be removed in version 0.24.\n",
            "  warnings.warn(msg, category=FutureWarning)\n",
            "/usr/local/lib/python3.7/dist-packages/sklearn/utils/deprecation.py:87: FutureWarning: Function safe_indexing is deprecated; safe_indexing is deprecated in version 0.22 and will be removed in version 0.24.\n",
            "  warnings.warn(msg, category=FutureWarning)\n",
            "/usr/local/lib/python3.7/dist-packages/sklearn/utils/deprecation.py:87: FutureWarning: Function safe_indexing is deprecated; safe_indexing is deprecated in version 0.22 and will be removed in version 0.24.\n",
            "  warnings.warn(msg, category=FutureWarning)\n"
          ],
          "name": "stderr"
        },
        {
          "output_type": "display_data",
          "data": {
            "text/plain": [
              "{'classifier__var_smoothing': 0.0006579332246575676}"
            ]
          },
          "metadata": {
            "tags": []
          }
        },
        {
          "output_type": "stream",
          "text": [
            "[Parallel(n_jobs=-1)]: Using backend LokyBackend with 2 concurrent workers.\n"
          ],
          "name": "stderr"
        },
        {
          "output_type": "stream",
          "text": [
            "DT\n",
            "Fitting 2 folds for each of 36 candidates, totalling 72 fits\n"
          ],
          "name": "stdout"
        },
        {
          "output_type": "stream",
          "text": [
            "[Parallel(n_jobs=-1)]: Done  46 tasks      | elapsed:   14.4s\n",
            "[Parallel(n_jobs=-1)]: Done  72 out of  72 | elapsed:   23.4s finished\n",
            "/usr/local/lib/python3.7/dist-packages/sklearn/utils/deprecation.py:87: FutureWarning: Function safe_indexing is deprecated; safe_indexing is deprecated in version 0.22 and will be removed in version 0.24.\n",
            "  warnings.warn(msg, category=FutureWarning)\n",
            "/usr/local/lib/python3.7/dist-packages/sklearn/utils/deprecation.py:87: FutureWarning: Function safe_indexing is deprecated; safe_indexing is deprecated in version 0.22 and will be removed in version 0.24.\n",
            "  warnings.warn(msg, category=FutureWarning)\n",
            "/usr/local/lib/python3.7/dist-packages/sklearn/utils/deprecation.py:87: FutureWarning: Function safe_indexing is deprecated; safe_indexing is deprecated in version 0.22 and will be removed in version 0.24.\n",
            "  warnings.warn(msg, category=FutureWarning)\n",
            "/usr/local/lib/python3.7/dist-packages/sklearn/utils/deprecation.py:87: FutureWarning: Function safe_indexing is deprecated; safe_indexing is deprecated in version 0.22 and will be removed in version 0.24.\n",
            "  warnings.warn(msg, category=FutureWarning)\n"
          ],
          "name": "stderr"
        },
        {
          "output_type": "display_data",
          "data": {
            "text/plain": [
              "{'classifier__criterion': 'entropy', 'classifier__max_depth': 20}"
            ]
          },
          "metadata": {
            "tags": []
          }
        },
        {
          "output_type": "stream",
          "text": [
            "\t- Adding for voting with weight <1>...\n",
            "SVC\n",
            "\t- Requires scaling and not scaled. Doing it now...\n",
            "Fitting 2 folds for each of 9 candidates, totalling 18 fits\n"
          ],
          "name": "stdout"
        },
        {
          "output_type": "stream",
          "text": [
            "[Parallel(n_jobs=-1)]: Using backend LokyBackend with 2 concurrent workers.\n",
            "[Parallel(n_jobs=-1)]: Done  18 out of  18 | elapsed:   28.0s finished\n",
            "/usr/local/lib/python3.7/dist-packages/sklearn/utils/deprecation.py:87: FutureWarning: Function safe_indexing is deprecated; safe_indexing is deprecated in version 0.22 and will be removed in version 0.24.\n",
            "  warnings.warn(msg, category=FutureWarning)\n",
            "/usr/local/lib/python3.7/dist-packages/sklearn/utils/deprecation.py:87: FutureWarning: Function safe_indexing is deprecated; safe_indexing is deprecated in version 0.22 and will be removed in version 0.24.\n",
            "  warnings.warn(msg, category=FutureWarning)\n",
            "/usr/local/lib/python3.7/dist-packages/sklearn/utils/deprecation.py:87: FutureWarning: Function safe_indexing is deprecated; safe_indexing is deprecated in version 0.22 and will be removed in version 0.24.\n",
            "  warnings.warn(msg, category=FutureWarning)\n",
            "/usr/local/lib/python3.7/dist-packages/sklearn/utils/deprecation.py:87: FutureWarning: Function safe_indexing is deprecated; safe_indexing is deprecated in version 0.22 and will be removed in version 0.24.\n",
            "  warnings.warn(msg, category=FutureWarning)\n"
          ],
          "name": "stderr"
        },
        {
          "output_type": "display_data",
          "data": {
            "text/plain": [
              "{'classifier__C': 0.1, 'classifier__kernel': 'linear'}"
            ]
          },
          "metadata": {
            "tags": []
          }
        },
        {
          "output_type": "stream",
          "text": [
            "\t- Adding for voting with weight <0.5>...\n",
            "RFC\n",
            "Fitting 2 folds for each of 24 candidates, totalling 48 fits\n"
          ],
          "name": "stdout"
        },
        {
          "output_type": "stream",
          "text": [
            "[Parallel(n_jobs=-1)]: Using backend LokyBackend with 2 concurrent workers.\n"
          ],
          "name": "stderr"
        }
      ]
    },
    {
      "cell_type": "code",
      "metadata": {
        "colab": {
          "base_uri": "https://localhost:8080/"
        },
        "id": "hVFZSW16UcZK",
        "outputId": "21452cdf-bb9b-44e9-b124-fe78cf446e7f"
      },
      "source": [
        "print(\"Imputer & Sampling & Metric & \",end = \"\")\n",
        "print(*classifiers_names,sep = \" & \", end = \" \\\\\\\\\\n\")\n",
        "print(\"\\\\hline \\\\hline\")\n",
        "print(\"Simple & No & Acc & \",end=\"\")\n",
        "print(*['%.2f' % elem for elem in accuracy],sep=\" & \", end = \" \\\\\\\\\\n\")\n",
        "print(\"~ & ~ & Prec & \",end=\"\")\n",
        "print(*['%.2f' % elem for elem in precision],sep=\" & \", end = \" \\\\\\\\\\n\")\n",
        "print(\"~ & ~ & Rec & \",end=\"\")\n",
        "print(*['%.2f' % elem for elem in recall],sep=\" & \", end = \" \\\\\\\\\\n\")\n",
        "print(\"~ & ~ & F1 & \",end=\"\")\n",
        "print(*['%.2f' % elem for elem in f1],sep=\" & \", end = \" \\\\\\\\\\n\")\n",
        "print(\"\\cline{2-13}\")\n",
        "\n",
        "print(\"~ & SMOTE & Acc & \",end=\"\")\n",
        "print(*['%.2f' % elem for elem in accuracy_sm],sep=\" & \", end = \" \\\\\\\\\\n\")\n",
        "print(\"~ & ~ & Prec & \",end=\"\")\n",
        "print(*['%.2f' % elem for elem in precision_sm],sep=\" & \", end = \" \\\\\\\\\\n\")\n",
        "print(\"~ & ~ & Rec & \",end=\"\")\n",
        "print(*['%.2f' % elem for elem in recall_sm],sep=\" & \", end = \" \\\\\\\\\\n\")\n",
        "print(\"~ & ~ & F1 & \",end=\"\")\n",
        "print(*['%.2f' % elem for elem in f1_sm],sep=\" & \", end = \" \\\\\\\\\\n\")\n",
        "print(\"\\cline{2-13}\")\n",
        "\n",
        "print(\"~ & RUS & Acc & \",end=\"\")\n",
        "print(*['%.2f' % elem for elem in accuracy_rus],sep=\" & \", end = \" \\\\\\\\\\n\")\n",
        "print(\"~ & ~ & Prec & \",end=\"\")\n",
        "print(*['%.2f' % elem for elem in precision_rus],sep=\" & \", end = \" \\\\\\\\\\n\")\n",
        "print(\"~ & ~ & Rec & \",end=\"\")\n",
        "print(*['%.2f' % elem for elem in recall_rus],sep=\" & \", end = \" \\\\\\\\\\n\")\n",
        "print(\"~ & ~ & F1 & \",end=\"\")\n",
        "print(*['%.2f' % elem for elem in f1_rus],sep=\" & \", end = \" \\\\\\\\\\n\")\n",
        "print(\"\\cline{2-13}\")\n",
        "\n",
        "\n",
        "print(\"~ & SMOTE- & Acc & \",end=\"\")\n",
        "print(*['%.2f' % elem for elem in accuracy_smoteenn],sep=\" & \", end = \" \\\\\\\\\\n\")\n",
        "print(\"~ & ENN & Prec & \",end=\"\")\n",
        "print(*['%.2f' % elem for elem in precision_smoteenn],sep=\" & \", end = \" \\\\\\\\\\n\")\n",
        "print(\"~ & ~ & Rec & \",end=\"\")\n",
        "print(*['%.2f' % elem for elem in recall_smoteenn],sep=\" & \", end = \" \\\\\\\\\\n\")\n",
        "print(\"~ & ~ & F1 & \",end=\"\")\n",
        "print(*['%.2f' % elem for elem in f1_smoteenn],sep=\" & \", end = \" \\\\\\\\\\n\")\n",
        "print(\"\\\\hline\\\\hline\")\n",
        "\n",
        "\n"
      ],
      "execution_count": 18,
      "outputs": [
        {
          "output_type": "stream",
          "text": [
            "Imputer & Sampling & Metric & LR & LDA & KNN-5 & KNN-10 & GNB & DT & SVC & RFC & XGB & Voting \\\\\n",
            "\\hline \\hline\n",
            "Simple & No & Acc & 0.96 & 0.96 & 0.96 & 0.96 & 0.07 & 0.98 & 0.96 & 0.98 & 0.98 & 0.98 \\\\\n",
            "~ & ~ & Prec & 0.65 & 0.00 & 0.33 & 0.00 & 0.04 & 0.81 & 0.00 & 0.87 & 0.95 & 0.97 \\\\\n",
            "~ & ~ & Rec & 0.19 & 0.00 & 0.01 & 0.00 & 0.99 & 0.56 & 0.00 & 0.50 & 0.54 & 0.50 \\\\\n",
            "~ & ~ & F1 & 0.30 & 0.00 & 0.03 & 0.00 & 0.08 & 0.66 & 0.00 & 0.64 & 0.69 & 0.66 \\\\\n",
            "\\cline{2-13}\n",
            "~ & SMOTE & Acc & 0.87 & 0.94 & 0.84 & 0.85 & 0.06 & 0.85 & 0.90 & 0.98 & 0.98 & 0.98 \\\\\n",
            "~ & ~ & Prec & 0.15 & 0.15 & 0.10 & 0.13 & 0.04 & 0.18 & 0.23 & 0.77 & 0.69 & 0.81 \\\\\n",
            "~ & ~ & Rec & 0.47 & 0.09 & 0.40 & 0.53 & 1.00 & 0.76 & 0.60 & 0.53 & 0.66 & 0.62 \\\\\n",
            "~ & ~ & F1 & 0.23 & 0.11 & 0.16 & 0.21 & 0.08 & 0.29 & 0.33 & 0.63 & 0.68 & 0.70 \\\\\n",
            "\\cline{2-13}\n",
            "~ & RUS & Acc & 0.87 & 0.87 & 0.81 & 0.85 & 0.66 & 0.85 & 0.92 & 0.91 & 0.92 & 0.94 \\\\\n",
            "~ & ~ & Prec & 0.15 & 0.12 & 0.10 & 0.11 & 0.06 & 0.19 & 0.10 & 0.27 & 0.29 & 0.35 \\\\\n",
            "~ & ~ & Rec & 0.51 & 0.34 & 0.47 & 0.38 & 0.49 & 0.84 & 0.12 & 0.74 & 0.81 & 0.76 \\\\\n",
            "~ & ~ & F1 & 0.23 & 0.17 & 0.16 & 0.17 & 0.10 & 0.31 & 0.11 & 0.40 & 0.43 & 0.48 \\\\\n",
            "\\cline{2-13}\n",
            "~ & SMOTE- & Acc & 0.81 & 0.88 & 0.80 & 0.78 & 0.09 & 0.95 & 0.79 & 0.97 & 0.97 & 0.97 \\\\\n",
            "~ & ENN & Prec & 0.13 & 0.11 & 0.11 & 0.10 & 0.04 & 0.39 & 0.10 & 0.67 & 0.63 & 0.61 \\\\\n",
            "~ & ~ & Rec & 0.69 & 0.31 & 0.56 & 0.54 & 0.99 & 0.65 & 0.54 & 0.54 & 0.71 & 0.68 \\\\\n",
            "~ & ~ & F1 & 0.22 & 0.16 & 0.18 & 0.16 & 0.08 & 0.48 & 0.17 & 0.60 & 0.67 & 0.64 \\\\\n",
            "\\hline\\hline\n"
          ],
          "name": "stdout"
        }
      ]
    },
    {
      "cell_type": "code",
      "metadata": {
        "colab": {
          "base_uri": "https://localhost:8080/"
        },
        "id": "V4faoKfwUfFV",
        "outputId": "0db57414-1606-4967-ed85-5da6ccca3282"
      },
      "source": [
        "print('''\n",
        "| classifier          | Accuracy | Precision | Recall | F1 score |\n",
        "| =================== | ======== | ========= | ====== | ======== |''')\n",
        "for c,a,p,r,f in zip(classifiers_names,accuracy,precision,recall,f1):\n",
        "    print(c,\"  |  \",a,\"  |  \",p,\"  |  \",r,\"  |  \",f,\"  |  \")\n",
        "    \n",
        "print(\"\\n===============================================================\\n\")\n",
        "for c,a,p,r,f in zip(classifiers_names,accuracy_sm,precision_sm,recall_sm,f1_sm):\n",
        "    print(c,\"  |  \",a,\"  |  \",p,\"  |  \",r,\"  |  \",f,\"  |  \")\n",
        "\n",
        "print(\"\\n===============================================================\\n\")\n",
        "for c,a,p,r,f in zip(classifiers_names,accuracy_rus,precision_rus,recall_rus,f1_rus):\n",
        "    print(c,\"  |  \",a,\"  |  \",p,\"  |  \",r,\"  |  \",f,\"  |  \")\n",
        "  \n",
        "print(\"\\n===============================================================\\n\")\n",
        "for c,a,p,r,f in zip(classifiers_names,accuracy_smoteenn,precision_smoteenn,recall_smoteenn,f1_smoteenn):\n",
        "    print(c,\"  |  \",a,\"  |  \",p,\"  |  \",r,\"  |  \",f,\"  |  \")\n",
        " "
      ],
      "execution_count": 19,
      "outputs": [
        {
          "output_type": "stream",
          "text": [
            "\n",
            "| classifier          | Accuracy | Precision | Recall | F1 score |\n",
            "| =================== | ======== | ========= | ====== | ======== |\n",
            "LR   |   0.9643062751871042   |   0.65   |   0.19117647058823528   |   0.29545454545454547   |  \n",
            "LDA   |   0.9579735175590098   |   0.0   |   0.0   |   0.0   |  \n",
            "KNN-5   |   0.9602763385146805   |   0.3333333333333333   |   0.014705882352941176   |   0.028169014084507043   |  \n",
            "KNN-10   |   0.9608520437535981   |   0.0   |   0.0   |   0.0   |  \n",
            "GNB   |   0.0736902705814623   |   0.04   |   0.9852941176470589   |   0.07687894434882386   |  \n",
            "DT   |   0.9775474956822107   |   0.8085106382978723   |   0.5588235294117647   |   0.6608695652173914   |  \n",
            "SVC   |   0.9608520437535981   |   0.0   |   0.0   |   0.0   |  \n",
            "RFC   |   0.9775474956822107   |   0.8717948717948718   |   0.5   |   0.6355140186915887   |  \n",
            "XGB   |   0.9810017271157168   |   0.9487179487179487   |   0.5441176470588235   |   0.6915887850467289   |  \n",
            "Voting   |   0.9798503166378814   |   0.9714285714285714   |   0.5   |   0.6601941747572815   |  \n",
            "\n",
            "===============================================================\n",
            "\n",
            "LR   |   0.874496257915947   |   0.14953271028037382   |   0.47058823529411764   |   0.22695035460992904   |  \n",
            "LDA   |   0.9441565918249856   |   0.14634146341463414   |   0.08823529411764706   |   0.11009174311926606   |  \n",
            "KNN-5   |   0.8405296488198043   |   0.10266159695817491   |   0.39705882352941174   |   0.16314199395770393   |  \n",
            "KNN-10   |   0.8480138169257341   |   0.13432835820895522   |   0.5294117647058824   |   0.21428571428571425   |  \n",
            "GNB   |   0.059297639608520435   |   0.0399529964747356   |   1.0   |   0.07683615819209039   |  \n",
            "DT   |   0.8543465745538285   |   0.17993079584775087   |   0.7647058823529411   |   0.2913165266106443   |  \n",
            "SVC   |   0.9038572251007484   |   0.2265193370165746   |   0.6029411764705882   |   0.32931726907630526   |  \n",
            "RFC   |   0.97524467472654   |   0.7659574468085106   |   0.5294117647058824   |   0.6260869565217391   |  \n",
            "XGB   |   0.97524467472654   |   0.6923076923076923   |   0.6617647058823529   |   0.6766917293233082   |  \n",
            "Voting   |   0.9792746113989638   |   0.8076923076923077   |   0.6176470588235294   |   0.7   |  \n",
            "\n",
            "===============================================================\n",
            "\n",
            "LR   |   0.8681635002878526   |   0.15151515151515152   |   0.5147058823529411   |   0.23411371237458192   |  \n",
            "LDA   |   0.8733448474381117   |   0.11616161616161616   |   0.3382352941176471   |   0.1729323308270677   |  \n",
            "KNN-5   |   0.8094415659182499   |   0.09785932721712538   |   0.47058823529411764   |   0.1620253164556962   |  \n",
            "KNN-10   |   0.8520437535981578   |   0.1078838174273859   |   0.38235294117647056   |   0.16828478964401294   |  \n",
            "GNB   |   0.6614853195164075   |   0.05631399317406143   |   0.4852941176470588   |   0.10091743119266054   |  \n",
            "DT   |   0.8537708693149108   |   0.19   |   0.8382352941176471   |   0.30978260869565216   |  \n",
            "SVC   |   0.9222797927461139   |   0.0963855421686747   |   0.11764705882352941   |   0.10596026490066225   |  \n",
            "RFC   |   0.9130685089234312   |   0.273224043715847   |   0.7352941176470589   |   0.39840637450199207   |  \n",
            "XGB   |   0.9159470351180196   |   0.2925531914893617   |   0.8088235294117647   |   0.4296875   |  \n",
            "Voting   |   0.9355210132412205   |   0.35135135135135137   |   0.7647058823529411   |   0.48148148148148157   |  \n",
            "\n",
            "===============================================================\n",
            "\n",
            "LR   |   0.8100172711571675   |   0.13202247191011235   |   0.6911764705882353   |   0.22169811320754715   |  \n",
            "LDA   |   0.8750719631548647   |   0.1099476439790576   |   0.3088235294117647   |   0.16216216216216217   |  \n",
            "KNN-5   |   0.8013816925734024   |   0.10764872521246459   |   0.5588235294117647   |   0.18052256532066507   |  \n",
            "KNN-10   |   0.7841105354058722   |   0.09711286089238845   |   0.5441176470588235   |   0.16481069042316257   |  \n",
            "GNB   |   0.08808290155440414   |   0.040606060606060604   |   0.9852941176470589   |   0.0779976717112922   |  \n",
            "DT   |   0.9458837075417387   |   0.38596491228070173   |   0.6470588235294118   |   0.48351648351648346   |  \n",
            "SVC   |   0.791594703511802   |   0.10054347826086957   |   0.5441176470588235   |   0.16972477064220184   |  \n",
            "RFC   |   0.971790443293034   |   0.6727272727272727   |   0.5441176470588235   |   0.6016260162601627   |  \n",
            "XGB   |   0.9723661485319517   |   0.631578947368421   |   0.7058823529411765   |   0.6666666666666667   |  \n",
            "Voting   |   0.970063327576281   |   0.6052631578947368   |   0.6764705882352942   |   0.6388888888888888   |  \n"
          ],
          "name": "stdout"
        }
      ]
    }
  ]
}