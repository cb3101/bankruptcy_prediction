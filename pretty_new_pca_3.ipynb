{
  "nbformat": 4,
  "nbformat_minor": 0,
  "metadata": {
    "colab": {
      "name": "pretty_new_pca_3.ipynb",
      "provenance": [],
      "collapsed_sections": [],
      "toc_visible": true
    },
    "kernelspec": {
      "name": "python3",
      "display_name": "Python 3"
    },
    "language_info": {
      "name": "python"
    }
  },
  "cells": [
    {
      "cell_type": "code",
      "metadata": {
        "id": "GPknB-Lr-Uuj"
      },
      "source": [
        "import numpy as np\n",
        "import pandas as pd\n",
        "import matplotlib.pyplot as plt\n",
        "from scipy.io.arff import loadarff\n",
        "from sklearn.model_selection import train_test_split\n",
        "\n",
        "%matplotlib inline\n",
        "random_state = 2021\n",
        "\n",
        "N = '3'\n",
        "drop_cols = ['Attr37', 'Attr7','Attr43','Attr62','Attr32','Attr44','Attr15','Attr19','Attr3','Attr51','Attr4','Attr49','Attr38','Attr60','Attr6']"
      ],
      "execution_count": 32,
      "outputs": []
    },
    {
      "cell_type": "code",
      "metadata": {
        "id": "Z6PoMIo2-eJh"
      },
      "source": [
        "arff = loadarff('3year.arff')\n",
        "df = pd.DataFrame(arff[0])\n",
        "df['class']= df['class'].astype('int')\n",
        "df = df.drop_duplicates()"
      ],
      "execution_count": 33,
      "outputs": []
    },
    {
      "cell_type": "code",
      "metadata": {
        "colab": {
          "base_uri": "https://localhost:8080/",
          "height": 118
        },
        "id": "HbbnTNQa-404",
        "outputId": "a2d2d3f3-3d09-45dd-9e29-48e994f9b500"
      },
      "source": [
        "df = df.drop(drop_cols,axis='columns')\n",
        "X = df.drop('class',axis='columns')\n",
        "Y = df['class']\n",
        "# (X.shape,Y.shape)\n",
        "\n",
        "X_train, X_test, Y_train, Y_test = train_test_split(\n",
        "    X, Y, test_size=0.25, random_state=random_state,shuffle=True,stratify=Y)\n",
        "\n",
        "display(Y_train.value_counts(), Y_test.value_counts())\n",
        "X_train,Y_train,X_test,Y_test = X_train.to_numpy(),Y_train.to_numpy(),X_test.to_numpy(),Y_test.to_numpy()"
      ],
      "execution_count": 34,
      "outputs": [
        {
          "output_type": "display_data",
          "data": {
            "text/plain": [
              "0    7442\n",
              "1     370\n",
              "Name: class, dtype: int64"
            ]
          },
          "metadata": {
            "tags": []
          }
        },
        {
          "output_type": "display_data",
          "data": {
            "text/plain": [
              "0    2481\n",
              "1     123\n",
              "Name: class, dtype: int64"
            ]
          },
          "metadata": {
            "tags": []
          }
        }
      ]
    },
    {
      "cell_type": "code",
      "metadata": {
        "id": "IuoqkCqL_B9f"
      },
      "source": [
        "from sklearn.impute import SimpleImputer\n",
        "simple_imp = SimpleImputer(missing_values=np.nan, strategy='mean')\n",
        "simple_imp = simple_imp.fit(X_train)\n",
        "X_train_imp = simple_imp.transform(X_train)\n",
        "X_test_imp = simple_imp.transform(X_test)"
      ],
      "execution_count": 35,
      "outputs": []
    },
    {
      "cell_type": "code",
      "metadata": {
        "id": "KdGz9Cez_GZS"
      },
      "source": [
        "from sklearn.decomposition import PCA\n",
        "pca = PCA(n_components=20)\n",
        "pca = pca.fit(X_train_imp)\n",
        "\n",
        "X_train_imp = pca.transform(X_train_imp)\n",
        "X_test_imp = pca.transform(X_test_imp)"
      ],
      "execution_count": 36,
      "outputs": []
    },
    {
      "cell_type": "code",
      "metadata": {
        "id": "KC-xmf3j_KPb"
      },
      "source": [
        "from sklearn.preprocessing import StandardScaler\n",
        "\n",
        "scaler = StandardScaler().fit(X_train_imp)\n",
        "# choose imputer <<comment blocks accordingly>>\n",
        "\n",
        "#### for simple\n",
        "scaled_already = False\n",
        "# X_train_imp = simple_imp.transform(X_train)\n",
        "# X_test_imp = simple_imp.transform(X_test)\n"
      ],
      "execution_count": 37,
      "outputs": []
    },
    {
      "cell_type": "code",
      "metadata": {
        "id": "05jrQRHi_NVT"
      },
      "source": [
        "from sklearn.model_selection import train_test_split\n",
        "from sklearn import metrics\n",
        "\n",
        "from sklearn.linear_model import LogisticRegression\n",
        "from sklearn.discriminant_analysis import LinearDiscriminantAnalysis\n",
        "from sklearn.neighbors import KNeighborsClassifier\n",
        "from sklearn.naive_bayes import GaussianNB\n",
        "from sklearn.tree import DecisionTreeClassifier\n",
        "from sklearn.svm import SVC\n",
        "from sklearn.ensemble import RandomForestClassifier\n",
        "from xgboost import XGBClassifier\n",
        "from sklearn.ensemble import VotingClassifier # Voting Ensemble for Classification\n",
        "\n",
        "from imblearn.over_sampling import SMOTE\n",
        "from imblearn.under_sampling import RandomUnderSampler\n",
        "from imblearn.combine import SMOTEENN\n",
        "\n",
        "from imblearn.pipeline import Pipeline\n",
        "from sklearn.model_selection import GridSearchCV"
      ],
      "execution_count": 38,
      "outputs": []
    },
    {
      "cell_type": "code",
      "metadata": {
        "id": "bNa2ovAp_Psz"
      },
      "source": [
        "def try_all_classifiers(X_train, X_test, y_train, y_test, classifiers, sampling  = None, scaler=None):\n",
        "   \n",
        "    accuracy = [0]*len(classifiers)\n",
        "    f1 = [0]*len(classifiers)\n",
        "    precision = [0]*len(classifiers)\n",
        "    recall = [0]*len(classifiers)\n",
        "    i = 0\n",
        "    \n",
        "    model_pipeline = []\n",
        "    Pipeline([\n",
        "        ('sampling', SMOTE()),\n",
        "        ('classification', LogisticRegression())\n",
        "    ])\n",
        "    \n",
        "    if sampling == \"SMOTE\":\n",
        "        model_pipeline.append(('sampling', SMOTE(sampling_strategy=0.6,random_state=random_state) ))\n",
        "        # X_train, y_train = smote.fit_resample(X_train, y_train)\n",
        "        print(\"SMOTE\")\n",
        "    if sampling == \"RUS\":\n",
        "        model_pipeline.append(('sampling', RandomUnderSampler(sampling_strategy=0.6,random_state=random_state) ))\n",
        "        # X_train, y_train = rus.fit_resample(X_train, y_train)\n",
        "        print(\"RUS\")\n",
        "    if sampling == \"SMOTEENN\":\n",
        "        model_pipeline.append(('sampling', SMOTEENN(sampling_strategy=0.6,random_state=random_state) ))\n",
        "        # X_train, y_train = smoteenn.fit_resample(X_train, y_train)\n",
        "        print(\"SMOTEENN\")    \n",
        "\n",
        "    voting_classifs = []\n",
        "    models_for_voting = [0,3,5,6,7,8]\n",
        "    voting_weights = [1,0.5,1,0.5,1,1]\n",
        "    jj =0 \n",
        "        \n",
        "    for i in range(len(classifiers)):\n",
        "        classif = classifiers[i][0]\n",
        "        pipe_parameters = classifiers[i][2]\n",
        "        y_pred = []\n",
        "        print(classifiers_names[i])\n",
        "        pipeline = Pipeline(model_pipeline+[('classifier',classif)])\n",
        "        \n",
        "        if classifiers[i][1] and not scaled_already:\n",
        "            print(\"\\t- Requires scaling and not scaled. Doing it now...\")\n",
        "            grid = GridSearchCV(pipeline, pipe_parameters, cv=2, scoring=\"f1\",n_jobs=-1,verbose=1)\n",
        "            #grid = grid.fit(X_train, y_train)\n",
        "            grid = grid.fit(scaler.transform(X_train), y_train)\n",
        "\n",
        "            #classif.fit(scaler.transform(X_train), y_train)\n",
        "            #y_pred = classif.predict(scaler.transform(X_test))\n",
        "            \n",
        "            display(grid.best_params_)\n",
        "            classif = grid.best_estimator_\n",
        "            y_pred = grid.predict(scaler.transform(X_test))\n",
        "            #classif.fit(scaler.transform(), )\n",
        "            #y_pred = classif.predict(scaler.transform(X_test))\n",
        "            \n",
        "        else:\n",
        "            grid = GridSearchCV(pipeline, pipe_parameters, cv=2, scoring=\"f1\",n_jobs=-1,verbose=1)\n",
        "            grid.fit(X_train, y_train)\n",
        "            display(grid.best_params_)\n",
        "            classif = grid.best_estimator_\n",
        "            y_pred = grid.predict(X_test)\n",
        "            \n",
        "            #classif.fit(X_train, y_train)\n",
        "            #y_pred = classif.predict(X_test)\n",
        "        \n",
        "        if i in models_for_voting:\n",
        "            print(\"\\t- Adding for voting with weight <\"+str(voting_weights[jj])+\">...\")\n",
        "            jj+=1\n",
        "            voting_classifs.append((\"mod\"+str(i+1),classif))\n",
        "        \n",
        "        accuracy[i] = metrics.accuracy_score(y_test, y_pred)\n",
        "        f1[i] = metrics.f1_score(y_test, y_pred, labels=np.unique(y_pred))\n",
        "        precision[i] = metrics.precision_score(y_test, y_pred)\n",
        "        recall[i] = metrics.recall_score(y_test, y_pred)\n",
        "    \n",
        "    print(\"\\n\\nVoting...\")\n",
        "    # create the ensemble model\n",
        "    ensemble = VotingClassifier(voting_classifs,weights=voting_weights,n_jobs=-1,voting=\"hard\")\n",
        "    ensemble.fit(scaler.transform(X_train), y_train)\n",
        "    y_pred = ensemble.predict(scaler.transform(X_test))\n",
        "    \n",
        "    accuracy.append(metrics.accuracy_score(y_test, y_pred))\n",
        "    f1.append(metrics.f1_score(y_test, y_pred, labels=np.unique(y_pred)))\n",
        "    precision.append(metrics.precision_score(y_test, y_pred))\n",
        "    recall.append(metrics.recall_score(y_test, y_pred))\n",
        "\n",
        "    print(\"Done\")\n",
        "    return accuracy,f1,precision,recall"
      ],
      "execution_count": 39,
      "outputs": []
    },
    {
      "cell_type": "code",
      "metadata": {
        "id": "KCYpY7lI_XSV"
      },
      "source": [
        "classifiers_names = [\"LR\", \"LDA\", \"KNN-5\", \"KNN-10\", \"GNB\", \"DT\", \"SVC\", \"RFC\", \"XGB\",\"Voting\"]\n",
        "\n",
        "classifiers = [(LogisticRegression(max_iter=2048,random_state=random_state),True,\n",
        "                   [\n",
        "                       #{\n",
        "                       # 'classifier__penalty' : ['l1', 'l2'],\n",
        "                       # 'classifier__C' : np.logspace(-8, 4, 16),\n",
        "                       # 'classifier__solver' : ['liblinear']\n",
        "                       # },\n",
        "                        {\n",
        "                        'classifier__penalty' : ['l2','none'],\n",
        "                        'classifier__C' : np.logspace(-8, 4, 16)\n",
        "                        }\n",
        "                   ]),\n",
        "                (LinearDiscriminantAnalysis(),True,\n",
        "                    { 'classifier__solver' : ['svd', 'lsqr', 'eigen'] }),\n",
        "                (KNeighborsClassifier(n_neighbors=5),True,\n",
        "                    {'classifier__weights' : ['uniform','distance'], 'classifier__metric' : ['euclidean', 'manhattan']}), \n",
        "                (KNeighborsClassifier(n_neighbors=10),True,\n",
        "                    {'classifier__weights' : ['uniform','distance'], 'classifier__metric' : ['euclidean', 'manhattan']}),\n",
        "                (GaussianNB(),True,\n",
        "                    {'classifier__var_smoothing': np.logspace(0,-9, num=100)}),\n",
        "                (DecisionTreeClassifier(random_state=random_state),False,\n",
        "                    { 'classifier__criterion':['gini','entropy'],'classifier__max_depth':[4,5,6,7,8,9,10,11,12,15,20,30,40,50,70,90,120,150]} ),\n",
        "                (SVC(random_state=random_state),True,\n",
        "                    [\n",
        "                        {'classifier__C': [ 0.05, 0.1, 1], \n",
        "                         'classifier__gamma': [0.0001, 1],\n",
        "                         'classifier__kernel': ['rbf']},\n",
        "                        {'classifier__C': [ 0.05, 0.1, 1],\n",
        "                         'classifier__kernel': ['linear']}\n",
        "                    ]),\n",
        "                (RandomForestClassifier(random_state=random_state),False,\n",
        "                     { 'classifier__n_estimators': [int(x) for x in np.linspace(start = 128, stop = 512, num = 4)],\n",
        "                       'classifier__max_features': ['auto'],\n",
        "                       'classifier__max_depth':  [int(x) for x in np.linspace(10, 100, num = 2)]+[None],\n",
        "                       'classifier__min_samples_leaf':  [1, 4],\n",
        "                       'classifier__bootstrap': [False]\n",
        "                     }),\n",
        "                (XGBClassifier(use_label_encoder=False),False,\n",
        "                    {\n",
        "                        'classifier__gamma': [0.5, 1, 2, 5],\n",
        "                        'classifier__colsample_bytree': [0.6, 0.8, 1.0],\n",
        "                        'classifier__max_depth': [3, 6]\n",
        "                    }) ]\n",
        "\n"
      ],
      "execution_count": 40,
      "outputs": []
    },
    {
      "cell_type": "code",
      "metadata": {
        "colab": {
          "base_uri": "https://localhost:8080/",
          "height": 1000
        },
        "id": "ccUkvTv6_uk1",
        "outputId": "52b75de3-8f24-4aca-c717-cb98c485dc5e"
      },
      "source": [
        "accuracy,f1,precision,recall = try_all_classifiers(X_train_imp,X_test_imp,Y_train,Y_test, classifiers, scaler=scaler)"
      ],
      "execution_count": 41,
      "outputs": [
        {
          "output_type": "stream",
          "text": [
            "LR\n",
            "\t- Requires scaling and not scaled. Doing it now...\n",
            "Fitting 2 folds for each of 32 candidates, totalling 64 fits\n"
          ],
          "name": "stdout"
        },
        {
          "output_type": "stream",
          "text": [
            "[Parallel(n_jobs=-1)]: Using backend LokyBackend with 2 concurrent workers.\n",
            "[Parallel(n_jobs=-1)]: Done  46 tasks      | elapsed:   10.8s\n",
            "[Parallel(n_jobs=-1)]: Done  64 out of  64 | elapsed:   16.1s finished\n"
          ],
          "name": "stderr"
        },
        {
          "output_type": "display_data",
          "data": {
            "text/plain": [
              "{'classifier__C': 251.18864315095823, 'classifier__penalty': 'l2'}"
            ]
          },
          "metadata": {
            "tags": []
          }
        },
        {
          "output_type": "stream",
          "text": [
            "\t- Adding for voting with weight <1>...\n",
            "LDA\n",
            "\t- Requires scaling and not scaled. Doing it now...\n",
            "Fitting 2 folds for each of 3 candidates, totalling 6 fits\n"
          ],
          "name": "stdout"
        },
        {
          "output_type": "stream",
          "text": [
            "[Parallel(n_jobs=-1)]: Using backend LokyBackend with 2 concurrent workers.\n",
            "[Parallel(n_jobs=-1)]: Done   6 out of   6 | elapsed:    0.1s finished\n"
          ],
          "name": "stderr"
        },
        {
          "output_type": "display_data",
          "data": {
            "text/plain": [
              "{'classifier__solver': 'svd'}"
            ]
          },
          "metadata": {
            "tags": []
          }
        },
        {
          "output_type": "stream",
          "text": [
            "/usr/local/lib/python3.7/dist-packages/sklearn/metrics/_classification.py:1272: UndefinedMetricWarning: Precision is ill-defined and being set to 0.0 due to no predicted samples. Use `zero_division` parameter to control this behavior.\n",
            "  _warn_prf(average, modifier, msg_start, len(result))\n",
            "[Parallel(n_jobs=-1)]: Using backend LokyBackend with 2 concurrent workers.\n"
          ],
          "name": "stderr"
        },
        {
          "output_type": "stream",
          "text": [
            "KNN-5\n",
            "\t- Requires scaling and not scaled. Doing it now...\n",
            "Fitting 2 folds for each of 4 candidates, totalling 8 fits\n"
          ],
          "name": "stdout"
        },
        {
          "output_type": "stream",
          "text": [
            "[Parallel(n_jobs=-1)]: Done   8 out of   8 | elapsed:    3.8s finished\n"
          ],
          "name": "stderr"
        },
        {
          "output_type": "display_data",
          "data": {
            "text/plain": [
              "{'classifier__metric': 'euclidean', 'classifier__weights': 'distance'}"
            ]
          },
          "metadata": {
            "tags": []
          }
        },
        {
          "output_type": "stream",
          "text": [
            "KNN-10\n",
            "\t- Requires scaling and not scaled. Doing it now...\n",
            "Fitting 2 folds for each of 4 candidates, totalling 8 fits\n"
          ],
          "name": "stdout"
        },
        {
          "output_type": "stream",
          "text": [
            "[Parallel(n_jobs=-1)]: Using backend LokyBackend with 2 concurrent workers.\n",
            "[Parallel(n_jobs=-1)]: Done   8 out of   8 | elapsed:    4.0s finished\n"
          ],
          "name": "stderr"
        },
        {
          "output_type": "display_data",
          "data": {
            "text/plain": [
              "{'classifier__metric': 'euclidean', 'classifier__weights': 'distance'}"
            ]
          },
          "metadata": {
            "tags": []
          }
        },
        {
          "output_type": "stream",
          "text": [
            "\t- Adding for voting with weight <0.5>...\n",
            "GNB\n",
            "\t- Requires scaling and not scaled. Doing it now...\n",
            "Fitting 2 folds for each of 100 candidates, totalling 200 fits\n"
          ],
          "name": "stdout"
        },
        {
          "output_type": "stream",
          "text": [
            "[Parallel(n_jobs=-1)]: Using backend LokyBackend with 2 concurrent workers.\n",
            "[Parallel(n_jobs=-1)]: Done 200 out of 200 | elapsed:    1.2s finished\n"
          ],
          "name": "stderr"
        },
        {
          "output_type": "display_data",
          "data": {
            "text/plain": [
              "{'classifier__var_smoothing': 2.848035868435799e-07}"
            ]
          },
          "metadata": {
            "tags": []
          }
        },
        {
          "output_type": "stream",
          "text": [
            "[Parallel(n_jobs=-1)]: Using backend LokyBackend with 2 concurrent workers.\n"
          ],
          "name": "stderr"
        },
        {
          "output_type": "stream",
          "text": [
            "DT\n",
            "Fitting 2 folds for each of 36 candidates, totalling 72 fits\n"
          ],
          "name": "stdout"
        },
        {
          "output_type": "stream",
          "text": [
            "[Parallel(n_jobs=-1)]: Done  72 out of  72 | elapsed:    5.5s finished\n"
          ],
          "name": "stderr"
        },
        {
          "output_type": "display_data",
          "data": {
            "text/plain": [
              "{'classifier__criterion': 'gini', 'classifier__max_depth': 9}"
            ]
          },
          "metadata": {
            "tags": []
          }
        },
        {
          "output_type": "stream",
          "text": [
            "\t- Adding for voting with weight <1>...\n",
            "SVC\n",
            "\t- Requires scaling and not scaled. Doing it now...\n",
            "Fitting 2 folds for each of 9 candidates, totalling 18 fits\n"
          ],
          "name": "stdout"
        },
        {
          "output_type": "stream",
          "text": [
            "[Parallel(n_jobs=-1)]: Using backend LokyBackend with 2 concurrent workers.\n",
            "[Parallel(n_jobs=-1)]: Done  18 out of  18 | elapsed:   11.1s finished\n"
          ],
          "name": "stderr"
        },
        {
          "output_type": "display_data",
          "data": {
            "text/plain": [
              "{'classifier__C': 0.05,\n",
              " 'classifier__gamma': 0.0001,\n",
              " 'classifier__kernel': 'rbf'}"
            ]
          },
          "metadata": {
            "tags": []
          }
        },
        {
          "output_type": "stream",
          "text": [
            "\t- Adding for voting with weight <0.5>...\n",
            "RFC\n",
            "Fitting 2 folds for each of 24 candidates, totalling 48 fits\n"
          ],
          "name": "stdout"
        },
        {
          "output_type": "stream",
          "text": [
            "/usr/local/lib/python3.7/dist-packages/sklearn/metrics/_classification.py:1272: UndefinedMetricWarning: Precision is ill-defined and being set to 0.0 due to no predicted samples. Use `zero_division` parameter to control this behavior.\n",
            "  _warn_prf(average, modifier, msg_start, len(result))\n",
            "[Parallel(n_jobs=-1)]: Using backend LokyBackend with 2 concurrent workers.\n",
            "[Parallel(n_jobs=-1)]: Done  48 out of  48 | elapsed:  3.5min finished\n"
          ],
          "name": "stderr"
        },
        {
          "output_type": "display_data",
          "data": {
            "text/plain": [
              "{'classifier__bootstrap': False,\n",
              " 'classifier__max_depth': 100,\n",
              " 'classifier__max_features': 'auto',\n",
              " 'classifier__min_samples_leaf': 1,\n",
              " 'classifier__n_estimators': 512}"
            ]
          },
          "metadata": {
            "tags": []
          }
        },
        {
          "output_type": "stream",
          "text": [
            "\t- Adding for voting with weight <1>...\n",
            "XGB\n",
            "Fitting 2 folds for each of 24 candidates, totalling 48 fits\n"
          ],
          "name": "stdout"
        },
        {
          "output_type": "stream",
          "text": [
            "[Parallel(n_jobs=-1)]: Using backend LokyBackend with 2 concurrent workers.\n",
            "[Parallel(n_jobs=-1)]: Done  48 out of  48 | elapsed:   29.2s finished\n"
          ],
          "name": "stderr"
        },
        {
          "output_type": "display_data",
          "data": {
            "text/plain": [
              "{'classifier__colsample_bytree': 0.6,\n",
              " 'classifier__gamma': 1,\n",
              " 'classifier__max_depth': 6}"
            ]
          },
          "metadata": {
            "tags": []
          }
        },
        {
          "output_type": "stream",
          "text": [
            "\t- Adding for voting with weight <1>...\n",
            "\n",
            "\n",
            "Voting...\n",
            "Done\n"
          ],
          "name": "stdout"
        }
      ]
    },
    {
      "cell_type": "code",
      "metadata": {
        "colab": {
          "base_uri": "https://localhost:8080/",
          "height": 1000
        },
        "id": "POamfV_J_x29",
        "outputId": "cdf0feb8-4f92-409e-9b95-a8e0a6e0e95e"
      },
      "source": [
        "accuracy_sm,f1_sm,precision_sm,recall_sm = try_all_classifiers(X_train_imp,X_test_imp,Y_train,Y_test, classifiers, sampling = \"SMOTE\", scaler=scaler)\n"
      ],
      "execution_count": 42,
      "outputs": [
        {
          "output_type": "stream",
          "text": [
            "SMOTE\n",
            "LR\n",
            "\t- Requires scaling and not scaled. Doing it now...\n",
            "Fitting 2 folds for each of 32 candidates, totalling 64 fits\n"
          ],
          "name": "stdout"
        },
        {
          "output_type": "stream",
          "text": [
            "[Parallel(n_jobs=-1)]: Using backend LokyBackend with 2 concurrent workers.\n",
            "[Parallel(n_jobs=-1)]: Done  56 tasks      | elapsed:   22.2s\n",
            "[Parallel(n_jobs=-1)]: Done  64 out of  64 | elapsed:   27.2s finished\n",
            "/usr/local/lib/python3.7/dist-packages/sklearn/utils/deprecation.py:87: FutureWarning: Function safe_indexing is deprecated; safe_indexing is deprecated in version 0.22 and will be removed in version 0.24.\n",
            "  warnings.warn(msg, category=FutureWarning)\n"
          ],
          "name": "stderr"
        },
        {
          "output_type": "display_data",
          "data": {
            "text/plain": [
              "{'classifier__C': 1584.8931924611175, 'classifier__penalty': 'l2'}"
            ]
          },
          "metadata": {
            "tags": []
          }
        },
        {
          "output_type": "stream",
          "text": [
            "\t- Adding for voting with weight <1>...\n",
            "LDA\n",
            "\t- Requires scaling and not scaled. Doing it now...\n",
            "Fitting 2 folds for each of 3 candidates, totalling 6 fits\n"
          ],
          "name": "stdout"
        },
        {
          "output_type": "stream",
          "text": [
            "[Parallel(n_jobs=-1)]: Using backend LokyBackend with 2 concurrent workers.\n",
            "[Parallel(n_jobs=-1)]: Done   6 out of   6 | elapsed:    0.3s finished\n",
            "/usr/local/lib/python3.7/dist-packages/sklearn/utils/deprecation.py:87: FutureWarning: Function safe_indexing is deprecated; safe_indexing is deprecated in version 0.22 and will be removed in version 0.24.\n",
            "  warnings.warn(msg, category=FutureWarning)\n"
          ],
          "name": "stderr"
        },
        {
          "output_type": "display_data",
          "data": {
            "text/plain": [
              "{'classifier__solver': 'svd'}"
            ]
          },
          "metadata": {
            "tags": []
          }
        },
        {
          "output_type": "stream",
          "text": [
            "KNN-5\n",
            "\t- Requires scaling and not scaled. Doing it now...\n",
            "Fitting 2 folds for each of 4 candidates, totalling 8 fits\n"
          ],
          "name": "stdout"
        },
        {
          "output_type": "stream",
          "text": [
            "[Parallel(n_jobs=-1)]: Using backend LokyBackend with 2 concurrent workers.\n",
            "[Parallel(n_jobs=-1)]: Done   8 out of   8 | elapsed:    4.8s finished\n",
            "/usr/local/lib/python3.7/dist-packages/sklearn/utils/deprecation.py:87: FutureWarning: Function safe_indexing is deprecated; safe_indexing is deprecated in version 0.22 and will be removed in version 0.24.\n",
            "  warnings.warn(msg, category=FutureWarning)\n"
          ],
          "name": "stderr"
        },
        {
          "output_type": "display_data",
          "data": {
            "text/plain": [
              "{'classifier__metric': 'manhattan', 'classifier__weights': 'uniform'}"
            ]
          },
          "metadata": {
            "tags": []
          }
        },
        {
          "output_type": "stream",
          "text": [
            "KNN-10\n",
            "\t- Requires scaling and not scaled. Doing it now...\n",
            "Fitting 2 folds for each of 4 candidates, totalling 8 fits\n"
          ],
          "name": "stdout"
        },
        {
          "output_type": "stream",
          "text": [
            "[Parallel(n_jobs=-1)]: Using backend LokyBackend with 2 concurrent workers.\n",
            "[Parallel(n_jobs=-1)]: Done   8 out of   8 | elapsed:    5.1s finished\n",
            "/usr/local/lib/python3.7/dist-packages/sklearn/utils/deprecation.py:87: FutureWarning: Function safe_indexing is deprecated; safe_indexing is deprecated in version 0.22 and will be removed in version 0.24.\n",
            "  warnings.warn(msg, category=FutureWarning)\n"
          ],
          "name": "stderr"
        },
        {
          "output_type": "display_data",
          "data": {
            "text/plain": [
              "{'classifier__metric': 'manhattan', 'classifier__weights': 'uniform'}"
            ]
          },
          "metadata": {
            "tags": []
          }
        },
        {
          "output_type": "stream",
          "text": [
            "\t- Adding for voting with weight <0.5>...\n",
            "GNB\n",
            "\t- Requires scaling and not scaled. Doing it now...\n",
            "Fitting 2 folds for each of 100 candidates, totalling 200 fits\n"
          ],
          "name": "stdout"
        },
        {
          "output_type": "stream",
          "text": [
            "[Parallel(n_jobs=-1)]: Using backend LokyBackend with 2 concurrent workers.\n",
            "[Parallel(n_jobs=-1)]: Done 164 tasks      | elapsed:    3.5s\n",
            "[Parallel(n_jobs=-1)]: Done 200 out of 200 | elapsed:    4.3s finished\n",
            "/usr/local/lib/python3.7/dist-packages/sklearn/utils/deprecation.py:87: FutureWarning: Function safe_indexing is deprecated; safe_indexing is deprecated in version 0.22 and will be removed in version 0.24.\n",
            "  warnings.warn(msg, category=FutureWarning)\n"
          ],
          "name": "stderr"
        },
        {
          "output_type": "display_data",
          "data": {
            "text/plain": [
              "{'classifier__var_smoothing': 5.336699231206302e-09}"
            ]
          },
          "metadata": {
            "tags": []
          }
        },
        {
          "output_type": "stream",
          "text": [
            "[Parallel(n_jobs=-1)]: Using backend LokyBackend with 2 concurrent workers.\n"
          ],
          "name": "stderr"
        },
        {
          "output_type": "stream",
          "text": [
            "DT\n",
            "Fitting 2 folds for each of 36 candidates, totalling 72 fits\n"
          ],
          "name": "stdout"
        },
        {
          "output_type": "stream",
          "text": [
            "[Parallel(n_jobs=-1)]: Done  72 out of  72 | elapsed:   10.1s finished\n",
            "/usr/local/lib/python3.7/dist-packages/sklearn/utils/deprecation.py:87: FutureWarning: Function safe_indexing is deprecated; safe_indexing is deprecated in version 0.22 and will be removed in version 0.24.\n",
            "  warnings.warn(msg, category=FutureWarning)\n"
          ],
          "name": "stderr"
        },
        {
          "output_type": "display_data",
          "data": {
            "text/plain": [
              "{'classifier__criterion': 'entropy', 'classifier__max_depth': 4}"
            ]
          },
          "metadata": {
            "tags": []
          }
        },
        {
          "output_type": "stream",
          "text": [
            "\t- Adding for voting with weight <1>...\n",
            "SVC\n",
            "\t- Requires scaling and not scaled. Doing it now...\n",
            "Fitting 2 folds for each of 9 candidates, totalling 18 fits\n"
          ],
          "name": "stdout"
        },
        {
          "output_type": "stream",
          "text": [
            "[Parallel(n_jobs=-1)]: Using backend LokyBackend with 2 concurrent workers.\n",
            "[Parallel(n_jobs=-1)]: Done  18 out of  18 | elapsed:   45.5s finished\n",
            "/usr/local/lib/python3.7/dist-packages/sklearn/utils/deprecation.py:87: FutureWarning: Function safe_indexing is deprecated; safe_indexing is deprecated in version 0.22 and will be removed in version 0.24.\n",
            "  warnings.warn(msg, category=FutureWarning)\n"
          ],
          "name": "stderr"
        },
        {
          "output_type": "display_data",
          "data": {
            "text/plain": [
              "{'classifier__C': 1, 'classifier__gamma': 1, 'classifier__kernel': 'rbf'}"
            ]
          },
          "metadata": {
            "tags": []
          }
        },
        {
          "output_type": "stream",
          "text": [
            "\t- Adding for voting with weight <0.5>...\n",
            "RFC\n",
            "Fitting 2 folds for each of 24 candidates, totalling 48 fits\n"
          ],
          "name": "stdout"
        },
        {
          "output_type": "stream",
          "text": [
            "[Parallel(n_jobs=-1)]: Using backend LokyBackend with 2 concurrent workers.\n",
            "[Parallel(n_jobs=-1)]: Done  48 out of  48 | elapsed:  5.3min finished\n",
            "/usr/local/lib/python3.7/dist-packages/sklearn/utils/deprecation.py:87: FutureWarning: Function safe_indexing is deprecated; safe_indexing is deprecated in version 0.22 and will be removed in version 0.24.\n",
            "  warnings.warn(msg, category=FutureWarning)\n"
          ],
          "name": "stderr"
        },
        {
          "output_type": "display_data",
          "data": {
            "text/plain": [
              "{'classifier__bootstrap': False,\n",
              " 'classifier__max_depth': 100,\n",
              " 'classifier__max_features': 'auto',\n",
              " 'classifier__min_samples_leaf': 1,\n",
              " 'classifier__n_estimators': 128}"
            ]
          },
          "metadata": {
            "tags": []
          }
        },
        {
          "output_type": "stream",
          "text": [
            "\t- Adding for voting with weight <1>...\n",
            "XGB\n",
            "Fitting 2 folds for each of 24 candidates, totalling 48 fits\n"
          ],
          "name": "stdout"
        },
        {
          "output_type": "stream",
          "text": [
            "[Parallel(n_jobs=-1)]: Using backend LokyBackend with 2 concurrent workers.\n",
            "[Parallel(n_jobs=-1)]: Done  48 out of  48 | elapsed:   47.3s finished\n",
            "/usr/local/lib/python3.7/dist-packages/sklearn/utils/deprecation.py:87: FutureWarning: Function safe_indexing is deprecated; safe_indexing is deprecated in version 0.22 and will be removed in version 0.24.\n",
            "  warnings.warn(msg, category=FutureWarning)\n"
          ],
          "name": "stderr"
        },
        {
          "output_type": "display_data",
          "data": {
            "text/plain": [
              "{'classifier__colsample_bytree': 1.0,\n",
              " 'classifier__gamma': 2,\n",
              " 'classifier__max_depth': 6}"
            ]
          },
          "metadata": {
            "tags": []
          }
        },
        {
          "output_type": "stream",
          "text": [
            "\t- Adding for voting with weight <1>...\n",
            "\n",
            "\n",
            "Voting...\n"
          ],
          "name": "stdout"
        },
        {
          "output_type": "stream",
          "text": [
            "/usr/local/lib/python3.7/dist-packages/joblib/externals/loky/process_executor.py:691: UserWarning: A worker stopped while some jobs were given to the executor. This can be caused by a too short worker timeout or by a memory leak.\n",
            "  \"timeout or by a memory leak.\", UserWarning\n"
          ],
          "name": "stderr"
        },
        {
          "output_type": "stream",
          "text": [
            "Done\n"
          ],
          "name": "stdout"
        }
      ]
    },
    {
      "cell_type": "code",
      "metadata": {
        "colab": {
          "base_uri": "https://localhost:8080/",
          "height": 1000
        },
        "id": "eFXlnCVO_093",
        "outputId": "b38bd934-e0e3-4387-a422-6c2e8ddbe84e"
      },
      "source": [
        "accuracy_rus,f1_rus,precision_rus,recall_rus = try_all_classifiers(X_train_imp,X_test_imp,Y_train,Y_test, classifiers, sampling = \"RUS\", scaler=scaler)\n"
      ],
      "execution_count": 43,
      "outputs": [
        {
          "output_type": "stream",
          "text": [
            "RUS\n",
            "LR\n",
            "\t- Requires scaling and not scaled. Doing it now...\n",
            "Fitting 2 folds for each of 32 candidates, totalling 64 fits\n"
          ],
          "name": "stdout"
        },
        {
          "output_type": "stream",
          "text": [
            "[Parallel(n_jobs=-1)]: Using backend LokyBackend with 2 concurrent workers.\n",
            "[Parallel(n_jobs=-1)]: Done  64 out of  64 | elapsed:   11.4s finished\n",
            "/usr/local/lib/python3.7/dist-packages/sklearn/utils/deprecation.py:87: FutureWarning: Function safe_indexing is deprecated; safe_indexing is deprecated in version 0.22 and will be removed in version 0.24.\n",
            "  warnings.warn(msg, category=FutureWarning)\n",
            "/usr/local/lib/python3.7/dist-packages/sklearn/linear_model/_logistic.py:1505: UserWarning: Setting penalty='none' will ignore the C and l1_ratio parameters\n",
            "  \"Setting penalty='none' will ignore the C and l1_ratio \"\n"
          ],
          "name": "stderr"
        },
        {
          "output_type": "display_data",
          "data": {
            "text/plain": [
              "{'classifier__C': 1e-08, 'classifier__penalty': 'none'}"
            ]
          },
          "metadata": {
            "tags": []
          }
        },
        {
          "output_type": "stream",
          "text": [
            "\t- Adding for voting with weight <1>...\n",
            "LDA\n",
            "\t- Requires scaling and not scaled. Doing it now...\n",
            "Fitting 2 folds for each of 3 candidates, totalling 6 fits\n"
          ],
          "name": "stdout"
        },
        {
          "output_type": "stream",
          "text": [
            "[Parallel(n_jobs=-1)]: Using backend LokyBackend with 2 concurrent workers.\n",
            "[Parallel(n_jobs=-1)]: Done   6 out of   6 | elapsed:    0.1s finished\n",
            "/usr/local/lib/python3.7/dist-packages/sklearn/utils/deprecation.py:87: FutureWarning: Function safe_indexing is deprecated; safe_indexing is deprecated in version 0.22 and will be removed in version 0.24.\n",
            "  warnings.warn(msg, category=FutureWarning)\n"
          ],
          "name": "stderr"
        },
        {
          "output_type": "display_data",
          "data": {
            "text/plain": [
              "{'classifier__solver': 'svd'}"
            ]
          },
          "metadata": {
            "tags": []
          }
        },
        {
          "output_type": "stream",
          "text": [
            "KNN-5\n",
            "\t- Requires scaling and not scaled. Doing it now...\n",
            "Fitting 2 folds for each of 4 candidates, totalling 8 fits\n"
          ],
          "name": "stdout"
        },
        {
          "output_type": "stream",
          "text": [
            "[Parallel(n_jobs=-1)]: Using backend LokyBackend with 2 concurrent workers.\n",
            "[Parallel(n_jobs=-1)]: Done   8 out of   8 | elapsed:    1.2s finished\n",
            "/usr/local/lib/python3.7/dist-packages/sklearn/utils/deprecation.py:87: FutureWarning: Function safe_indexing is deprecated; safe_indexing is deprecated in version 0.22 and will be removed in version 0.24.\n",
            "  warnings.warn(msg, category=FutureWarning)\n"
          ],
          "name": "stderr"
        },
        {
          "output_type": "display_data",
          "data": {
            "text/plain": [
              "{'classifier__metric': 'manhattan', 'classifier__weights': 'uniform'}"
            ]
          },
          "metadata": {
            "tags": []
          }
        },
        {
          "output_type": "stream",
          "text": [
            "KNN-10\n",
            "\t- Requires scaling and not scaled. Doing it now...\n",
            "Fitting 2 folds for each of 4 candidates, totalling 8 fits\n"
          ],
          "name": "stdout"
        },
        {
          "output_type": "stream",
          "text": [
            "[Parallel(n_jobs=-1)]: Using backend LokyBackend with 2 concurrent workers.\n",
            "[Parallel(n_jobs=-1)]: Done   8 out of   8 | elapsed:    1.3s finished\n",
            "/usr/local/lib/python3.7/dist-packages/sklearn/utils/deprecation.py:87: FutureWarning: Function safe_indexing is deprecated; safe_indexing is deprecated in version 0.22 and will be removed in version 0.24.\n",
            "  warnings.warn(msg, category=FutureWarning)\n"
          ],
          "name": "stderr"
        },
        {
          "output_type": "display_data",
          "data": {
            "text/plain": [
              "{'classifier__metric': 'manhattan', 'classifier__weights': 'distance'}"
            ]
          },
          "metadata": {
            "tags": []
          }
        },
        {
          "output_type": "stream",
          "text": [
            "\t- Adding for voting with weight <0.5>...\n",
            "GNB\n",
            "\t- Requires scaling and not scaled. Doing it now...\n",
            "Fitting 2 folds for each of 100 candidates, totalling 200 fits\n"
          ],
          "name": "stdout"
        },
        {
          "output_type": "stream",
          "text": [
            "[Parallel(n_jobs=-1)]: Using backend LokyBackend with 2 concurrent workers.\n",
            "[Parallel(n_jobs=-1)]: Done 200 out of 200 | elapsed:    1.4s finished\n",
            "/usr/local/lib/python3.7/dist-packages/sklearn/utils/deprecation.py:87: FutureWarning: Function safe_indexing is deprecated; safe_indexing is deprecated in version 0.22 and will be removed in version 0.24.\n",
            "  warnings.warn(msg, category=FutureWarning)\n"
          ],
          "name": "stderr"
        },
        {
          "output_type": "display_data",
          "data": {
            "text/plain": [
              "{'classifier__var_smoothing': 1.232846739442066e-07}"
            ]
          },
          "metadata": {
            "tags": []
          }
        },
        {
          "output_type": "stream",
          "text": [
            "[Parallel(n_jobs=-1)]: Using backend LokyBackend with 2 concurrent workers.\n"
          ],
          "name": "stderr"
        },
        {
          "output_type": "stream",
          "text": [
            "DT\n",
            "Fitting 2 folds for each of 36 candidates, totalling 72 fits\n"
          ],
          "name": "stdout"
        },
        {
          "output_type": "stream",
          "text": [
            "[Parallel(n_jobs=-1)]: Done  72 out of  72 | elapsed:    1.0s finished\n",
            "/usr/local/lib/python3.7/dist-packages/sklearn/utils/deprecation.py:87: FutureWarning: Function safe_indexing is deprecated; safe_indexing is deprecated in version 0.22 and will be removed in version 0.24.\n",
            "  warnings.warn(msg, category=FutureWarning)\n"
          ],
          "name": "stderr"
        },
        {
          "output_type": "display_data",
          "data": {
            "text/plain": [
              "{'classifier__criterion': 'entropy', 'classifier__max_depth': 5}"
            ]
          },
          "metadata": {
            "tags": []
          }
        },
        {
          "output_type": "stream",
          "text": [
            "[Parallel(n_jobs=-1)]: Using backend LokyBackend with 2 concurrent workers.\n"
          ],
          "name": "stderr"
        },
        {
          "output_type": "stream",
          "text": [
            "\t- Adding for voting with weight <1>...\n",
            "SVC\n",
            "\t- Requires scaling and not scaled. Doing it now...\n",
            "Fitting 2 folds for each of 9 candidates, totalling 18 fits\n"
          ],
          "name": "stdout"
        },
        {
          "output_type": "stream",
          "text": [
            "[Parallel(n_jobs=-1)]: Done  18 out of  18 | elapsed:    1.1s finished\n",
            "/usr/local/lib/python3.7/dist-packages/sklearn/utils/deprecation.py:87: FutureWarning: Function safe_indexing is deprecated; safe_indexing is deprecated in version 0.22 and will be removed in version 0.24.\n",
            "  warnings.warn(msg, category=FutureWarning)\n"
          ],
          "name": "stderr"
        },
        {
          "output_type": "display_data",
          "data": {
            "text/plain": [
              "{'classifier__C': 1, 'classifier__gamma': 1, 'classifier__kernel': 'rbf'}"
            ]
          },
          "metadata": {
            "tags": []
          }
        },
        {
          "output_type": "stream",
          "text": [
            "\t- Adding for voting with weight <0.5>...\n",
            "RFC\n",
            "Fitting 2 folds for each of 24 candidates, totalling 48 fits\n"
          ],
          "name": "stdout"
        },
        {
          "output_type": "stream",
          "text": [
            "[Parallel(n_jobs=-1)]: Using backend LokyBackend with 2 concurrent workers.\n",
            "[Parallel(n_jobs=-1)]: Done  48 out of  48 | elapsed:   35.7s finished\n",
            "/usr/local/lib/python3.7/dist-packages/sklearn/utils/deprecation.py:87: FutureWarning: Function safe_indexing is deprecated; safe_indexing is deprecated in version 0.22 and will be removed in version 0.24.\n",
            "  warnings.warn(msg, category=FutureWarning)\n"
          ],
          "name": "stderr"
        },
        {
          "output_type": "display_data",
          "data": {
            "text/plain": [
              "{'classifier__bootstrap': False,\n",
              " 'classifier__max_depth': 100,\n",
              " 'classifier__max_features': 'auto',\n",
              " 'classifier__min_samples_leaf': 4,\n",
              " 'classifier__n_estimators': 256}"
            ]
          },
          "metadata": {
            "tags": []
          }
        },
        {
          "output_type": "stream",
          "text": [
            "\t- Adding for voting with weight <1>...\n",
            "XGB\n",
            "Fitting 2 folds for each of 24 candidates, totalling 48 fits\n"
          ],
          "name": "stdout"
        },
        {
          "output_type": "stream",
          "text": [
            "[Parallel(n_jobs=-1)]: Using backend LokyBackend with 2 concurrent workers.\n",
            "[Parallel(n_jobs=-1)]: Done  48 out of  48 | elapsed:    4.8s finished\n",
            "/usr/local/lib/python3.7/dist-packages/sklearn/utils/deprecation.py:87: FutureWarning: Function safe_indexing is deprecated; safe_indexing is deprecated in version 0.22 and will be removed in version 0.24.\n",
            "  warnings.warn(msg, category=FutureWarning)\n"
          ],
          "name": "stderr"
        },
        {
          "output_type": "display_data",
          "data": {
            "text/plain": [
              "{'classifier__colsample_bytree': 0.8,\n",
              " 'classifier__gamma': 5,\n",
              " 'classifier__max_depth': 6}"
            ]
          },
          "metadata": {
            "tags": []
          }
        },
        {
          "output_type": "stream",
          "text": [
            "\t- Adding for voting with weight <1>...\n",
            "\n",
            "\n",
            "Voting...\n",
            "Done\n"
          ],
          "name": "stdout"
        }
      ]
    },
    {
      "cell_type": "code",
      "metadata": {
        "colab": {
          "base_uri": "https://localhost:8080/",
          "height": 1000
        },
        "id": "0gfJfFGm_5y8",
        "outputId": "56fa721b-3361-4a97-b6c5-8ea8d8a9ddb5"
      },
      "source": [
        "accuracy_smoteenn,f1_smoteenn,precision_smoteenn,recall_smoteenn = try_all_classifiers(X_train_imp,X_test_imp,Y_train,Y_test, classifiers, sampling = \"SMOTEENN\",scaler=scaler)\n"
      ],
      "execution_count": 44,
      "outputs": [
        {
          "output_type": "stream",
          "text": [
            "SMOTEENN\n",
            "LR\n",
            "\t- Requires scaling and not scaled. Doing it now...\n",
            "Fitting 2 folds for each of 32 candidates, totalling 64 fits\n"
          ],
          "name": "stdout"
        },
        {
          "output_type": "stream",
          "text": [
            "[Parallel(n_jobs=-1)]: Using backend LokyBackend with 2 concurrent workers.\n",
            "[Parallel(n_jobs=-1)]: Done  46 tasks      | elapsed:   42.1s\n",
            "[Parallel(n_jobs=-1)]: Done  64 out of  64 | elapsed:  1.1min finished\n",
            "/usr/local/lib/python3.7/dist-packages/sklearn/utils/deprecation.py:87: FutureWarning: Function safe_indexing is deprecated; safe_indexing is deprecated in version 0.22 and will be removed in version 0.24.\n",
            "  warnings.warn(msg, category=FutureWarning)\n",
            "/usr/local/lib/python3.7/dist-packages/sklearn/utils/deprecation.py:87: FutureWarning: Function safe_indexing is deprecated; safe_indexing is deprecated in version 0.22 and will be removed in version 0.24.\n",
            "  warnings.warn(msg, category=FutureWarning)\n",
            "/usr/local/lib/python3.7/dist-packages/sklearn/utils/deprecation.py:87: FutureWarning: Function safe_indexing is deprecated; safe_indexing is deprecated in version 0.22 and will be removed in version 0.24.\n",
            "  warnings.warn(msg, category=FutureWarning)\n",
            "/usr/local/lib/python3.7/dist-packages/sklearn/utils/deprecation.py:87: FutureWarning: Function safe_indexing is deprecated; safe_indexing is deprecated in version 0.22 and will be removed in version 0.24.\n",
            "  warnings.warn(msg, category=FutureWarning)\n"
          ],
          "name": "stderr"
        },
        {
          "output_type": "display_data",
          "data": {
            "text/plain": [
              "{'classifier__C': 251.18864315095823, 'classifier__penalty': 'l2'}"
            ]
          },
          "metadata": {
            "tags": []
          }
        },
        {
          "output_type": "stream",
          "text": [
            "\t- Adding for voting with weight <1>...\n",
            "LDA\n",
            "\t- Requires scaling and not scaled. Doing it now...\n",
            "Fitting 2 folds for each of 3 candidates, totalling 6 fits\n"
          ],
          "name": "stdout"
        },
        {
          "output_type": "stream",
          "text": [
            "[Parallel(n_jobs=-1)]: Using backend LokyBackend with 2 concurrent workers.\n",
            "[Parallel(n_jobs=-1)]: Done   6 out of   6 | elapsed:    3.3s finished\n",
            "/usr/local/lib/python3.7/dist-packages/sklearn/utils/deprecation.py:87: FutureWarning: Function safe_indexing is deprecated; safe_indexing is deprecated in version 0.22 and will be removed in version 0.24.\n",
            "  warnings.warn(msg, category=FutureWarning)\n",
            "/usr/local/lib/python3.7/dist-packages/sklearn/utils/deprecation.py:87: FutureWarning: Function safe_indexing is deprecated; safe_indexing is deprecated in version 0.22 and will be removed in version 0.24.\n",
            "  warnings.warn(msg, category=FutureWarning)\n",
            "/usr/local/lib/python3.7/dist-packages/sklearn/utils/deprecation.py:87: FutureWarning: Function safe_indexing is deprecated; safe_indexing is deprecated in version 0.22 and will be removed in version 0.24.\n",
            "  warnings.warn(msg, category=FutureWarning)\n",
            "/usr/local/lib/python3.7/dist-packages/sklearn/utils/deprecation.py:87: FutureWarning: Function safe_indexing is deprecated; safe_indexing is deprecated in version 0.22 and will be removed in version 0.24.\n",
            "  warnings.warn(msg, category=FutureWarning)\n"
          ],
          "name": "stderr"
        },
        {
          "output_type": "display_data",
          "data": {
            "text/plain": [
              "{'classifier__solver': 'svd'}"
            ]
          },
          "metadata": {
            "tags": []
          }
        },
        {
          "output_type": "stream",
          "text": [
            "[Parallel(n_jobs=-1)]: Using backend LokyBackend with 2 concurrent workers.\n"
          ],
          "name": "stderr"
        },
        {
          "output_type": "stream",
          "text": [
            "KNN-5\n",
            "\t- Requires scaling and not scaled. Doing it now...\n",
            "Fitting 2 folds for each of 4 candidates, totalling 8 fits\n"
          ],
          "name": "stdout"
        },
        {
          "output_type": "stream",
          "text": [
            "[Parallel(n_jobs=-1)]: Done   8 out of   8 | elapsed:    8.1s finished\n",
            "/usr/local/lib/python3.7/dist-packages/sklearn/utils/deprecation.py:87: FutureWarning: Function safe_indexing is deprecated; safe_indexing is deprecated in version 0.22 and will be removed in version 0.24.\n",
            "  warnings.warn(msg, category=FutureWarning)\n",
            "/usr/local/lib/python3.7/dist-packages/sklearn/utils/deprecation.py:87: FutureWarning: Function safe_indexing is deprecated; safe_indexing is deprecated in version 0.22 and will be removed in version 0.24.\n",
            "  warnings.warn(msg, category=FutureWarning)\n",
            "/usr/local/lib/python3.7/dist-packages/sklearn/utils/deprecation.py:87: FutureWarning: Function safe_indexing is deprecated; safe_indexing is deprecated in version 0.22 and will be removed in version 0.24.\n",
            "  warnings.warn(msg, category=FutureWarning)\n",
            "/usr/local/lib/python3.7/dist-packages/sklearn/utils/deprecation.py:87: FutureWarning: Function safe_indexing is deprecated; safe_indexing is deprecated in version 0.22 and will be removed in version 0.24.\n",
            "  warnings.warn(msg, category=FutureWarning)\n"
          ],
          "name": "stderr"
        },
        {
          "output_type": "display_data",
          "data": {
            "text/plain": [
              "{'classifier__metric': 'manhattan', 'classifier__weights': 'uniform'}"
            ]
          },
          "metadata": {
            "tags": []
          }
        },
        {
          "output_type": "stream",
          "text": [
            "KNN-10\n",
            "\t- Requires scaling and not scaled. Doing it now...\n",
            "Fitting 2 folds for each of 4 candidates, totalling 8 fits\n"
          ],
          "name": "stdout"
        },
        {
          "output_type": "stream",
          "text": [
            "[Parallel(n_jobs=-1)]: Using backend LokyBackend with 2 concurrent workers.\n",
            "[Parallel(n_jobs=-1)]: Done   8 out of   8 | elapsed:    8.4s finished\n",
            "/usr/local/lib/python3.7/dist-packages/sklearn/utils/deprecation.py:87: FutureWarning: Function safe_indexing is deprecated; safe_indexing is deprecated in version 0.22 and will be removed in version 0.24.\n",
            "  warnings.warn(msg, category=FutureWarning)\n",
            "/usr/local/lib/python3.7/dist-packages/sklearn/utils/deprecation.py:87: FutureWarning: Function safe_indexing is deprecated; safe_indexing is deprecated in version 0.22 and will be removed in version 0.24.\n",
            "  warnings.warn(msg, category=FutureWarning)\n",
            "/usr/local/lib/python3.7/dist-packages/sklearn/utils/deprecation.py:87: FutureWarning: Function safe_indexing is deprecated; safe_indexing is deprecated in version 0.22 and will be removed in version 0.24.\n",
            "  warnings.warn(msg, category=FutureWarning)\n",
            "/usr/local/lib/python3.7/dist-packages/sklearn/utils/deprecation.py:87: FutureWarning: Function safe_indexing is deprecated; safe_indexing is deprecated in version 0.22 and will be removed in version 0.24.\n",
            "  warnings.warn(msg, category=FutureWarning)\n"
          ],
          "name": "stderr"
        },
        {
          "output_type": "display_data",
          "data": {
            "text/plain": [
              "{'classifier__metric': 'manhattan', 'classifier__weights': 'uniform'}"
            ]
          },
          "metadata": {
            "tags": []
          }
        },
        {
          "output_type": "stream",
          "text": [
            "\t- Adding for voting with weight <0.5>...\n",
            "GNB\n",
            "\t- Requires scaling and not scaled. Doing it now...\n",
            "Fitting 2 folds for each of 100 candidates, totalling 200 fits\n"
          ],
          "name": "stdout"
        },
        {
          "output_type": "stream",
          "text": [
            "[Parallel(n_jobs=-1)]: Using backend LokyBackend with 2 concurrent workers.\n",
            "[Parallel(n_jobs=-1)]: Done  46 tasks      | elapsed:   24.6s\n",
            "[Parallel(n_jobs=-1)]: Done 196 tasks      | elapsed:  1.7min\n",
            "[Parallel(n_jobs=-1)]: Done 200 out of 200 | elapsed:  1.8min finished\n",
            "/usr/local/lib/python3.7/dist-packages/sklearn/utils/deprecation.py:87: FutureWarning: Function safe_indexing is deprecated; safe_indexing is deprecated in version 0.22 and will be removed in version 0.24.\n",
            "  warnings.warn(msg, category=FutureWarning)\n",
            "/usr/local/lib/python3.7/dist-packages/sklearn/utils/deprecation.py:87: FutureWarning: Function safe_indexing is deprecated; safe_indexing is deprecated in version 0.22 and will be removed in version 0.24.\n",
            "  warnings.warn(msg, category=FutureWarning)\n",
            "/usr/local/lib/python3.7/dist-packages/sklearn/utils/deprecation.py:87: FutureWarning: Function safe_indexing is deprecated; safe_indexing is deprecated in version 0.22 and will be removed in version 0.24.\n",
            "  warnings.warn(msg, category=FutureWarning)\n",
            "/usr/local/lib/python3.7/dist-packages/sklearn/utils/deprecation.py:87: FutureWarning: Function safe_indexing is deprecated; safe_indexing is deprecated in version 0.22 and will be removed in version 0.24.\n",
            "  warnings.warn(msg, category=FutureWarning)\n"
          ],
          "name": "stderr"
        },
        {
          "output_type": "display_data",
          "data": {
            "text/plain": [
              "{'classifier__var_smoothing': 1.2328467394420635e-09}"
            ]
          },
          "metadata": {
            "tags": []
          }
        },
        {
          "output_type": "stream",
          "text": [
            "[Parallel(n_jobs=-1)]: Using backend LokyBackend with 2 concurrent workers.\n"
          ],
          "name": "stderr"
        },
        {
          "output_type": "stream",
          "text": [
            "DT\n",
            "Fitting 2 folds for each of 36 candidates, totalling 72 fits\n"
          ],
          "name": "stdout"
        },
        {
          "output_type": "stream",
          "text": [
            "[Parallel(n_jobs=-1)]: Done  46 tasks      | elapsed:   12.1s\n",
            "[Parallel(n_jobs=-1)]: Done  72 out of  72 | elapsed:   19.9s finished\n",
            "/usr/local/lib/python3.7/dist-packages/sklearn/utils/deprecation.py:87: FutureWarning: Function safe_indexing is deprecated; safe_indexing is deprecated in version 0.22 and will be removed in version 0.24.\n",
            "  warnings.warn(msg, category=FutureWarning)\n",
            "/usr/local/lib/python3.7/dist-packages/sklearn/utils/deprecation.py:87: FutureWarning: Function safe_indexing is deprecated; safe_indexing is deprecated in version 0.22 and will be removed in version 0.24.\n",
            "  warnings.warn(msg, category=FutureWarning)\n",
            "/usr/local/lib/python3.7/dist-packages/sklearn/utils/deprecation.py:87: FutureWarning: Function safe_indexing is deprecated; safe_indexing is deprecated in version 0.22 and will be removed in version 0.24.\n",
            "  warnings.warn(msg, category=FutureWarning)\n",
            "/usr/local/lib/python3.7/dist-packages/sklearn/utils/deprecation.py:87: FutureWarning: Function safe_indexing is deprecated; safe_indexing is deprecated in version 0.22 and will be removed in version 0.24.\n",
            "  warnings.warn(msg, category=FutureWarning)\n"
          ],
          "name": "stderr"
        },
        {
          "output_type": "display_data",
          "data": {
            "text/plain": [
              "{'classifier__criterion': 'gini', 'classifier__max_depth': 6}"
            ]
          },
          "metadata": {
            "tags": []
          }
        },
        {
          "output_type": "stream",
          "text": [
            "\t- Adding for voting with weight <1>...\n",
            "SVC\n",
            "\t- Requires scaling and not scaled. Doing it now...\n",
            "Fitting 2 folds for each of 9 candidates, totalling 18 fits\n"
          ],
          "name": "stdout"
        },
        {
          "output_type": "stream",
          "text": [
            "[Parallel(n_jobs=-1)]: Using backend LokyBackend with 2 concurrent workers.\n",
            "[Parallel(n_jobs=-1)]: Done  18 out of  18 | elapsed:   33.6s finished\n",
            "/usr/local/lib/python3.7/dist-packages/sklearn/utils/deprecation.py:87: FutureWarning: Function safe_indexing is deprecated; safe_indexing is deprecated in version 0.22 and will be removed in version 0.24.\n",
            "  warnings.warn(msg, category=FutureWarning)\n",
            "/usr/local/lib/python3.7/dist-packages/sklearn/utils/deprecation.py:87: FutureWarning: Function safe_indexing is deprecated; safe_indexing is deprecated in version 0.22 and will be removed in version 0.24.\n",
            "  warnings.warn(msg, category=FutureWarning)\n",
            "/usr/local/lib/python3.7/dist-packages/sklearn/utils/deprecation.py:87: FutureWarning: Function safe_indexing is deprecated; safe_indexing is deprecated in version 0.22 and will be removed in version 0.24.\n",
            "  warnings.warn(msg, category=FutureWarning)\n",
            "/usr/local/lib/python3.7/dist-packages/sklearn/utils/deprecation.py:87: FutureWarning: Function safe_indexing is deprecated; safe_indexing is deprecated in version 0.22 and will be removed in version 0.24.\n",
            "  warnings.warn(msg, category=FutureWarning)\n"
          ],
          "name": "stderr"
        },
        {
          "output_type": "display_data",
          "data": {
            "text/plain": [
              "{'classifier__C': 1, 'classifier__gamma': 1, 'classifier__kernel': 'rbf'}"
            ]
          },
          "metadata": {
            "tags": []
          }
        },
        {
          "output_type": "stream",
          "text": [
            "\t- Adding for voting with weight <0.5>...\n",
            "RFC\n",
            "Fitting 2 folds for each of 24 candidates, totalling 48 fits\n"
          ],
          "name": "stdout"
        },
        {
          "output_type": "stream",
          "text": [
            "[Parallel(n_jobs=-1)]: Using backend LokyBackend with 2 concurrent workers.\n",
            "[Parallel(n_jobs=-1)]: Done  48 out of  48 | elapsed:  3.8min finished\n",
            "/usr/local/lib/python3.7/dist-packages/sklearn/utils/deprecation.py:87: FutureWarning: Function safe_indexing is deprecated; safe_indexing is deprecated in version 0.22 and will be removed in version 0.24.\n",
            "  warnings.warn(msg, category=FutureWarning)\n",
            "/usr/local/lib/python3.7/dist-packages/sklearn/utils/deprecation.py:87: FutureWarning: Function safe_indexing is deprecated; safe_indexing is deprecated in version 0.22 and will be removed in version 0.24.\n",
            "  warnings.warn(msg, category=FutureWarning)\n",
            "/usr/local/lib/python3.7/dist-packages/sklearn/utils/deprecation.py:87: FutureWarning: Function safe_indexing is deprecated; safe_indexing is deprecated in version 0.22 and will be removed in version 0.24.\n",
            "  warnings.warn(msg, category=FutureWarning)\n",
            "/usr/local/lib/python3.7/dist-packages/sklearn/utils/deprecation.py:87: FutureWarning: Function safe_indexing is deprecated; safe_indexing is deprecated in version 0.22 and will be removed in version 0.24.\n",
            "  warnings.warn(msg, category=FutureWarning)\n"
          ],
          "name": "stderr"
        },
        {
          "output_type": "display_data",
          "data": {
            "text/plain": [
              "{'classifier__bootstrap': False,\n",
              " 'classifier__max_depth': 100,\n",
              " 'classifier__max_features': 'auto',\n",
              " 'classifier__min_samples_leaf': 1,\n",
              " 'classifier__n_estimators': 512}"
            ]
          },
          "metadata": {
            "tags": []
          }
        },
        {
          "output_type": "stream",
          "text": [
            "\t- Adding for voting with weight <1>...\n",
            "XGB\n",
            "Fitting 2 folds for each of 24 candidates, totalling 48 fits\n"
          ],
          "name": "stdout"
        },
        {
          "output_type": "stream",
          "text": [
            "[Parallel(n_jobs=-1)]: Using backend LokyBackend with 2 concurrent workers.\n",
            "[Parallel(n_jobs=-1)]: Done  48 out of  48 | elapsed:   41.7s finished\n",
            "/usr/local/lib/python3.7/dist-packages/sklearn/utils/deprecation.py:87: FutureWarning: Function safe_indexing is deprecated; safe_indexing is deprecated in version 0.22 and will be removed in version 0.24.\n",
            "  warnings.warn(msg, category=FutureWarning)\n",
            "/usr/local/lib/python3.7/dist-packages/sklearn/utils/deprecation.py:87: FutureWarning: Function safe_indexing is deprecated; safe_indexing is deprecated in version 0.22 and will be removed in version 0.24.\n",
            "  warnings.warn(msg, category=FutureWarning)\n",
            "/usr/local/lib/python3.7/dist-packages/sklearn/utils/deprecation.py:87: FutureWarning: Function safe_indexing is deprecated; safe_indexing is deprecated in version 0.22 and will be removed in version 0.24.\n",
            "  warnings.warn(msg, category=FutureWarning)\n",
            "/usr/local/lib/python3.7/dist-packages/sklearn/utils/deprecation.py:87: FutureWarning: Function safe_indexing is deprecated; safe_indexing is deprecated in version 0.22 and will be removed in version 0.24.\n",
            "  warnings.warn(msg, category=FutureWarning)\n"
          ],
          "name": "stderr"
        },
        {
          "output_type": "display_data",
          "data": {
            "text/plain": [
              "{'classifier__colsample_bytree': 0.6,\n",
              " 'classifier__gamma': 0.5,\n",
              " 'classifier__max_depth': 6}"
            ]
          },
          "metadata": {
            "tags": []
          }
        },
        {
          "output_type": "stream",
          "text": [
            "\t- Adding for voting with weight <1>...\n",
            "\n",
            "\n",
            "Voting...\n"
          ],
          "name": "stdout"
        },
        {
          "output_type": "stream",
          "text": [
            "/usr/local/lib/python3.7/dist-packages/joblib/externals/loky/process_executor.py:691: UserWarning: A worker stopped while some jobs were given to the executor. This can be caused by a too short worker timeout or by a memory leak.\n",
            "  \"timeout or by a memory leak.\", UserWarning\n"
          ],
          "name": "stderr"
        },
        {
          "output_type": "stream",
          "text": [
            "Done\n"
          ],
          "name": "stdout"
        }
      ]
    },
    {
      "cell_type": "code",
      "metadata": {
        "colab": {
          "base_uri": "https://localhost:8080/"
        },
        "id": "B9Zjk_Lr_9Xv",
        "outputId": "c34e28da-8d40-4c26-95df-8dc41cb0e805"
      },
      "source": [
        "print(\"Imputer & Sampling & Metric & \",end = \"\")\n",
        "print(*classifiers_names,sep = \" & \", end = \" \\\\\\\\\\n\")\n",
        "print(\"\\\\hline \\\\hline\")\n",
        "print(\"Simple & No & Acc & \",end=\"\")\n",
        "print(*['%.2f' % elem for elem in accuracy],sep=\" & \", end = \" \\\\\\\\\\n\")\n",
        "print(\"~ & ~ & Prec & \",end=\"\")\n",
        "print(*['%.2f' % elem for elem in precision],sep=\" & \", end = \" \\\\\\\\\\n\")\n",
        "print(\"~ & ~ & Rec & \",end=\"\")\n",
        "print(*['%.2f' % elem for elem in recall],sep=\" & \", end = \" \\\\\\\\\\n\")\n",
        "print(\"~ & ~ & F1 & \",end=\"\")\n",
        "print(*['%.2f' % elem for elem in f1],sep=\" & \", end = \" \\\\\\\\\\n\")\n",
        "print(\"\\cline{2-13}\")\n",
        "\n",
        "print(\"~ & SMOTE & Acc & \",end=\"\")\n",
        "print(*['%.2f' % elem for elem in accuracy_sm],sep=\" & \", end = \" \\\\\\\\\\n\")\n",
        "print(\"~ & ~ & Prec & \",end=\"\")\n",
        "print(*['%.2f' % elem for elem in precision_sm],sep=\" & \", end = \" \\\\\\\\\\n\")\n",
        "print(\"~ & ~ & Rec & \",end=\"\")\n",
        "print(*['%.2f' % elem for elem in recall_sm],sep=\" & \", end = \" \\\\\\\\\\n\")\n",
        "print(\"~ & ~ & F1 & \",end=\"\")\n",
        "print(*['%.2f' % elem for elem in f1_sm],sep=\" & \", end = \" \\\\\\\\\\n\")\n",
        "print(\"\\cline{2-13}\")\n",
        "\n",
        "print(\"~ & RUS & Acc & \",end=\"\")\n",
        "print(*['%.2f' % elem for elem in accuracy_rus],sep=\" & \", end = \" \\\\\\\\\\n\")\n",
        "print(\"~ & ~ & Prec & \",end=\"\")\n",
        "print(*['%.2f' % elem for elem in precision_rus],sep=\" & \", end = \" \\\\\\\\\\n\")\n",
        "print(\"~ & ~ & Rec & \",end=\"\")\n",
        "print(*['%.2f' % elem for elem in recall_rus],sep=\" & \", end = \" \\\\\\\\\\n\")\n",
        "print(\"~ & ~ & F1 & \",end=\"\")\n",
        "print(*['%.2f' % elem for elem in f1_rus],sep=\" & \", end = \" \\\\\\\\\\n\")\n",
        "print(\"\\cline{2-13}\")\n",
        "\n",
        "\n",
        "print(\"~ & SMOTE- & Acc & \",end=\"\")\n",
        "print(*['%.2f' % elem for elem in accuracy_smoteenn],sep=\" & \", end = \" \\\\\\\\\\n\")\n",
        "print(\"~ & ENN & Prec & \",end=\"\")\n",
        "print(*['%.2f' % elem for elem in precision_smoteenn],sep=\" & \", end = \" \\\\\\\\\\n\")\n",
        "print(\"~ & ~ & Rec & \",end=\"\")\n",
        "print(*['%.2f' % elem for elem in recall_smoteenn],sep=\" & \", end = \" \\\\\\\\\\n\")\n",
        "print(\"~ & ~ & F1 & \",end=\"\")\n",
        "print(*['%.2f' % elem for elem in f1_smoteenn],sep=\" & \", end = \" \\\\\\\\\\n\")\n",
        "print(\"\\\\hline\\\\hline\")\n",
        "\n",
        "\n"
      ],
      "execution_count": 45,
      "outputs": [
        {
          "output_type": "stream",
          "text": [
            "Imputer & Sampling & Metric & LR & LDA & KNN-5 & KNN-10 & GNB & DT & SVC & RFC & XGB & Voting \\\\\n",
            "\\hline \\hline\n",
            "Simple & No & Acc & 0.95 & 0.95 & 0.95 & 0.95 & 0.10 & 0.95 & 0.95 & 0.96 & 0.96 & 0.96 \\\\\n",
            "~ & ~ & Prec & 0.00 & 0.00 & 0.27 & 0.22 & 0.05 & 0.38 & 0.00 & 0.65 & 0.88 & 0.94 \\\\\n",
            "~ & ~ & Rec & 0.00 & 0.00 & 0.05 & 0.02 & 0.95 & 0.26 & 0.00 & 0.16 & 0.23 & 0.12 \\\\\n",
            "~ & ~ & F1 & 0.00 & 0.00 & 0.08 & 0.03 & 0.09 & 0.31 & 0.00 & 0.26 & 0.36 & 0.22 \\\\\n",
            "\\cline{2-13}\n",
            "~ & SMOTE & Acc & 0.95 & 0.95 & 0.83 & 0.83 & 0.13 & 0.90 & 0.90 & 0.95 & 0.94 & 0.95 \\\\\n",
            "~ & ~ & Prec & 0.08 & 0.00 & 0.11 & 0.11 & 0.05 & 0.23 & 0.21 & 0.47 & 0.36 & 0.48 \\\\\n",
            "~ & ~ & Rec & 0.02 & 0.00 & 0.35 & 0.38 & 0.94 & 0.45 & 0.40 & 0.34 & 0.49 & 0.34 \\\\\n",
            "~ & ~ & F1 & 0.03 & 0.00 & 0.16 & 0.17 & 0.09 & 0.31 & 0.27 & 0.39 & 0.42 & 0.40 \\\\\n",
            "\\cline{2-13}\n",
            "~ & RUS & Acc & 0.88 & 0.89 & 0.78 & 0.82 & 0.12 & 0.88 & 0.92 & 0.86 & 0.87 & 0.91 \\\\\n",
            "~ & ~ & Prec & 0.15 & 0.15 & 0.09 & 0.10 & 0.05 & 0.22 & 0.04 & 0.20 & 0.22 & 0.29 \\\\\n",
            "~ & ~ & Rec & 0.33 & 0.28 & 0.40 & 0.37 & 0.94 & 0.59 & 0.03 & 0.66 & 0.65 & 0.56 \\\\\n",
            "~ & ~ & F1 & 0.20 & 0.19 & 0.15 & 0.16 & 0.09 & 0.32 & 0.04 & 0.30 & 0.32 & 0.38 \\\\\n",
            "\\cline{2-13}\n",
            "~ & SMOTE- & Acc & 0.88 & 0.95 & 0.78 & 0.77 & 0.14 & 0.84 & 0.86 & 0.94 & 0.92 & 0.93 \\\\\n",
            "~ & ENN & Prec & 0.10 & 0.07 & 0.10 & 0.09 & 0.05 & 0.16 & 0.18 & 0.39 & 0.32 & 0.31 \\\\\n",
            "~ & ~ & Rec & 0.20 & 0.01 & 0.46 & 0.46 & 0.94 & 0.57 & 0.54 & 0.40 & 0.56 & 0.43 \\\\\n",
            "~ & ~ & F1 & 0.13 & 0.01 & 0.16 & 0.16 & 0.09 & 0.25 & 0.27 & 0.40 & 0.40 & 0.36 \\\\\n",
            "\\hline\\hline\n"
          ],
          "name": "stdout"
        }
      ]
    },
    {
      "cell_type": "code",
      "metadata": {
        "colab": {
          "base_uri": "https://localhost:8080/"
        },
        "id": "D-YWsSUcAAPI",
        "outputId": "c38da55c-d095-4236-87fa-58746abcbb3c"
      },
      "source": [
        "print('''\n",
        "| classifier          | Accuracy | Precision | Recall | F1 score |\n",
        "| =================== | ======== | ========= | ====== | ======== |''')\n",
        "for c,a,p,r,f in zip(classifiers_names,accuracy,precision,recall,f1):\n",
        "    print(c,\"  |  \",a,\"  |  \",p,\"  |  \",r,\"  |  \",f,\"  |  \")\n",
        "    \n",
        "print(\"\\n===============================================================\\n\")\n",
        "for c,a,p,r,f in zip(classifiers_names,accuracy_sm,precision_sm,recall_sm,f1_sm):\n",
        "    print(c,\"  |  \",a,\"  |  \",p,\"  |  \",r,\"  |  \",f,\"  |  \")\n",
        "\n",
        "print(\"\\n===============================================================\\n\")\n",
        "for c,a,p,r,f in zip(classifiers_names,accuracy_rus,precision_rus,recall_rus,f1_rus):\n",
        "    print(c,\"  |  \",a,\"  |  \",p,\"  |  \",r,\"  |  \",f,\"  |  \")\n",
        "  \n",
        "print(\"\\n===============================================================\\n\")\n",
        "for c,a,p,r,f in zip(classifiers_names,accuracy_smoteenn,precision_smoteenn,recall_smoteenn,f1_smoteenn):\n",
        "    print(c,\"  |  \",a,\"  |  \",p,\"  |  \",r,\"  |  \",f,\"  |  \")\n",
        " "
      ],
      "execution_count": 46,
      "outputs": [
        {
          "output_type": "stream",
          "text": [
            "\n",
            "| classifier          | Accuracy | Precision | Recall | F1 score |\n",
            "| =================== | ======== | ========= | ====== | ======== |\n",
            "LR   |   0.9519969278033794   |   0.0   |   0.0   |   0.0   |  \n",
            "LDA   |   0.9527649769585254   |   0.0   |   0.0   |   0.0   |  \n",
            "KNN-5   |   0.9489247311827957   |   0.2727272727272727   |   0.04878048780487805   |   0.08275862068965519   |  \n",
            "KNN-10   |   0.9508448540706606   |   0.2222222222222222   |   0.016260162601626018   |   0.030303030303030307   |  \n",
            "GNB   |   0.10138248847926268   |   0.04773561811505508   |   0.9512195121951219   |   0.0909090909090909   |  \n",
            "DT   |   0.945084485407066   |   0.38095238095238093   |   0.2601626016260163   |   0.30917874396135264   |  \n",
            "SVC   |   0.9527649769585254   |   0.0   |   0.0   |   0.0   |  \n",
            "RFC   |   0.956221198156682   |   0.6451612903225806   |   0.16260162601626016   |   0.25974025974025977   |  \n",
            "XGB   |   0.9619815668202765   |   0.875   |   0.22764227642276422   |   0.3612903225806452   |  \n",
            "Voting   |   0.9581413210445469   |   0.9375   |   0.12195121951219512   |   0.21582733812949637   |  \n",
            "\n",
            "===============================================================\n",
            "\n",
            "LR   |   0.945084485407066   |   0.08333333333333333   |   0.016260162601626018   |   0.027210884353741496   |  \n",
            "LDA   |   0.9504608294930875   |   0.0   |   0.0   |   0.0   |  \n",
            "KNN-5   |   0.8294930875576036   |   0.10565110565110565   |   0.34959349593495936   |   0.16226415094339622   |  \n",
            "KNN-10   |   0.8291090629800307   |   0.11298076923076923   |   0.3821138211382114   |   0.17439703153988867   |  \n",
            "GNB   |   0.1313364055299539   |   0.04892450442851118   |   0.943089430894309   |   0.0930232558139535   |  \n",
            "DT   |   0.9047619047619048   |   0.23404255319148937   |   0.44715447154471544   |   0.30726256983240224   |  \n",
            "SVC   |   0.8986175115207373   |   0.20502092050209206   |   0.3983739837398374   |   0.2707182320441989   |  \n",
            "RFC   |   0.9504608294930875   |   0.4666666666666667   |   0.34146341463414637   |   0.3943661971830986   |  \n",
            "XGB   |   0.9354838709677419   |   0.36363636363636365   |   0.4878048780487805   |   0.4166666666666667   |  \n",
            "Voting   |   0.9516129032258065   |   0.4827586206896552   |   0.34146341463414637   |   0.4000000000000001   |  \n",
            "\n",
            "===============================================================\n",
            "\n",
            "LR   |   0.880184331797235   |   0.14869888475836432   |   0.3252032520325203   |   0.2040816326530612   |  \n",
            "LDA   |   0.8878648233486943   |   0.14644351464435146   |   0.2845528455284553   |   0.19337016574585633   |  \n",
            "KNN-5   |   0.7795698924731183   |   0.08925318761384335   |   0.3983739837398374   |   0.14583333333333331   |  \n",
            "KNN-10   |   0.8183563748079877   |   0.10407239819004525   |   0.37398373983739835   |   0.16283185840707964   |  \n",
            "GNB   |   0.11827956989247312   |   0.048232848232848236   |   0.943089430894309   |   0.09177215189873418   |  \n",
            "DT   |   0.8809523809523809   |   0.2175226586102719   |   0.5853658536585366   |   0.31718061674008813   |  \n",
            "SVC   |   0.9182027649769585   |   0.04081632653061224   |   0.032520325203252036   |   0.03619909502262444   |  \n",
            "RFC   |   0.8563748079877113   |   0.19612590799031476   |   0.6585365853658537   |   0.3022388059701493   |  \n",
            "XGB   |   0.8721198156682027   |   0.21621621621621623   |   0.6504065040650406   |   0.3245436105476674   |  \n",
            "Voting   |   0.9147465437788018   |   0.2911392405063291   |   0.5609756097560976   |   0.38333333333333336   |  \n",
            "\n",
            "===============================================================\n",
            "\n",
            "LR   |   0.8763440860215054   |   0.10040160642570281   |   0.2032520325203252   |   0.13440860215053763   |  \n",
            "LDA   |   0.9481566820276498   |   0.07142857142857142   |   0.008130081300813009   |   0.014598540145985401   |  \n",
            "KNN-5   |   0.7776497695852534   |   0.09859154929577464   |   0.45528455284552843   |   0.16208393632416784   |  \n",
            "KNN-10   |   0.7657450076804916   |   0.09348914858096828   |   0.45528455284552843   |   0.15512465373961218   |  \n",
            "GNB   |   0.1401689708141321   |   0.049403747870528106   |   0.943089430894309   |   0.09388911371914203   |  \n",
            "DT   |   0.8379416282642089   |   0.15945330296127563   |   0.5691056910569106   |   0.2491103202846975   |  \n",
            "SVC   |   0.8605990783410138   |   0.1774193548387097   |   0.5365853658536586   |   0.26666666666666666   |  \n",
            "RFC   |   0.9423963133640553   |   0.392   |   0.3983739837398374   |   0.39516129032258074   |  \n",
            "XGB   |   0.9216589861751152   |   0.3150684931506849   |   0.5609756097560976   |   0.40350877192982454   |  \n",
            "Voting   |   0.9270353302611367   |   0.3063583815028902   |   0.43089430894308944   |   0.3581081081081081   |  \n"
          ],
          "name": "stdout"
        }
      ]
    }
  ]
}