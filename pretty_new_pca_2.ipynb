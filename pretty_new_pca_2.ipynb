{
  "nbformat": 4,
  "nbformat_minor": 0,
  "metadata": {
    "colab": {
      "name": "pretty_new_pca_2.ipynb",
      "provenance": [],
      "toc_visible": true
    },
    "kernelspec": {
      "name": "python3",
      "display_name": "Python 3"
    },
    "language_info": {
      "name": "python"
    }
  },
  "cells": [
    {
      "cell_type": "code",
      "metadata": {
        "id": "GPknB-Lr-Uuj"
      },
      "source": [
        "import numpy as np\n",
        "import pandas as pd\n",
        "import matplotlib.pyplot as plt\n",
        "from scipy.io.arff import loadarff\n",
        "from sklearn.model_selection import train_test_split\n",
        "\n",
        "%matplotlib inline\n",
        "random_state = 2021\n",
        "\n",
        "N = '2'\n",
        "drop_cols = ['Attr37', 'Attr7','Attr43','Attr62','Attr32','Attr44','Attr15','Attr19','Attr3','Attr51','Attr4','Attr49','Attr38','Attr60','Attr6']"
      ],
      "execution_count": 17,
      "outputs": []
    },
    {
      "cell_type": "code",
      "metadata": {
        "id": "Z6PoMIo2-eJh"
      },
      "source": [
        "arff = loadarff('2year.arff')\n",
        "df = pd.DataFrame(arff[0])\n",
        "df['class']= df['class'].astype('int')\n",
        "df = df.drop_duplicates()"
      ],
      "execution_count": 18,
      "outputs": []
    },
    {
      "cell_type": "code",
      "metadata": {
        "colab": {
          "base_uri": "https://localhost:8080/",
          "height": 118
        },
        "id": "HbbnTNQa-404",
        "outputId": "f5b7c6af-f0f4-43bf-90bb-450fe69c5228"
      },
      "source": [
        "df = df.drop(drop_cols,axis='columns')\n",
        "X = df.drop('class',axis='columns')\n",
        "Y = df['class']\n",
        "# (X.shape,Y.shape)\n",
        "\n",
        "X_train, X_test, Y_train, Y_test = train_test_split(\n",
        "    X, Y, test_size=0.25, random_state=random_state,shuffle=True,stratify=Y)\n",
        "\n",
        "display(Y_train.value_counts(), Y_test.value_counts())\n",
        "X_train,Y_train,X_test,Y_test = X_train.to_numpy(),Y_train.to_numpy(),X_test.to_numpy(),Y_test.to_numpy()"
      ],
      "execution_count": 19,
      "outputs": [
        {
          "output_type": "display_data",
          "data": {
            "text/plain": [
              "0    7264\n",
              "1     298\n",
              "Name: class, dtype: int64"
            ]
          },
          "metadata": {
            "tags": []
          }
        },
        {
          "output_type": "display_data",
          "data": {
            "text/plain": [
              "0    2421\n",
              "1     100\n",
              "Name: class, dtype: int64"
            ]
          },
          "metadata": {
            "tags": []
          }
        }
      ]
    },
    {
      "cell_type": "code",
      "metadata": {
        "id": "IuoqkCqL_B9f"
      },
      "source": [
        "from sklearn.impute import SimpleImputer\n",
        "simple_imp = SimpleImputer(missing_values=np.nan, strategy='mean')\n",
        "simple_imp = simple_imp.fit(X_train)\n",
        "X_train_imp = simple_imp.transform(X_train)\n",
        "X_test_imp = simple_imp.transform(X_test)"
      ],
      "execution_count": 20,
      "outputs": []
    },
    {
      "cell_type": "code",
      "metadata": {
        "id": "KdGz9Cez_GZS"
      },
      "source": [
        "from sklearn.decomposition import PCA\n",
        "pca = PCA(n_components=20)\n",
        "pca = pca.fit(X_train_imp)\n",
        "\n",
        "X_train_imp = pca.transform(X_train_imp)\n",
        "X_test_imp = pca.transform(X_test_imp)"
      ],
      "execution_count": 21,
      "outputs": []
    },
    {
      "cell_type": "code",
      "metadata": {
        "id": "KC-xmf3j_KPb"
      },
      "source": [
        "from sklearn.preprocessing import StandardScaler\n",
        "\n",
        "scaler = StandardScaler().fit(X_train_imp)\n",
        "# choose imputer <<comment blocks accordingly>>\n",
        "\n",
        "#### for simple\n",
        "scaled_already = False\n",
        "# X_train_imp = simple_imp.transform(X_train)\n",
        "# X_test_imp = simple_imp.transform(X_test)\n"
      ],
      "execution_count": 22,
      "outputs": []
    },
    {
      "cell_type": "code",
      "metadata": {
        "id": "05jrQRHi_NVT"
      },
      "source": [
        "from sklearn.model_selection import train_test_split\n",
        "from sklearn import metrics\n",
        "\n",
        "from sklearn.linear_model import LogisticRegression\n",
        "from sklearn.discriminant_analysis import LinearDiscriminantAnalysis\n",
        "from sklearn.neighbors import KNeighborsClassifier\n",
        "from sklearn.naive_bayes import GaussianNB\n",
        "from sklearn.tree import DecisionTreeClassifier\n",
        "from sklearn.svm import SVC\n",
        "from sklearn.ensemble import RandomForestClassifier\n",
        "from xgboost import XGBClassifier\n",
        "from sklearn.ensemble import VotingClassifier # Voting Ensemble for Classification\n",
        "\n",
        "from imblearn.over_sampling import SMOTE\n",
        "from imblearn.under_sampling import RandomUnderSampler\n",
        "from imblearn.combine import SMOTEENN\n",
        "\n",
        "from imblearn.pipeline import Pipeline\n",
        "from sklearn.model_selection import GridSearchCV"
      ],
      "execution_count": 23,
      "outputs": []
    },
    {
      "cell_type": "code",
      "metadata": {
        "id": "bNa2ovAp_Psz"
      },
      "source": [
        "def try_all_classifiers(X_train, X_test, y_train, y_test, classifiers, sampling  = None, scaler=None):\n",
        "   \n",
        "    accuracy = [0]*len(classifiers)\n",
        "    f1 = [0]*len(classifiers)\n",
        "    precision = [0]*len(classifiers)\n",
        "    recall = [0]*len(classifiers)\n",
        "    i = 0\n",
        "    \n",
        "    model_pipeline = []\n",
        "    Pipeline([\n",
        "        ('sampling', SMOTE()),\n",
        "        ('classification', LogisticRegression())\n",
        "    ])\n",
        "    \n",
        "    if sampling == \"SMOTE\":\n",
        "        model_pipeline.append(('sampling', SMOTE(sampling_strategy=0.6,random_state=random_state) ))\n",
        "        # X_train, y_train = smote.fit_resample(X_train, y_train)\n",
        "        print(\"SMOTE\")\n",
        "    if sampling == \"RUS\":\n",
        "        model_pipeline.append(('sampling', RandomUnderSampler(sampling_strategy=0.6,random_state=random_state) ))\n",
        "        # X_train, y_train = rus.fit_resample(X_train, y_train)\n",
        "        print(\"RUS\")\n",
        "    if sampling == \"SMOTEENN\":\n",
        "        model_pipeline.append(('sampling', SMOTEENN(sampling_strategy=0.6,random_state=random_state) ))\n",
        "        # X_train, y_train = smoteenn.fit_resample(X_train, y_train)\n",
        "        print(\"SMOTEENN\")    \n",
        "\n",
        "    voting_classifs = []\n",
        "    models_for_voting = [0,3,5,6,7,8]\n",
        "    voting_weights = [1,0.5,1,0.5,1,1]\n",
        "    jj =0 \n",
        "        \n",
        "    for i in range(len(classifiers)):\n",
        "        classif = classifiers[i][0]\n",
        "        pipe_parameters = classifiers[i][2]\n",
        "        y_pred = []\n",
        "        print(classifiers_names[i])\n",
        "        pipeline = Pipeline(model_pipeline+[('classifier',classif)])\n",
        "        \n",
        "        if classifiers[i][1] and not scaled_already:\n",
        "            print(\"\\t- Requires scaling and not scaled. Doing it now...\")\n",
        "            grid = GridSearchCV(pipeline, pipe_parameters, cv=2, scoring=\"f1\",n_jobs=-1,verbose=1)\n",
        "            #grid = grid.fit(X_train, y_train)\n",
        "            grid = grid.fit(scaler.transform(X_train), y_train)\n",
        "\n",
        "            #classif.fit(scaler.transform(X_train), y_train)\n",
        "            #y_pred = classif.predict(scaler.transform(X_test))\n",
        "            \n",
        "            display(grid.best_params_)\n",
        "            classif = grid.best_estimator_\n",
        "            y_pred = grid.predict(scaler.transform(X_test))\n",
        "            #classif.fit(scaler.transform(), )\n",
        "            #y_pred = classif.predict(scaler.transform(X_test))\n",
        "            \n",
        "        else:\n",
        "            grid = GridSearchCV(pipeline, pipe_parameters, cv=2, scoring=\"f1\",n_jobs=-1,verbose=1)\n",
        "            grid.fit(X_train, y_train)\n",
        "            display(grid.best_params_)\n",
        "            classif = grid.best_estimator_\n",
        "            y_pred = grid.predict(X_test)\n",
        "            \n",
        "            #classif.fit(X_train, y_train)\n",
        "            #y_pred = classif.predict(X_test)\n",
        "        \n",
        "        if i in models_for_voting:\n",
        "            print(\"\\t- Adding for voting with weight <\"+str(voting_weights[jj])+\">...\")\n",
        "            jj+=1\n",
        "            voting_classifs.append((\"mod\"+str(i+1),classif))\n",
        "        \n",
        "        accuracy[i] = metrics.accuracy_score(y_test, y_pred)\n",
        "        f1[i] = metrics.f1_score(y_test, y_pred, labels=np.unique(y_pred))\n",
        "        precision[i] = metrics.precision_score(y_test, y_pred)\n",
        "        recall[i] = metrics.recall_score(y_test, y_pred)\n",
        "    \n",
        "    print(\"\\n\\nVoting...\")\n",
        "    # create the ensemble model\n",
        "    ensemble = VotingClassifier(voting_classifs,weights=voting_weights,n_jobs=-1,voting=\"hard\")\n",
        "    ensemble.fit(scaler.transform(X_train), y_train)\n",
        "    y_pred = ensemble.predict(scaler.transform(X_test))\n",
        "    \n",
        "    accuracy.append(metrics.accuracy_score(y_test, y_pred))\n",
        "    f1.append(metrics.f1_score(y_test, y_pred, labels=np.unique(y_pred)))\n",
        "    precision.append(metrics.precision_score(y_test, y_pred))\n",
        "    recall.append(metrics.recall_score(y_test, y_pred))\n",
        "\n",
        "    print(\"Done\")\n",
        "    return accuracy,f1,precision,recall"
      ],
      "execution_count": 24,
      "outputs": []
    },
    {
      "cell_type": "code",
      "metadata": {
        "id": "KCYpY7lI_XSV"
      },
      "source": [
        "classifiers_names = [\"LR\", \"LDA\", \"KNN-5\", \"KNN-10\", \"GNB\", \"DT\", \"SVC\", \"RFC\", \"XGB\",\"Voting\"]\n",
        "\n",
        "classifiers = [(LogisticRegression(max_iter=2048,random_state=random_state),True,\n",
        "                   [\n",
        "                       #{\n",
        "                       # 'classifier__penalty' : ['l1', 'l2'],\n",
        "                       # 'classifier__C' : np.logspace(-8, 4, 16),\n",
        "                       # 'classifier__solver' : ['liblinear']\n",
        "                       # },\n",
        "                        {\n",
        "                        'classifier__penalty' : ['l2','none'],\n",
        "                        'classifier__C' : np.logspace(-8, 4, 16)\n",
        "                        }\n",
        "                   ]),\n",
        "                (LinearDiscriminantAnalysis(),True,\n",
        "                    { 'classifier__solver' : ['svd', 'lsqr', 'eigen'] }),\n",
        "                (KNeighborsClassifier(n_neighbors=5),True,\n",
        "                    {'classifier__weights' : ['uniform','distance'], 'classifier__metric' : ['euclidean', 'manhattan']}), \n",
        "                (KNeighborsClassifier(n_neighbors=10),True,\n",
        "                    {'classifier__weights' : ['uniform','distance'], 'classifier__metric' : ['euclidean', 'manhattan']}),\n",
        "                (GaussianNB(),True,\n",
        "                    {'classifier__var_smoothing': np.logspace(0,-9, num=100)}),\n",
        "                (DecisionTreeClassifier(random_state=random_state),False,\n",
        "                    { 'classifier__criterion':['gini','entropy'],'classifier__max_depth':[4,5,6,7,8,9,10,11,12,15,20,30,40,50,70,90,120,150]} ),\n",
        "                (SVC(random_state=random_state),True,\n",
        "                    [\n",
        "                        {'classifier__C': [ 0.05, 0.1, 1], \n",
        "                         'classifier__gamma': [0.0001, 1],\n",
        "                         'classifier__kernel': ['rbf']},\n",
        "                        {'classifier__C': [ 0.05, 0.1, 1],\n",
        "                         'classifier__kernel': ['linear']}\n",
        "                    ]),\n",
        "                (RandomForestClassifier(random_state=random_state),False,\n",
        "                     { 'classifier__n_estimators': [int(x) for x in np.linspace(start = 128, stop = 512, num = 4)],\n",
        "                       'classifier__max_features': ['auto'],\n",
        "                       'classifier__max_depth':  [int(x) for x in np.linspace(10, 100, num = 2)]+[None],\n",
        "                       'classifier__min_samples_leaf':  [1, 4],\n",
        "                       'classifier__bootstrap': [False]\n",
        "                     }),\n",
        "                (XGBClassifier(use_label_encoder=False),False,\n",
        "                    {\n",
        "                        'classifier__gamma': [0.5, 1, 2, 5],\n",
        "                        'classifier__colsample_bytree': [0.6, 0.8, 1.0],\n",
        "                        'classifier__max_depth': [3, 6]\n",
        "                    }) ]\n",
        "\n"
      ],
      "execution_count": 25,
      "outputs": []
    },
    {
      "cell_type": "code",
      "metadata": {
        "colab": {
          "base_uri": "https://localhost:8080/",
          "height": 1000
        },
        "id": "ccUkvTv6_uk1",
        "outputId": "7175a4c9-310d-453b-c1cf-0eb1cac275d5"
      },
      "source": [
        "accuracy,f1,precision,recall = try_all_classifiers(X_train_imp,X_test_imp,Y_train,Y_test, classifiers, scaler=scaler)"
      ],
      "execution_count": 26,
      "outputs": [
        {
          "output_type": "stream",
          "text": [
            "LR\n",
            "\t- Requires scaling and not scaled. Doing it now...\n",
            "Fitting 2 folds for each of 32 candidates, totalling 64 fits\n"
          ],
          "name": "stdout"
        },
        {
          "output_type": "stream",
          "text": [
            "[Parallel(n_jobs=-1)]: Using backend LokyBackend with 2 concurrent workers.\n",
            "[Parallel(n_jobs=-1)]: Done  46 tasks      | elapsed:   16.6s\n",
            "[Parallel(n_jobs=-1)]: Done  64 out of  64 | elapsed:   24.8s finished\n"
          ],
          "name": "stderr"
        },
        {
          "output_type": "display_data",
          "data": {
            "text/plain": [
              "{'classifier__C': 1e-08, 'classifier__penalty': 'l2'}"
            ]
          },
          "metadata": {
            "tags": []
          }
        },
        {
          "output_type": "stream",
          "text": [
            "/usr/local/lib/python3.7/dist-packages/sklearn/metrics/_classification.py:1272: UndefinedMetricWarning: Precision is ill-defined and being set to 0.0 due to no predicted samples. Use `zero_division` parameter to control this behavior.\n",
            "  _warn_prf(average, modifier, msg_start, len(result))\n",
            "[Parallel(n_jobs=-1)]: Using backend LokyBackend with 2 concurrent workers.\n"
          ],
          "name": "stderr"
        },
        {
          "output_type": "stream",
          "text": [
            "\t- Adding for voting with weight <1>...\n",
            "LDA\n",
            "\t- Requires scaling and not scaled. Doing it now...\n",
            "Fitting 2 folds for each of 3 candidates, totalling 6 fits\n"
          ],
          "name": "stdout"
        },
        {
          "output_type": "stream",
          "text": [
            "[Parallel(n_jobs=-1)]: Done   6 out of   6 | elapsed:    0.1s finished\n"
          ],
          "name": "stderr"
        },
        {
          "output_type": "display_data",
          "data": {
            "text/plain": [
              "{'classifier__solver': 'svd'}"
            ]
          },
          "metadata": {
            "tags": []
          }
        },
        {
          "output_type": "stream",
          "text": [
            "[Parallel(n_jobs=-1)]: Using backend LokyBackend with 2 concurrent workers.\n"
          ],
          "name": "stderr"
        },
        {
          "output_type": "stream",
          "text": [
            "KNN-5\n",
            "\t- Requires scaling and not scaled. Doing it now...\n",
            "Fitting 2 folds for each of 4 candidates, totalling 8 fits\n"
          ],
          "name": "stdout"
        },
        {
          "output_type": "stream",
          "text": [
            "[Parallel(n_jobs=-1)]: Done   8 out of   8 | elapsed:    3.4s finished\n"
          ],
          "name": "stderr"
        },
        {
          "output_type": "display_data",
          "data": {
            "text/plain": [
              "{'classifier__metric': 'euclidean', 'classifier__weights': 'distance'}"
            ]
          },
          "metadata": {
            "tags": []
          }
        },
        {
          "output_type": "stream",
          "text": [
            "KNN-10\n",
            "\t- Requires scaling and not scaled. Doing it now...\n",
            "Fitting 2 folds for each of 4 candidates, totalling 8 fits\n"
          ],
          "name": "stdout"
        },
        {
          "output_type": "stream",
          "text": [
            "[Parallel(n_jobs=-1)]: Using backend LokyBackend with 2 concurrent workers.\n",
            "[Parallel(n_jobs=-1)]: Done   8 out of   8 | elapsed:    3.6s finished\n"
          ],
          "name": "stderr"
        },
        {
          "output_type": "display_data",
          "data": {
            "text/plain": [
              "{'classifier__metric': 'euclidean', 'classifier__weights': 'distance'}"
            ]
          },
          "metadata": {
            "tags": []
          }
        },
        {
          "output_type": "stream",
          "text": [
            "\t- Adding for voting with weight <0.5>...\n",
            "GNB\n",
            "\t- Requires scaling and not scaled. Doing it now...\n",
            "Fitting 2 folds for each of 100 candidates, totalling 200 fits\n"
          ],
          "name": "stdout"
        },
        {
          "output_type": "stream",
          "text": [
            "[Parallel(n_jobs=-1)]: Using backend LokyBackend with 2 concurrent workers.\n",
            "[Parallel(n_jobs=-1)]: Done 200 out of 200 | elapsed:    1.1s finished\n"
          ],
          "name": "stderr"
        },
        {
          "output_type": "display_data",
          "data": {
            "text/plain": [
              "{'classifier__var_smoothing': 0.0012328467394420659}"
            ]
          },
          "metadata": {
            "tags": []
          }
        },
        {
          "output_type": "stream",
          "text": [
            "[Parallel(n_jobs=-1)]: Using backend LokyBackend with 2 concurrent workers.\n"
          ],
          "name": "stderr"
        },
        {
          "output_type": "stream",
          "text": [
            "DT\n",
            "Fitting 2 folds for each of 36 candidates, totalling 72 fits\n"
          ],
          "name": "stdout"
        },
        {
          "output_type": "stream",
          "text": [
            "[Parallel(n_jobs=-1)]: Done  72 out of  72 | elapsed:    5.1s finished\n"
          ],
          "name": "stderr"
        },
        {
          "output_type": "display_data",
          "data": {
            "text/plain": [
              "{'classifier__criterion': 'entropy', 'classifier__max_depth': 8}"
            ]
          },
          "metadata": {
            "tags": []
          }
        },
        {
          "output_type": "stream",
          "text": [
            "\t- Adding for voting with weight <1>...\n",
            "SVC\n",
            "\t- Requires scaling and not scaled. Doing it now...\n",
            "Fitting 2 folds for each of 9 candidates, totalling 18 fits\n"
          ],
          "name": "stdout"
        },
        {
          "output_type": "stream",
          "text": [
            "[Parallel(n_jobs=-1)]: Using backend LokyBackend with 2 concurrent workers.\n",
            "[Parallel(n_jobs=-1)]: Done  18 out of  18 | elapsed:   15.2s finished\n"
          ],
          "name": "stderr"
        },
        {
          "output_type": "display_data",
          "data": {
            "text/plain": [
              "{'classifier__C': 0.05,\n",
              " 'classifier__gamma': 0.0001,\n",
              " 'classifier__kernel': 'rbf'}"
            ]
          },
          "metadata": {
            "tags": []
          }
        },
        {
          "output_type": "stream",
          "text": [
            "\t- Adding for voting with weight <0.5>...\n",
            "RFC\n",
            "Fitting 2 folds for each of 24 candidates, totalling 48 fits\n"
          ],
          "name": "stdout"
        },
        {
          "output_type": "stream",
          "text": [
            "/usr/local/lib/python3.7/dist-packages/sklearn/metrics/_classification.py:1272: UndefinedMetricWarning: Precision is ill-defined and being set to 0.0 due to no predicted samples. Use `zero_division` parameter to control this behavior.\n",
            "  _warn_prf(average, modifier, msg_start, len(result))\n",
            "[Parallel(n_jobs=-1)]: Using backend LokyBackend with 2 concurrent workers.\n",
            "[Parallel(n_jobs=-1)]: Done  48 out of  48 | elapsed:  3.2min finished\n"
          ],
          "name": "stderr"
        },
        {
          "output_type": "display_data",
          "data": {
            "text/plain": [
              "{'classifier__bootstrap': False,\n",
              " 'classifier__max_depth': 100,\n",
              " 'classifier__max_features': 'auto',\n",
              " 'classifier__min_samples_leaf': 1,\n",
              " 'classifier__n_estimators': 128}"
            ]
          },
          "metadata": {
            "tags": []
          }
        },
        {
          "output_type": "stream",
          "text": [
            "\t- Adding for voting with weight <1>...\n",
            "XGB\n",
            "Fitting 2 folds for each of 24 candidates, totalling 48 fits\n"
          ],
          "name": "stdout"
        },
        {
          "output_type": "stream",
          "text": [
            "[Parallel(n_jobs=-1)]: Using backend LokyBackend with 2 concurrent workers.\n",
            "[Parallel(n_jobs=-1)]: Done  48 out of  48 | elapsed:   27.5s finished\n"
          ],
          "name": "stderr"
        },
        {
          "output_type": "display_data",
          "data": {
            "text/plain": [
              "{'classifier__colsample_bytree': 0.8,\n",
              " 'classifier__gamma': 0.5,\n",
              " 'classifier__max_depth': 6}"
            ]
          },
          "metadata": {
            "tags": []
          }
        },
        {
          "output_type": "stream",
          "text": [
            "\t- Adding for voting with weight <1>...\n",
            "\n",
            "\n",
            "Voting...\n",
            "Done\n"
          ],
          "name": "stdout"
        }
      ]
    },
    {
      "cell_type": "code",
      "metadata": {
        "colab": {
          "base_uri": "https://localhost:8080/",
          "height": 1000
        },
        "id": "POamfV_J_x29",
        "outputId": "f4b21ef5-d9cc-48d1-e629-b8591a3d4a41"
      },
      "source": [
        "accuracy_sm,f1_sm,precision_sm,recall_sm = try_all_classifiers(X_train_imp,X_test_imp,Y_train,Y_test, classifiers, sampling = \"SMOTE\", scaler=scaler)\n"
      ],
      "execution_count": 27,
      "outputs": [
        {
          "output_type": "stream",
          "text": [
            "SMOTE\n",
            "LR\n",
            "\t- Requires scaling and not scaled. Doing it now...\n",
            "Fitting 2 folds for each of 32 candidates, totalling 64 fits\n"
          ],
          "name": "stdout"
        },
        {
          "output_type": "stream",
          "text": [
            "[Parallel(n_jobs=-1)]: Using backend LokyBackend with 2 concurrent workers.\n",
            "[Parallel(n_jobs=-1)]: Done  50 tasks      | elapsed:   30.9s\n",
            "[Parallel(n_jobs=-1)]: Done  64 out of  64 | elapsed:   44.6s finished\n",
            "/usr/local/lib/python3.7/dist-packages/sklearn/utils/deprecation.py:87: FutureWarning: Function safe_indexing is deprecated; safe_indexing is deprecated in version 0.22 and will be removed in version 0.24.\n",
            "  warnings.warn(msg, category=FutureWarning)\n",
            "/usr/local/lib/python3.7/dist-packages/sklearn/linear_model/_logistic.py:1505: UserWarning: Setting penalty='none' will ignore the C and l1_ratio parameters\n",
            "  \"Setting penalty='none' will ignore the C and l1_ratio \"\n"
          ],
          "name": "stderr"
        },
        {
          "output_type": "display_data",
          "data": {
            "text/plain": [
              "{'classifier__C': 1e-08, 'classifier__penalty': 'none'}"
            ]
          },
          "metadata": {
            "tags": []
          }
        },
        {
          "output_type": "stream",
          "text": [
            "\t- Adding for voting with weight <1>...\n",
            "LDA\n",
            "\t- Requires scaling and not scaled. Doing it now...\n",
            "Fitting 2 folds for each of 3 candidates, totalling 6 fits\n"
          ],
          "name": "stdout"
        },
        {
          "output_type": "stream",
          "text": [
            "[Parallel(n_jobs=-1)]: Using backend LokyBackend with 2 concurrent workers.\n",
            "[Parallel(n_jobs=-1)]: Done   6 out of   6 | elapsed:    0.2s finished\n",
            "/usr/local/lib/python3.7/dist-packages/sklearn/utils/deprecation.py:87: FutureWarning: Function safe_indexing is deprecated; safe_indexing is deprecated in version 0.22 and will be removed in version 0.24.\n",
            "  warnings.warn(msg, category=FutureWarning)\n"
          ],
          "name": "stderr"
        },
        {
          "output_type": "display_data",
          "data": {
            "text/plain": [
              "{'classifier__solver': 'svd'}"
            ]
          },
          "metadata": {
            "tags": []
          }
        },
        {
          "output_type": "stream",
          "text": [
            "KNN-5\n",
            "\t- Requires scaling and not scaled. Doing it now...\n",
            "Fitting 2 folds for each of 4 candidates, totalling 8 fits\n"
          ],
          "name": "stdout"
        },
        {
          "output_type": "stream",
          "text": [
            "[Parallel(n_jobs=-1)]: Using backend LokyBackend with 2 concurrent workers.\n",
            "[Parallel(n_jobs=-1)]: Done   8 out of   8 | elapsed:    4.6s finished\n",
            "/usr/local/lib/python3.7/dist-packages/sklearn/utils/deprecation.py:87: FutureWarning: Function safe_indexing is deprecated; safe_indexing is deprecated in version 0.22 and will be removed in version 0.24.\n",
            "  warnings.warn(msg, category=FutureWarning)\n"
          ],
          "name": "stderr"
        },
        {
          "output_type": "display_data",
          "data": {
            "text/plain": [
              "{'classifier__metric': 'euclidean', 'classifier__weights': 'uniform'}"
            ]
          },
          "metadata": {
            "tags": []
          }
        },
        {
          "output_type": "stream",
          "text": [
            "KNN-10\n",
            "\t- Requires scaling and not scaled. Doing it now...\n",
            "Fitting 2 folds for each of 4 candidates, totalling 8 fits\n"
          ],
          "name": "stdout"
        },
        {
          "output_type": "stream",
          "text": [
            "[Parallel(n_jobs=-1)]: Using backend LokyBackend with 2 concurrent workers.\n",
            "[Parallel(n_jobs=-1)]: Done   8 out of   8 | elapsed:    4.8s finished\n",
            "/usr/local/lib/python3.7/dist-packages/sklearn/utils/deprecation.py:87: FutureWarning: Function safe_indexing is deprecated; safe_indexing is deprecated in version 0.22 and will be removed in version 0.24.\n",
            "  warnings.warn(msg, category=FutureWarning)\n"
          ],
          "name": "stderr"
        },
        {
          "output_type": "display_data",
          "data": {
            "text/plain": [
              "{'classifier__metric': 'manhattan', 'classifier__weights': 'uniform'}"
            ]
          },
          "metadata": {
            "tags": []
          }
        },
        {
          "output_type": "stream",
          "text": [
            "\t- Adding for voting with weight <0.5>...\n",
            "GNB\n",
            "\t- Requires scaling and not scaled. Doing it now...\n",
            "Fitting 2 folds for each of 100 candidates, totalling 200 fits\n"
          ],
          "name": "stdout"
        },
        {
          "output_type": "stream",
          "text": [
            "[Parallel(n_jobs=-1)]: Using backend LokyBackend with 2 concurrent workers.\n",
            "[Parallel(n_jobs=-1)]: Done 164 tasks      | elapsed:    3.4s\n",
            "[Parallel(n_jobs=-1)]: Done 200 out of 200 | elapsed:    4.1s finished\n",
            "/usr/local/lib/python3.7/dist-packages/sklearn/utils/deprecation.py:87: FutureWarning: Function safe_indexing is deprecated; safe_indexing is deprecated in version 0.22 and will be removed in version 0.24.\n",
            "  warnings.warn(msg, category=FutureWarning)\n"
          ],
          "name": "stderr"
        },
        {
          "output_type": "display_data",
          "data": {
            "text/plain": [
              "{'classifier__var_smoothing': 0.001}"
            ]
          },
          "metadata": {
            "tags": []
          }
        },
        {
          "output_type": "stream",
          "text": [
            "[Parallel(n_jobs=-1)]: Using backend LokyBackend with 2 concurrent workers.\n"
          ],
          "name": "stderr"
        },
        {
          "output_type": "stream",
          "text": [
            "DT\n",
            "Fitting 2 folds for each of 36 candidates, totalling 72 fits\n"
          ],
          "name": "stdout"
        },
        {
          "output_type": "stream",
          "text": [
            "[Parallel(n_jobs=-1)]: Done  72 out of  72 | elapsed:    9.4s finished\n",
            "/usr/local/lib/python3.7/dist-packages/sklearn/utils/deprecation.py:87: FutureWarning: Function safe_indexing is deprecated; safe_indexing is deprecated in version 0.22 and will be removed in version 0.24.\n",
            "  warnings.warn(msg, category=FutureWarning)\n"
          ],
          "name": "stderr"
        },
        {
          "output_type": "display_data",
          "data": {
            "text/plain": [
              "{'classifier__criterion': 'entropy', 'classifier__max_depth': 5}"
            ]
          },
          "metadata": {
            "tags": []
          }
        },
        {
          "output_type": "stream",
          "text": [
            "\t- Adding for voting with weight <1>...\n",
            "SVC\n",
            "\t- Requires scaling and not scaled. Doing it now...\n",
            "Fitting 2 folds for each of 9 candidates, totalling 18 fits\n"
          ],
          "name": "stdout"
        },
        {
          "output_type": "stream",
          "text": [
            "[Parallel(n_jobs=-1)]: Using backend LokyBackend with 2 concurrent workers.\n",
            "[Parallel(n_jobs=-1)]: Done  18 out of  18 | elapsed:   37.0s finished\n",
            "/usr/local/lib/python3.7/dist-packages/sklearn/utils/deprecation.py:87: FutureWarning: Function safe_indexing is deprecated; safe_indexing is deprecated in version 0.22 and will be removed in version 0.24.\n",
            "  warnings.warn(msg, category=FutureWarning)\n"
          ],
          "name": "stderr"
        },
        {
          "output_type": "display_data",
          "data": {
            "text/plain": [
              "{'classifier__C': 1, 'classifier__gamma': 1, 'classifier__kernel': 'rbf'}"
            ]
          },
          "metadata": {
            "tags": []
          }
        },
        {
          "output_type": "stream",
          "text": [
            "\t- Adding for voting with weight <0.5>...\n",
            "RFC\n",
            "Fitting 2 folds for each of 24 candidates, totalling 48 fits\n"
          ],
          "name": "stdout"
        },
        {
          "output_type": "stream",
          "text": [
            "[Parallel(n_jobs=-1)]: Using backend LokyBackend with 2 concurrent workers.\n",
            "[Parallel(n_jobs=-1)]: Done  48 out of  48 | elapsed:  5.1min finished\n",
            "/usr/local/lib/python3.7/dist-packages/sklearn/utils/deprecation.py:87: FutureWarning: Function safe_indexing is deprecated; safe_indexing is deprecated in version 0.22 and will be removed in version 0.24.\n",
            "  warnings.warn(msg, category=FutureWarning)\n"
          ],
          "name": "stderr"
        },
        {
          "output_type": "display_data",
          "data": {
            "text/plain": [
              "{'classifier__bootstrap': False,\n",
              " 'classifier__max_depth': 100,\n",
              " 'classifier__max_features': 'auto',\n",
              " 'classifier__min_samples_leaf': 4,\n",
              " 'classifier__n_estimators': 128}"
            ]
          },
          "metadata": {
            "tags": []
          }
        },
        {
          "output_type": "stream",
          "text": [
            "\t- Adding for voting with weight <1>...\n",
            "XGB\n",
            "Fitting 2 folds for each of 24 candidates, totalling 48 fits\n"
          ],
          "name": "stdout"
        },
        {
          "output_type": "stream",
          "text": [
            "[Parallel(n_jobs=-1)]: Using backend LokyBackend with 2 concurrent workers.\n",
            "[Parallel(n_jobs=-1)]: Done  48 out of  48 | elapsed:   46.1s finished\n",
            "/usr/local/lib/python3.7/dist-packages/sklearn/utils/deprecation.py:87: FutureWarning: Function safe_indexing is deprecated; safe_indexing is deprecated in version 0.22 and will be removed in version 0.24.\n",
            "  warnings.warn(msg, category=FutureWarning)\n"
          ],
          "name": "stderr"
        },
        {
          "output_type": "display_data",
          "data": {
            "text/plain": [
              "{'classifier__colsample_bytree': 0.8,\n",
              " 'classifier__gamma': 1,\n",
              " 'classifier__max_depth': 6}"
            ]
          },
          "metadata": {
            "tags": []
          }
        },
        {
          "output_type": "stream",
          "text": [
            "\t- Adding for voting with weight <1>...\n",
            "\n",
            "\n",
            "Voting...\n"
          ],
          "name": "stdout"
        },
        {
          "output_type": "stream",
          "text": [
            "/usr/local/lib/python3.7/dist-packages/joblib/externals/loky/process_executor.py:691: UserWarning: A worker stopped while some jobs were given to the executor. This can be caused by a too short worker timeout or by a memory leak.\n",
            "  \"timeout or by a memory leak.\", UserWarning\n"
          ],
          "name": "stderr"
        },
        {
          "output_type": "stream",
          "text": [
            "Done\n"
          ],
          "name": "stdout"
        }
      ]
    },
    {
      "cell_type": "code",
      "metadata": {
        "colab": {
          "base_uri": "https://localhost:8080/",
          "height": 1000
        },
        "id": "eFXlnCVO_093",
        "outputId": "ea1b4455-3ec2-4148-fb0a-063155b9c6ff"
      },
      "source": [
        "accuracy_rus,f1_rus,precision_rus,recall_rus = try_all_classifiers(X_train_imp,X_test_imp,Y_train,Y_test, classifiers, sampling = \"RUS\", scaler=scaler)\n"
      ],
      "execution_count": 28,
      "outputs": [
        {
          "output_type": "stream",
          "text": [
            "RUS\n",
            "LR\n",
            "\t- Requires scaling and not scaled. Doing it now...\n",
            "Fitting 2 folds for each of 32 candidates, totalling 64 fits\n"
          ],
          "name": "stdout"
        },
        {
          "output_type": "stream",
          "text": [
            "[Parallel(n_jobs=-1)]: Using backend LokyBackend with 2 concurrent workers.\n",
            "[Parallel(n_jobs=-1)]: Done  58 tasks      | elapsed:   15.8s\n",
            "[Parallel(n_jobs=-1)]: Done  64 out of  64 | elapsed:   18.5s finished\n",
            "/usr/local/lib/python3.7/dist-packages/sklearn/utils/deprecation.py:87: FutureWarning: Function safe_indexing is deprecated; safe_indexing is deprecated in version 0.22 and will be removed in version 0.24.\n",
            "  warnings.warn(msg, category=FutureWarning)\n",
            "/usr/local/lib/python3.7/dist-packages/sklearn/linear_model/_logistic.py:1505: UserWarning: Setting penalty='none' will ignore the C and l1_ratio parameters\n",
            "  \"Setting penalty='none' will ignore the C and l1_ratio \"\n",
            "/usr/local/lib/python3.7/dist-packages/sklearn/linear_model/_logistic.py:940: ConvergenceWarning: lbfgs failed to converge (status=1):\n",
            "STOP: TOTAL NO. of ITERATIONS REACHED LIMIT.\n",
            "\n",
            "Increase the number of iterations (max_iter) or scale the data as shown in:\n",
            "    https://scikit-learn.org/stable/modules/preprocessing.html\n",
            "Please also refer to the documentation for alternative solver options:\n",
            "    https://scikit-learn.org/stable/modules/linear_model.html#logistic-regression\n",
            "  extra_warning_msg=_LOGISTIC_SOLVER_CONVERGENCE_MSG)\n"
          ],
          "name": "stderr"
        },
        {
          "output_type": "display_data",
          "data": {
            "text/plain": [
              "{'classifier__C': 1e-08, 'classifier__penalty': 'none'}"
            ]
          },
          "metadata": {
            "tags": []
          }
        },
        {
          "output_type": "stream",
          "text": [
            "[Parallel(n_jobs=-1)]: Using backend LokyBackend with 2 concurrent workers.\n",
            "[Parallel(n_jobs=-1)]: Done   6 out of   6 | elapsed:    0.1s finished\n"
          ],
          "name": "stderr"
        },
        {
          "output_type": "stream",
          "text": [
            "\t- Adding for voting with weight <1>...\n",
            "LDA\n",
            "\t- Requires scaling and not scaled. Doing it now...\n",
            "Fitting 2 folds for each of 3 candidates, totalling 6 fits\n"
          ],
          "name": "stdout"
        },
        {
          "output_type": "stream",
          "text": [
            "/usr/local/lib/python3.7/dist-packages/sklearn/utils/deprecation.py:87: FutureWarning: Function safe_indexing is deprecated; safe_indexing is deprecated in version 0.22 and will be removed in version 0.24.\n",
            "  warnings.warn(msg, category=FutureWarning)\n"
          ],
          "name": "stderr"
        },
        {
          "output_type": "display_data",
          "data": {
            "text/plain": [
              "{'classifier__solver': 'svd'}"
            ]
          },
          "metadata": {
            "tags": []
          }
        },
        {
          "output_type": "stream",
          "text": [
            "[Parallel(n_jobs=-1)]: Using backend LokyBackend with 2 concurrent workers.\n"
          ],
          "name": "stderr"
        },
        {
          "output_type": "stream",
          "text": [
            "KNN-5\n",
            "\t- Requires scaling and not scaled. Doing it now...\n",
            "Fitting 2 folds for each of 4 candidates, totalling 8 fits\n"
          ],
          "name": "stdout"
        },
        {
          "output_type": "stream",
          "text": [
            "[Parallel(n_jobs=-1)]: Done   8 out of   8 | elapsed:    1.1s finished\n",
            "/usr/local/lib/python3.7/dist-packages/sklearn/utils/deprecation.py:87: FutureWarning: Function safe_indexing is deprecated; safe_indexing is deprecated in version 0.22 and will be removed in version 0.24.\n",
            "  warnings.warn(msg, category=FutureWarning)\n"
          ],
          "name": "stderr"
        },
        {
          "output_type": "display_data",
          "data": {
            "text/plain": [
              "{'classifier__metric': 'manhattan', 'classifier__weights': 'uniform'}"
            ]
          },
          "metadata": {
            "tags": []
          }
        },
        {
          "output_type": "stream",
          "text": [
            "KNN-10\n",
            "\t- Requires scaling and not scaled. Doing it now...\n",
            "Fitting 2 folds for each of 4 candidates, totalling 8 fits\n"
          ],
          "name": "stdout"
        },
        {
          "output_type": "stream",
          "text": [
            "[Parallel(n_jobs=-1)]: Using backend LokyBackend with 2 concurrent workers.\n",
            "[Parallel(n_jobs=-1)]: Done   8 out of   8 | elapsed:    1.1s finished\n",
            "/usr/local/lib/python3.7/dist-packages/sklearn/utils/deprecation.py:87: FutureWarning: Function safe_indexing is deprecated; safe_indexing is deprecated in version 0.22 and will be removed in version 0.24.\n",
            "  warnings.warn(msg, category=FutureWarning)\n"
          ],
          "name": "stderr"
        },
        {
          "output_type": "display_data",
          "data": {
            "text/plain": [
              "{'classifier__metric': 'manhattan', 'classifier__weights': 'uniform'}"
            ]
          },
          "metadata": {
            "tags": []
          }
        },
        {
          "output_type": "stream",
          "text": [
            "\t- Adding for voting with weight <0.5>...\n",
            "GNB\n",
            "\t- Requires scaling and not scaled. Doing it now...\n",
            "Fitting 2 folds for each of 100 candidates, totalling 200 fits\n"
          ],
          "name": "stdout"
        },
        {
          "output_type": "stream",
          "text": [
            "[Parallel(n_jobs=-1)]: Using backend LokyBackend with 2 concurrent workers.\n",
            "[Parallel(n_jobs=-1)]: Done 200 out of 200 | elapsed:    1.4s finished\n",
            "/usr/local/lib/python3.7/dist-packages/sklearn/utils/deprecation.py:87: FutureWarning: Function safe_indexing is deprecated; safe_indexing is deprecated in version 0.22 and will be removed in version 0.24.\n",
            "  warnings.warn(msg, category=FutureWarning)\n"
          ],
          "name": "stderr"
        },
        {
          "output_type": "display_data",
          "data": {
            "text/plain": [
              "{'classifier__var_smoothing': 0.001}"
            ]
          },
          "metadata": {
            "tags": []
          }
        },
        {
          "output_type": "stream",
          "text": [
            "[Parallel(n_jobs=-1)]: Using backend LokyBackend with 2 concurrent workers.\n"
          ],
          "name": "stderr"
        },
        {
          "output_type": "stream",
          "text": [
            "DT\n",
            "Fitting 2 folds for each of 36 candidates, totalling 72 fits\n"
          ],
          "name": "stdout"
        },
        {
          "output_type": "stream",
          "text": [
            "[Parallel(n_jobs=-1)]: Done  72 out of  72 | elapsed:    0.9s finished\n",
            "/usr/local/lib/python3.7/dist-packages/sklearn/utils/deprecation.py:87: FutureWarning: Function safe_indexing is deprecated; safe_indexing is deprecated in version 0.22 and will be removed in version 0.24.\n",
            "  warnings.warn(msg, category=FutureWarning)\n"
          ],
          "name": "stderr"
        },
        {
          "output_type": "display_data",
          "data": {
            "text/plain": [
              "{'classifier__criterion': 'entropy', 'classifier__max_depth': 4}"
            ]
          },
          "metadata": {
            "tags": []
          }
        },
        {
          "output_type": "stream",
          "text": [
            "[Parallel(n_jobs=-1)]: Using backend LokyBackend with 2 concurrent workers.\n"
          ],
          "name": "stderr"
        },
        {
          "output_type": "stream",
          "text": [
            "\t- Adding for voting with weight <1>...\n",
            "SVC\n",
            "\t- Requires scaling and not scaled. Doing it now...\n",
            "Fitting 2 folds for each of 9 candidates, totalling 18 fits\n"
          ],
          "name": "stdout"
        },
        {
          "output_type": "stream",
          "text": [
            "[Parallel(n_jobs=-1)]: Done  18 out of  18 | elapsed:    0.9s finished\n",
            "/usr/local/lib/python3.7/dist-packages/sklearn/utils/deprecation.py:87: FutureWarning: Function safe_indexing is deprecated; safe_indexing is deprecated in version 0.22 and will be removed in version 0.24.\n",
            "  warnings.warn(msg, category=FutureWarning)\n"
          ],
          "name": "stderr"
        },
        {
          "output_type": "display_data",
          "data": {
            "text/plain": [
              "{'classifier__C': 1, 'classifier__gamma': 1, 'classifier__kernel': 'rbf'}"
            ]
          },
          "metadata": {
            "tags": []
          }
        },
        {
          "output_type": "stream",
          "text": [
            "\t- Adding for voting with weight <0.5>...\n",
            "RFC\n",
            "Fitting 2 folds for each of 24 candidates, totalling 48 fits\n"
          ],
          "name": "stdout"
        },
        {
          "output_type": "stream",
          "text": [
            "[Parallel(n_jobs=-1)]: Using backend LokyBackend with 2 concurrent workers.\n",
            "[Parallel(n_jobs=-1)]: Done  48 out of  48 | elapsed:   32.1s finished\n",
            "/usr/local/lib/python3.7/dist-packages/sklearn/utils/deprecation.py:87: FutureWarning: Function safe_indexing is deprecated; safe_indexing is deprecated in version 0.22 and will be removed in version 0.24.\n",
            "  warnings.warn(msg, category=FutureWarning)\n"
          ],
          "name": "stderr"
        },
        {
          "output_type": "display_data",
          "data": {
            "text/plain": [
              "{'classifier__bootstrap': False,\n",
              " 'classifier__max_depth': 100,\n",
              " 'classifier__max_features': 'auto',\n",
              " 'classifier__min_samples_leaf': 4,\n",
              " 'classifier__n_estimators': 512}"
            ]
          },
          "metadata": {
            "tags": []
          }
        },
        {
          "output_type": "stream",
          "text": [
            "\t- Adding for voting with weight <1>...\n",
            "XGB\n",
            "Fitting 2 folds for each of 24 candidates, totalling 48 fits\n"
          ],
          "name": "stdout"
        },
        {
          "output_type": "stream",
          "text": [
            "[Parallel(n_jobs=-1)]: Using backend LokyBackend with 2 concurrent workers.\n",
            "[Parallel(n_jobs=-1)]: Done  48 out of  48 | elapsed:    4.0s finished\n",
            "/usr/local/lib/python3.7/dist-packages/sklearn/utils/deprecation.py:87: FutureWarning: Function safe_indexing is deprecated; safe_indexing is deprecated in version 0.22 and will be removed in version 0.24.\n",
            "  warnings.warn(msg, category=FutureWarning)\n"
          ],
          "name": "stderr"
        },
        {
          "output_type": "display_data",
          "data": {
            "text/plain": [
              "{'classifier__colsample_bytree': 1.0,\n",
              " 'classifier__gamma': 5,\n",
              " 'classifier__max_depth': 3}"
            ]
          },
          "metadata": {
            "tags": []
          }
        },
        {
          "output_type": "stream",
          "text": [
            "\t- Adding for voting with weight <1>...\n",
            "\n",
            "\n",
            "Voting...\n",
            "Done\n"
          ],
          "name": "stdout"
        }
      ]
    },
    {
      "cell_type": "code",
      "metadata": {
        "colab": {
          "base_uri": "https://localhost:8080/",
          "height": 1000
        },
        "id": "0gfJfFGm_5y8",
        "outputId": "33ed0338-fc62-49dd-a6b7-a5744c0dd64e"
      },
      "source": [
        "accuracy_smoteenn,f1_smoteenn,precision_smoteenn,recall_smoteenn = try_all_classifiers(X_train_imp,X_test_imp,Y_train,Y_test, classifiers, sampling = \"SMOTEENN\",scaler=scaler)\n"
      ],
      "execution_count": 29,
      "outputs": [
        {
          "output_type": "stream",
          "text": [
            "SMOTEENN\n",
            "LR\n",
            "\t- Requires scaling and not scaled. Doing it now...\n",
            "Fitting 2 folds for each of 32 candidates, totalling 64 fits\n"
          ],
          "name": "stdout"
        },
        {
          "output_type": "stream",
          "text": [
            "[Parallel(n_jobs=-1)]: Using backend LokyBackend with 2 concurrent workers.\n",
            "[Parallel(n_jobs=-1)]: Done  46 tasks      | elapsed:   46.2s\n",
            "[Parallel(n_jobs=-1)]: Done  64 out of  64 | elapsed:  1.1min finished\n",
            "/usr/local/lib/python3.7/dist-packages/sklearn/utils/deprecation.py:87: FutureWarning: Function safe_indexing is deprecated; safe_indexing is deprecated in version 0.22 and will be removed in version 0.24.\n",
            "  warnings.warn(msg, category=FutureWarning)\n",
            "/usr/local/lib/python3.7/dist-packages/sklearn/utils/deprecation.py:87: FutureWarning: Function safe_indexing is deprecated; safe_indexing is deprecated in version 0.22 and will be removed in version 0.24.\n",
            "  warnings.warn(msg, category=FutureWarning)\n",
            "/usr/local/lib/python3.7/dist-packages/sklearn/utils/deprecation.py:87: FutureWarning: Function safe_indexing is deprecated; safe_indexing is deprecated in version 0.22 and will be removed in version 0.24.\n",
            "  warnings.warn(msg, category=FutureWarning)\n",
            "/usr/local/lib/python3.7/dist-packages/sklearn/utils/deprecation.py:87: FutureWarning: Function safe_indexing is deprecated; safe_indexing is deprecated in version 0.22 and will be removed in version 0.24.\n",
            "  warnings.warn(msg, category=FutureWarning)\n",
            "/usr/local/lib/python3.7/dist-packages/sklearn/linear_model/_logistic.py:1505: UserWarning: Setting penalty='none' will ignore the C and l1_ratio parameters\n",
            "  \"Setting penalty='none' will ignore the C and l1_ratio \"\n"
          ],
          "name": "stderr"
        },
        {
          "output_type": "display_data",
          "data": {
            "text/plain": [
              "{'classifier__C': 1e-08, 'classifier__penalty': 'none'}"
            ]
          },
          "metadata": {
            "tags": []
          }
        },
        {
          "output_type": "stream",
          "text": [
            "\t- Adding for voting with weight <1>...\n",
            "LDA\n",
            "\t- Requires scaling and not scaled. Doing it now...\n",
            "Fitting 2 folds for each of 3 candidates, totalling 6 fits\n"
          ],
          "name": "stdout"
        },
        {
          "output_type": "stream",
          "text": [
            "[Parallel(n_jobs=-1)]: Using backend LokyBackend with 2 concurrent workers.\n",
            "[Parallel(n_jobs=-1)]: Done   6 out of   6 | elapsed:    3.2s finished\n",
            "/usr/local/lib/python3.7/dist-packages/sklearn/utils/deprecation.py:87: FutureWarning: Function safe_indexing is deprecated; safe_indexing is deprecated in version 0.22 and will be removed in version 0.24.\n",
            "  warnings.warn(msg, category=FutureWarning)\n",
            "/usr/local/lib/python3.7/dist-packages/sklearn/utils/deprecation.py:87: FutureWarning: Function safe_indexing is deprecated; safe_indexing is deprecated in version 0.22 and will be removed in version 0.24.\n",
            "  warnings.warn(msg, category=FutureWarning)\n",
            "/usr/local/lib/python3.7/dist-packages/sklearn/utils/deprecation.py:87: FutureWarning: Function safe_indexing is deprecated; safe_indexing is deprecated in version 0.22 and will be removed in version 0.24.\n",
            "  warnings.warn(msg, category=FutureWarning)\n",
            "/usr/local/lib/python3.7/dist-packages/sklearn/utils/deprecation.py:87: FutureWarning: Function safe_indexing is deprecated; safe_indexing is deprecated in version 0.22 and will be removed in version 0.24.\n",
            "  warnings.warn(msg, category=FutureWarning)\n"
          ],
          "name": "stderr"
        },
        {
          "output_type": "display_data",
          "data": {
            "text/plain": [
              "{'classifier__solver': 'svd'}"
            ]
          },
          "metadata": {
            "tags": []
          }
        },
        {
          "output_type": "stream",
          "text": [
            "[Parallel(n_jobs=-1)]: Using backend LokyBackend with 2 concurrent workers.\n"
          ],
          "name": "stderr"
        },
        {
          "output_type": "stream",
          "text": [
            "KNN-5\n",
            "\t- Requires scaling and not scaled. Doing it now...\n",
            "Fitting 2 folds for each of 4 candidates, totalling 8 fits\n"
          ],
          "name": "stdout"
        },
        {
          "output_type": "stream",
          "text": [
            "[Parallel(n_jobs=-1)]: Done   8 out of   8 | elapsed:    8.0s finished\n",
            "/usr/local/lib/python3.7/dist-packages/sklearn/utils/deprecation.py:87: FutureWarning: Function safe_indexing is deprecated; safe_indexing is deprecated in version 0.22 and will be removed in version 0.24.\n",
            "  warnings.warn(msg, category=FutureWarning)\n",
            "/usr/local/lib/python3.7/dist-packages/sklearn/utils/deprecation.py:87: FutureWarning: Function safe_indexing is deprecated; safe_indexing is deprecated in version 0.22 and will be removed in version 0.24.\n",
            "  warnings.warn(msg, category=FutureWarning)\n",
            "/usr/local/lib/python3.7/dist-packages/sklearn/utils/deprecation.py:87: FutureWarning: Function safe_indexing is deprecated; safe_indexing is deprecated in version 0.22 and will be removed in version 0.24.\n",
            "  warnings.warn(msg, category=FutureWarning)\n",
            "/usr/local/lib/python3.7/dist-packages/sklearn/utils/deprecation.py:87: FutureWarning: Function safe_indexing is deprecated; safe_indexing is deprecated in version 0.22 and will be removed in version 0.24.\n",
            "  warnings.warn(msg, category=FutureWarning)\n"
          ],
          "name": "stderr"
        },
        {
          "output_type": "display_data",
          "data": {
            "text/plain": [
              "{'classifier__metric': 'manhattan', 'classifier__weights': 'uniform'}"
            ]
          },
          "metadata": {
            "tags": []
          }
        },
        {
          "output_type": "stream",
          "text": [
            "KNN-10\n",
            "\t- Requires scaling and not scaled. Doing it now...\n",
            "Fitting 2 folds for each of 4 candidates, totalling 8 fits\n"
          ],
          "name": "stdout"
        },
        {
          "output_type": "stream",
          "text": [
            "[Parallel(n_jobs=-1)]: Using backend LokyBackend with 2 concurrent workers.\n",
            "[Parallel(n_jobs=-1)]: Done   8 out of   8 | elapsed:    8.3s finished\n",
            "/usr/local/lib/python3.7/dist-packages/sklearn/utils/deprecation.py:87: FutureWarning: Function safe_indexing is deprecated; safe_indexing is deprecated in version 0.22 and will be removed in version 0.24.\n",
            "  warnings.warn(msg, category=FutureWarning)\n",
            "/usr/local/lib/python3.7/dist-packages/sklearn/utils/deprecation.py:87: FutureWarning: Function safe_indexing is deprecated; safe_indexing is deprecated in version 0.22 and will be removed in version 0.24.\n",
            "  warnings.warn(msg, category=FutureWarning)\n",
            "/usr/local/lib/python3.7/dist-packages/sklearn/utils/deprecation.py:87: FutureWarning: Function safe_indexing is deprecated; safe_indexing is deprecated in version 0.22 and will be removed in version 0.24.\n",
            "  warnings.warn(msg, category=FutureWarning)\n",
            "/usr/local/lib/python3.7/dist-packages/sklearn/utils/deprecation.py:87: FutureWarning: Function safe_indexing is deprecated; safe_indexing is deprecated in version 0.22 and will be removed in version 0.24.\n",
            "  warnings.warn(msg, category=FutureWarning)\n"
          ],
          "name": "stderr"
        },
        {
          "output_type": "display_data",
          "data": {
            "text/plain": [
              "{'classifier__metric': 'manhattan', 'classifier__weights': 'uniform'}"
            ]
          },
          "metadata": {
            "tags": []
          }
        },
        {
          "output_type": "stream",
          "text": [
            "\t- Adding for voting with weight <0.5>...\n",
            "GNB\n",
            "\t- Requires scaling and not scaled. Doing it now...\n",
            "Fitting 2 folds for each of 100 candidates, totalling 200 fits\n"
          ],
          "name": "stdout"
        },
        {
          "output_type": "stream",
          "text": [
            "[Parallel(n_jobs=-1)]: Using backend LokyBackend with 2 concurrent workers.\n",
            "[Parallel(n_jobs=-1)]: Done  46 tasks      | elapsed:   23.5s\n",
            "[Parallel(n_jobs=-1)]: Done 196 tasks      | elapsed:  1.7min\n",
            "[Parallel(n_jobs=-1)]: Done 200 out of 200 | elapsed:  1.7min finished\n",
            "/usr/local/lib/python3.7/dist-packages/sklearn/utils/deprecation.py:87: FutureWarning: Function safe_indexing is deprecated; safe_indexing is deprecated in version 0.22 and will be removed in version 0.24.\n",
            "  warnings.warn(msg, category=FutureWarning)\n",
            "/usr/local/lib/python3.7/dist-packages/sklearn/utils/deprecation.py:87: FutureWarning: Function safe_indexing is deprecated; safe_indexing is deprecated in version 0.22 and will be removed in version 0.24.\n",
            "  warnings.warn(msg, category=FutureWarning)\n",
            "/usr/local/lib/python3.7/dist-packages/sklearn/utils/deprecation.py:87: FutureWarning: Function safe_indexing is deprecated; safe_indexing is deprecated in version 0.22 and will be removed in version 0.24.\n",
            "  warnings.warn(msg, category=FutureWarning)\n",
            "/usr/local/lib/python3.7/dist-packages/sklearn/utils/deprecation.py:87: FutureWarning: Function safe_indexing is deprecated; safe_indexing is deprecated in version 0.22 and will be removed in version 0.24.\n",
            "  warnings.warn(msg, category=FutureWarning)\n"
          ],
          "name": "stderr"
        },
        {
          "output_type": "display_data",
          "data": {
            "text/plain": [
              "{'classifier__var_smoothing': 0.0008111308307896872}"
            ]
          },
          "metadata": {
            "tags": []
          }
        },
        {
          "output_type": "stream",
          "text": [
            "[Parallel(n_jobs=-1)]: Using backend LokyBackend with 2 concurrent workers.\n"
          ],
          "name": "stderr"
        },
        {
          "output_type": "stream",
          "text": [
            "DT\n",
            "Fitting 2 folds for each of 36 candidates, totalling 72 fits\n"
          ],
          "name": "stdout"
        },
        {
          "output_type": "stream",
          "text": [
            "[Parallel(n_jobs=-1)]: Done  46 tasks      | elapsed:   10.2s\n",
            "[Parallel(n_jobs=-1)]: Done  72 out of  72 | elapsed:   17.3s finished\n",
            "/usr/local/lib/python3.7/dist-packages/sklearn/utils/deprecation.py:87: FutureWarning: Function safe_indexing is deprecated; safe_indexing is deprecated in version 0.22 and will be removed in version 0.24.\n",
            "  warnings.warn(msg, category=FutureWarning)\n",
            "/usr/local/lib/python3.7/dist-packages/sklearn/utils/deprecation.py:87: FutureWarning: Function safe_indexing is deprecated; safe_indexing is deprecated in version 0.22 and will be removed in version 0.24.\n",
            "  warnings.warn(msg, category=FutureWarning)\n",
            "/usr/local/lib/python3.7/dist-packages/sklearn/utils/deprecation.py:87: FutureWarning: Function safe_indexing is deprecated; safe_indexing is deprecated in version 0.22 and will be removed in version 0.24.\n",
            "  warnings.warn(msg, category=FutureWarning)\n",
            "/usr/local/lib/python3.7/dist-packages/sklearn/utils/deprecation.py:87: FutureWarning: Function safe_indexing is deprecated; safe_indexing is deprecated in version 0.22 and will be removed in version 0.24.\n",
            "  warnings.warn(msg, category=FutureWarning)\n"
          ],
          "name": "stderr"
        },
        {
          "output_type": "display_data",
          "data": {
            "text/plain": [
              "{'classifier__criterion': 'entropy', 'classifier__max_depth': 30}"
            ]
          },
          "metadata": {
            "tags": []
          }
        },
        {
          "output_type": "stream",
          "text": [
            "\t- Adding for voting with weight <1>...\n",
            "SVC\n",
            "\t- Requires scaling and not scaled. Doing it now...\n",
            "Fitting 2 folds for each of 9 candidates, totalling 18 fits\n"
          ],
          "name": "stdout"
        },
        {
          "output_type": "stream",
          "text": [
            "[Parallel(n_jobs=-1)]: Using backend LokyBackend with 2 concurrent workers.\n",
            "[Parallel(n_jobs=-1)]: Done  18 out of  18 | elapsed:   33.6s finished\n",
            "/usr/local/lib/python3.7/dist-packages/sklearn/utils/deprecation.py:87: FutureWarning: Function safe_indexing is deprecated; safe_indexing is deprecated in version 0.22 and will be removed in version 0.24.\n",
            "  warnings.warn(msg, category=FutureWarning)\n",
            "/usr/local/lib/python3.7/dist-packages/sklearn/utils/deprecation.py:87: FutureWarning: Function safe_indexing is deprecated; safe_indexing is deprecated in version 0.22 and will be removed in version 0.24.\n",
            "  warnings.warn(msg, category=FutureWarning)\n",
            "/usr/local/lib/python3.7/dist-packages/sklearn/utils/deprecation.py:87: FutureWarning: Function safe_indexing is deprecated; safe_indexing is deprecated in version 0.22 and will be removed in version 0.24.\n",
            "  warnings.warn(msg, category=FutureWarning)\n",
            "/usr/local/lib/python3.7/dist-packages/sklearn/utils/deprecation.py:87: FutureWarning: Function safe_indexing is deprecated; safe_indexing is deprecated in version 0.22 and will be removed in version 0.24.\n",
            "  warnings.warn(msg, category=FutureWarning)\n"
          ],
          "name": "stderr"
        },
        {
          "output_type": "display_data",
          "data": {
            "text/plain": [
              "{'classifier__C': 1, 'classifier__gamma': 1, 'classifier__kernel': 'rbf'}"
            ]
          },
          "metadata": {
            "tags": []
          }
        },
        {
          "output_type": "stream",
          "text": [
            "\t- Adding for voting with weight <0.5>...\n",
            "RFC\n",
            "Fitting 2 folds for each of 24 candidates, totalling 48 fits\n"
          ],
          "name": "stdout"
        },
        {
          "output_type": "stream",
          "text": [
            "[Parallel(n_jobs=-1)]: Using backend LokyBackend with 2 concurrent workers.\n",
            "[Parallel(n_jobs=-1)]: Done  48 out of  48 | elapsed:  3.7min finished\n",
            "/usr/local/lib/python3.7/dist-packages/sklearn/utils/deprecation.py:87: FutureWarning: Function safe_indexing is deprecated; safe_indexing is deprecated in version 0.22 and will be removed in version 0.24.\n",
            "  warnings.warn(msg, category=FutureWarning)\n",
            "/usr/local/lib/python3.7/dist-packages/sklearn/utils/deprecation.py:87: FutureWarning: Function safe_indexing is deprecated; safe_indexing is deprecated in version 0.22 and will be removed in version 0.24.\n",
            "  warnings.warn(msg, category=FutureWarning)\n",
            "/usr/local/lib/python3.7/dist-packages/sklearn/utils/deprecation.py:87: FutureWarning: Function safe_indexing is deprecated; safe_indexing is deprecated in version 0.22 and will be removed in version 0.24.\n",
            "  warnings.warn(msg, category=FutureWarning)\n",
            "/usr/local/lib/python3.7/dist-packages/sklearn/utils/deprecation.py:87: FutureWarning: Function safe_indexing is deprecated; safe_indexing is deprecated in version 0.22 and will be removed in version 0.24.\n",
            "  warnings.warn(msg, category=FutureWarning)\n"
          ],
          "name": "stderr"
        },
        {
          "output_type": "display_data",
          "data": {
            "text/plain": [
              "{'classifier__bootstrap': False,\n",
              " 'classifier__max_depth': 100,\n",
              " 'classifier__max_features': 'auto',\n",
              " 'classifier__min_samples_leaf': 4,\n",
              " 'classifier__n_estimators': 512}"
            ]
          },
          "metadata": {
            "tags": []
          }
        },
        {
          "output_type": "stream",
          "text": [
            "\t- Adding for voting with weight <1>...\n",
            "XGB\n",
            "Fitting 2 folds for each of 24 candidates, totalling 48 fits\n"
          ],
          "name": "stdout"
        },
        {
          "output_type": "stream",
          "text": [
            "[Parallel(n_jobs=-1)]: Using backend LokyBackend with 2 concurrent workers.\n",
            "[Parallel(n_jobs=-1)]: Done  48 out of  48 | elapsed:   40.8s finished\n",
            "/usr/local/lib/python3.7/dist-packages/sklearn/utils/deprecation.py:87: FutureWarning: Function safe_indexing is deprecated; safe_indexing is deprecated in version 0.22 and will be removed in version 0.24.\n",
            "  warnings.warn(msg, category=FutureWarning)\n",
            "/usr/local/lib/python3.7/dist-packages/sklearn/utils/deprecation.py:87: FutureWarning: Function safe_indexing is deprecated; safe_indexing is deprecated in version 0.22 and will be removed in version 0.24.\n",
            "  warnings.warn(msg, category=FutureWarning)\n",
            "/usr/local/lib/python3.7/dist-packages/sklearn/utils/deprecation.py:87: FutureWarning: Function safe_indexing is deprecated; safe_indexing is deprecated in version 0.22 and will be removed in version 0.24.\n",
            "  warnings.warn(msg, category=FutureWarning)\n",
            "/usr/local/lib/python3.7/dist-packages/sklearn/utils/deprecation.py:87: FutureWarning: Function safe_indexing is deprecated; safe_indexing is deprecated in version 0.22 and will be removed in version 0.24.\n",
            "  warnings.warn(msg, category=FutureWarning)\n"
          ],
          "name": "stderr"
        },
        {
          "output_type": "display_data",
          "data": {
            "text/plain": [
              "{'classifier__colsample_bytree': 0.8,\n",
              " 'classifier__gamma': 0.5,\n",
              " 'classifier__max_depth': 6}"
            ]
          },
          "metadata": {
            "tags": []
          }
        },
        {
          "output_type": "stream",
          "text": [
            "\t- Adding for voting with weight <1>...\n",
            "\n",
            "\n",
            "Voting...\n"
          ],
          "name": "stdout"
        },
        {
          "output_type": "stream",
          "text": [
            "/usr/local/lib/python3.7/dist-packages/joblib/externals/loky/process_executor.py:691: UserWarning: A worker stopped while some jobs were given to the executor. This can be caused by a too short worker timeout or by a memory leak.\n",
            "  \"timeout or by a memory leak.\", UserWarning\n"
          ],
          "name": "stderr"
        },
        {
          "output_type": "stream",
          "text": [
            "Done\n"
          ],
          "name": "stdout"
        }
      ]
    },
    {
      "cell_type": "code",
      "metadata": {
        "colab": {
          "base_uri": "https://localhost:8080/"
        },
        "id": "B9Zjk_Lr_9Xv",
        "outputId": "1b082e3f-a5f9-432f-bf14-0681b97795fe"
      },
      "source": [
        "print(\"Imputer & Sampling & Metric & \",end = \"\")\n",
        "print(*classifiers_names,sep = \" & \", end = \" \\\\\\\\\\n\")\n",
        "print(\"\\\\hline \\\\hline\")\n",
        "print(\"Simple & No & Acc & \",end=\"\")\n",
        "print(*['%.2f' % elem for elem in accuracy],sep=\" & \", end = \" \\\\\\\\\\n\")\n",
        "print(\"~ & ~ & Prec & \",end=\"\")\n",
        "print(*['%.2f' % elem for elem in precision],sep=\" & \", end = \" \\\\\\\\\\n\")\n",
        "print(\"~ & ~ & Rec & \",end=\"\")\n",
        "print(*['%.2f' % elem for elem in recall],sep=\" & \", end = \" \\\\\\\\\\n\")\n",
        "print(\"~ & ~ & F1 & \",end=\"\")\n",
        "print(*['%.2f' % elem for elem in f1],sep=\" & \", end = \" \\\\\\\\\\n\")\n",
        "print(\"\\cline{2-13}\")\n",
        "\n",
        "print(\"~ & SMOTE & Acc & \",end=\"\")\n",
        "print(*['%.2f' % elem for elem in accuracy_sm],sep=\" & \", end = \" \\\\\\\\\\n\")\n",
        "print(\"~ & ~ & Prec & \",end=\"\")\n",
        "print(*['%.2f' % elem for elem in precision_sm],sep=\" & \", end = \" \\\\\\\\\\n\")\n",
        "print(\"~ & ~ & Rec & \",end=\"\")\n",
        "print(*['%.2f' % elem for elem in recall_sm],sep=\" & \", end = \" \\\\\\\\\\n\")\n",
        "print(\"~ & ~ & F1 & \",end=\"\")\n",
        "print(*['%.2f' % elem for elem in f1_sm],sep=\" & \", end = \" \\\\\\\\\\n\")\n",
        "print(\"\\cline{2-13}\")\n",
        "\n",
        "print(\"~ & RUS & Acc & \",end=\"\")\n",
        "print(*['%.2f' % elem for elem in accuracy_rus],sep=\" & \", end = \" \\\\\\\\\\n\")\n",
        "print(\"~ & ~ & Prec & \",end=\"\")\n",
        "print(*['%.2f' % elem for elem in precision_rus],sep=\" & \", end = \" \\\\\\\\\\n\")\n",
        "print(\"~ & ~ & Rec & \",end=\"\")\n",
        "print(*['%.2f' % elem for elem in recall_rus],sep=\" & \", end = \" \\\\\\\\\\n\")\n",
        "print(\"~ & ~ & F1 & \",end=\"\")\n",
        "print(*['%.2f' % elem for elem in f1_rus],sep=\" & \", end = \" \\\\\\\\\\n\")\n",
        "print(\"\\cline{2-13}\")\n",
        "\n",
        "\n",
        "print(\"~ & SMOTE- & Acc & \",end=\"\")\n",
        "print(*['%.2f' % elem for elem in accuracy_smoteenn],sep=\" & \", end = \" \\\\\\\\\\n\")\n",
        "print(\"~ & ENN & Prec & \",end=\"\")\n",
        "print(*['%.2f' % elem for elem in precision_smoteenn],sep=\" & \", end = \" \\\\\\\\\\n\")\n",
        "print(\"~ & ~ & Rec & \",end=\"\")\n",
        "print(*['%.2f' % elem for elem in recall_smoteenn],sep=\" & \", end = \" \\\\\\\\\\n\")\n",
        "print(\"~ & ~ & F1 & \",end=\"\")\n",
        "print(*['%.2f' % elem for elem in f1_smoteenn],sep=\" & \", end = \" \\\\\\\\\\n\")\n",
        "print(\"\\\\hline\\\\hline\")\n",
        "\n",
        "\n"
      ],
      "execution_count": 30,
      "outputs": [
        {
          "output_type": "stream",
          "text": [
            "Imputer & Sampling & Metric & LR & LDA & KNN-5 & KNN-10 & GNB & DT & SVC & RFC & XGB & Voting \\\\\n",
            "\\hline \\hline\n",
            "Simple & No & Acc & 0.96 & 0.96 & 0.96 & 0.96 & 0.06 & 0.96 & 0.96 & 0.96 & 0.96 & 0.96 \\\\\n",
            "~ & ~ & Prec & 0.00 & 0.00 & 0.43 & 0.00 & 0.04 & 0.38 & 0.00 & 0.61 & 0.74 & 0.80 \\\\\n",
            "~ & ~ & Rec & 0.00 & 0.00 & 0.03 & 0.00 & 0.96 & 0.16 & 0.00 & 0.14 & 0.17 & 0.12 \\\\\n",
            "~ & ~ & F1 & 0.00 & 0.00 & 0.06 & 0.00 & 0.08 & 0.23 & 0.00 & 0.23 & 0.28 & 0.21 \\\\\n",
            "\\cline{2-13}\n",
            "~ & SMOTE & Acc & 0.95 & 0.96 & 0.83 & 0.83 & 0.07 & 0.92 & 0.94 & 0.95 & 0.93 & 0.95 \\\\\n",
            "~ & ~ & Prec & 0.00 & 0.00 & 0.06 & 0.07 & 0.04 & 0.18 & 0.23 & 0.31 & 0.22 & 0.32 \\\\\n",
            "~ & ~ & Rec & 0.00 & 0.00 & 0.23 & 0.25 & 0.96 & 0.30 & 0.26 & 0.23 & 0.29 & 0.16 \\\\\n",
            "~ & ~ & F1 & 0.00 & 0.00 & 0.10 & 0.11 & 0.08 & 0.22 & 0.24 & 0.26 & 0.25 & 0.21 \\\\\n",
            "\\cline{2-13}\n",
            "~ & RUS & Acc & 0.92 & 0.93 & 0.78 & 0.88 & 0.48 & 0.77 & 0.95 & 0.85 & 0.88 & 0.92 \\\\\n",
            "~ & ~ & Prec & 0.03 & 0.06 & 0.07 & 0.11 & 0.04 & 0.07 & 0.03 & 0.13 & 0.14 & 0.18 \\\\\n",
            "~ & ~ & Rec & 0.03 & 0.05 & 0.37 & 0.28 & 0.50 & 0.39 & 0.01 & 0.51 & 0.42 & 0.31 \\\\\n",
            "~ & ~ & F1 & 0.03 & 0.06 & 0.12 & 0.15 & 0.07 & 0.12 & 0.01 & 0.21 & 0.22 & 0.23 \\\\\n",
            "\\cline{2-13}\n",
            "~ & SMOTE- & Acc & 0.90 & 0.96 & 0.79 & 0.78 & 0.08 & 0.87 & 0.88 & 0.94 & 0.91 & 0.95 \\\\\n",
            "~ & ENN & Prec & 0.06 & 0.00 & 0.07 & 0.06 & 0.04 & 0.13 & 0.13 & 0.26 & 0.18 & 0.30 \\\\\n",
            "~ & ~ & Rec & 0.09 & 0.00 & 0.32 & 0.31 & 0.93 & 0.37 & 0.33 & 0.26 & 0.31 & 0.25 \\\\\n",
            "~ & ~ & F1 & 0.07 & 0.00 & 0.11 & 0.10 & 0.07 & 0.19 & 0.18 & 0.26 & 0.22 & 0.27 \\\\\n",
            "\\hline\\hline\n"
          ],
          "name": "stdout"
        }
      ]
    },
    {
      "cell_type": "code",
      "metadata": {
        "colab": {
          "base_uri": "https://localhost:8080/"
        },
        "id": "D-YWsSUcAAPI",
        "outputId": "b7fe6087-6b00-44a5-888d-09c47b52d895"
      },
      "source": [
        "print('''\n",
        "| classifier          | Accuracy | Precision | Recall | F1 score |\n",
        "| =================== | ======== | ========= | ====== | ======== |''')\n",
        "for c,a,p,r,f in zip(classifiers_names,accuracy,precision,recall,f1):\n",
        "    print(c,\"  |  \",a,\"  |  \",p,\"  |  \",r,\"  |  \",f,\"  |  \")\n",
        "    \n",
        "print(\"\\n===============================================================\\n\")\n",
        "for c,a,p,r,f in zip(classifiers_names,accuracy_sm,precision_sm,recall_sm,f1_sm):\n",
        "    print(c,\"  |  \",a,\"  |  \",p,\"  |  \",r,\"  |  \",f,\"  |  \")\n",
        "\n",
        "print(\"\\n===============================================================\\n\")\n",
        "for c,a,p,r,f in zip(classifiers_names,accuracy_rus,precision_rus,recall_rus,f1_rus):\n",
        "    print(c,\"  |  \",a,\"  |  \",p,\"  |  \",r,\"  |  \",f,\"  |  \")\n",
        "  \n",
        "print(\"\\n===============================================================\\n\")\n",
        "for c,a,p,r,f in zip(classifiers_names,accuracy_smoteenn,precision_smoteenn,recall_smoteenn,f1_smoteenn):\n",
        "    print(c,\"  |  \",a,\"  |  \",p,\"  |  \",r,\"  |  \",f,\"  |  \")\n",
        " "
      ],
      "execution_count": 31,
      "outputs": [
        {
          "output_type": "stream",
          "text": [
            "\n",
            "| classifier          | Accuracy | Precision | Recall | F1 score |\n",
            "| =================== | ======== | ========= | ====== | ======== |\n",
            "LR   |   0.9603332011106703   |   0.0   |   0.0   |   0.0   |  \n",
            "LDA   |   0.9595398651328838   |   0.0   |   0.0   |   0.0   |  \n",
            "KNN-5   |   0.9599365331217771   |   0.42857142857142855   |   0.03   |   0.056074766355140186   |  \n",
            "KNN-10   |   0.9591431971439904   |   0.0   |   0.0   |   0.0   |  \n",
            "GNB   |   0.0634668782229274   |   0.03913575214023644   |   0.96   |   0.07520564042303172   |  \n",
            "DT   |   0.9563665212217374   |   0.38095238095238093   |   0.16   |   0.22535211267605634   |  \n",
            "SVC   |   0.9603332011106703   |   0.0   |   0.0   |   0.0   |  \n",
            "RFC   |   0.9623165410551369   |   0.6086956521739131   |   0.14   |   0.22764227642276424   |  \n",
            "XGB   |   0.9646965489884967   |   0.7391304347826086   |   0.17   |   0.2764227642276423   |  \n",
            "Voting   |   0.96390321301071   |   0.8   |   0.12   |   0.20869565217391303   |  \n",
            "\n",
            "===============================================================\n",
            "\n",
            "LR   |   0.9539865132883776   |   0.0   |   0.0   |   0.0   |  \n",
            "LDA   |   0.9583498611662039   |   0.0   |   0.0   |   0.0   |  \n",
            "KNN-5   |   0.8266560888536295   |   0.06005221932114883   |   0.23   |   0.09523809523809525   |  \n",
            "KNN-10   |   0.8345894486314954   |   0.0681198910081744   |   0.25   |   0.10706638115631692   |  \n",
            "GNB   |   0.06783022610075366   |   0.03931203931203931   |   0.96   |   0.07553107789142408   |  \n",
            "DT   |   0.9178897262990877   |   0.17964071856287425   |   0.3   |   0.2247191011235955   |  \n",
            "SVC   |   0.935739785799286   |   0.22807017543859648   |   0.26   |   0.24299065420560748   |  \n",
            "RFC   |   0.9488298294327647   |   0.30666666666666664   |   0.23   |   0.2628571428571429   |  \n",
            "XGB   |   0.9301864339547798   |   0.21641791044776118   |   0.29   |   0.24786324786324784   |  \n",
            "Voting   |   0.953193177310591   |   0.32   |   0.16   |   0.21333333333333335   |  \n",
            "\n",
            "===============================================================\n",
            "\n",
            "LR   |   0.9226497421658072   |   0.0297029702970297   |   0.03   |   0.029850746268656716   |  \n",
            "LDA   |   0.9325664418881396   |   0.0625   |   0.05   |   0.05555555555555556   |  \n",
            "KNN-5   |   0.7762792542641809   |   0.0687732342007435   |   0.37   |   0.11598746081504703   |  \n",
            "KNN-10   |   0.8774295914319714   |   0.10566037735849057   |   0.28   |   0.15342465753424658   |  \n",
            "GNB   |   0.475208250694169   |   0.03779289493575208   |   0.5   |   0.07027406886858749   |  \n",
            "DT   |   0.7663625545418484   |   0.06878306878306878   |   0.39   |   0.1169415292353823   |  \n",
            "SVC   |   0.9476398254660849   |   0.029411764705882353   |   0.01   |   0.01492537313432836   |  \n",
            "RFC   |   0.8468861562871877   |   0.13144329896907217   |   0.51   |   0.20901639344262296   |  \n",
            "XGB   |   0.8786195953986513   |   0.14482758620689656   |   0.42   |   0.2153846153846154   |  \n",
            "Voting   |   0.9170963903213011   |   0.18128654970760233   |   0.31   |   0.2287822878228782   |  \n",
            "\n",
            "===============================================================\n",
            "\n",
            "LR   |   0.9047996826656088   |   0.056962025316455694   |   0.09   |   0.06976744186046512   |  \n",
            "LDA   |   0.9559698532328441   |   0.0   |   0.0   |   0.0   |  \n",
            "KNN-5   |   0.7929393097976993   |   0.06584362139917696   |   0.32   |   0.10921501706484643   |  \n",
            "KNN-10   |   0.7830226100753669   |   0.060903732809430254   |   0.31   |   0.10180623973727422   |  \n",
            "GNB   |   0.07973026576755256   |   0.03865336658354115   |   0.93   |   0.07422186751795691   |  \n",
            "DT   |   0.8738595795319317   |   0.1267123287671233   |   0.37   |   0.18877551020408165   |  \n",
            "SVC   |   0.8825862752875843   |   0.12595419847328243   |   0.33   |   0.18232044198895025   |  \n",
            "RFC   |   0.9416898056326855   |   0.26262626262626265   |   0.26   |   0.2613065326633166   |  \n",
            "XGB   |   0.9147163823879413   |   0.1751412429378531   |   0.31   |   0.22382671480144403   |  \n",
            "Voting   |   0.9472431574771916   |   0.30120481927710846   |   0.25   |   0.273224043715847   |  \n"
          ],
          "name": "stdout"
        }
      ]
    }
  ]
}